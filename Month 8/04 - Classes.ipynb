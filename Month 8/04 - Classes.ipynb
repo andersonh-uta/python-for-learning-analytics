{
 "cells": [
  {
   "cell_type": "markdown",
   "id": "8151881b-87e6-4800-9357-360209bd1835",
   "metadata": {},
   "source": [
    "# Classes and Objects in Python\n",
    "\n",
    "I've been avoiding talking about this for a while.  Classes and object-orientation aren't actually needed to write good code, and they introduce a lot of really abstract ideas that are kind of hard to explain concisely without leaving something out.  But, PyTorch is built around classes, so we need to do a quick tour of them.\n",
    "\n",
    "Python is a weird language in a lot of ways.  It's a _multi-paradigm_ language, meaning you can write code basically however you want, but the implementation of the language is extremely _object-oriented._  This means that the language is built around things called \"objects\" and their methods.\n",
    "\n",
    "We've already seen lots of methods:"
   ]
  },
  {
   "cell_type": "code",
   "execution_count": 1,
   "id": "61bf0a44-464e-43da-b561-9254e5590cc3",
   "metadata": {},
   "outputs": [
    {
     "name": "stdout",
     "output_type": "stream",
     "text": [
      "BLAH BLAH BLAH\n",
      "[1, 2, 3]\n",
      "[1, 2, 3, 4]\n"
     ]
    }
   ],
   "source": [
    "print(\"blah blah blah\".upper())\n",
    "\n",
    "x = [1,2,3]\n",
    "print(x)\n",
    "x.append(4)\n",
    "print(x)"
   ]
  },
  {
   "cell_type": "markdown",
   "id": "6d3d675b-0f1b-48aa-96c5-e35559b6a180",
   "metadata": {},
   "source": [
    "And so on. We've alo talked about types:"
   ]
  },
  {
   "cell_type": "code",
   "execution_count": 2,
   "id": "04e01105-db4b-49d1-b4ba-2cfca9303c59",
   "metadata": {},
   "outputs": [
    {
     "name": "stdout",
     "output_type": "stream",
     "text": [
      "<class 'str'>\n",
      "<class 'list'>\n"
     ]
    }
   ],
   "source": [
    "print(type(\"blah blah\"))\n",
    "print(type([1,2,3]))"
   ]
  },
  {
   "cell_type": "markdown",
   "id": "8d3942f1-b4ee-40cc-ace2-54e9a6d7d3da",
   "metadata": {},
   "source": [
    "But now, let's see how these actually work.\n",
    "\n",
    "First, a definition.  An _object_, in programming terms, is just a fancy word for \"thing.\"  It's the most abstract and general kind of thing that a thing can be.  (Unless you're one of those cool functional programming languages like Haskell, or some systems programming languages like C).  In Python, an object does two main things:\n",
    "1. It stores data inside it.\n",
    "2. It stores some functions inside it (these are the methods).\n",
    "\n",
    "`class`es are most often used for a few things:\n",
    "1. When you have _mutable data_, and function that only make sense on that kind of data, and which usually need to make changes to that data.\n",
    "2. (Specific to Python) Overriding some special methods to change how, e.g., addition works for your class.\n",
    "3. Writing functions that need to _only_ work on certain kinds of data.  E.g.: if you create a class for a 6-sided die, you might write a method `roll()`, so you can say `die.roll()`.  But it doesn't make sense to `roll()`, say, a list.\n",
    "4. Writing functions that have the same name, but do different things depending on the class they're attached to.\n",
    "    - This is how scikit-learn uses them.  Every model's class has a `.fit()` method; each class defines this totally differently, but it does the same thing, conceptually.\n",
    "    - This is a broader design pattern called _multiple dispatch._  In general: the same function name behaves differently depending on the types of its arguments.  Class methods implement a special case of multiple dispatch--_single dispatch_--where only the first argument is used.\n",
    "\n",
    "Python calls its object `class`es.  Let's build a simple one.  We'll make a simple counter that we can increment."
   ]
  },
  {
   "cell_type": "code",
   "execution_count": 3,
   "id": "8b51f81b-7330-43d4-b4f8-fb29c3b5bcc8",
   "metadata": {},
   "outputs": [
    {
     "name": "stdout",
     "output_type": "stream",
     "text": [
      "0\n",
      "10\n",
      "10\n"
     ]
    }
   ],
   "source": [
    "class Counter:\n",
    "    def __init__(self, count=0):\n",
    "        self.count = count\n",
    "        \n",
    "    def increment(self, amount=1):\n",
    "        # updates the .count attribute in-place\n",
    "        self.count += amount\n",
    "        # returns the count attribute\n",
    "        return self.count\n",
    "        \n",
    "my_counter = Counter()\n",
    "print(my_counter.count)\n",
    "print(my_counter.increment(10))\n",
    "print(my_counter.count)"
   ]
  },
  {
   "cell_type": "markdown",
   "id": "aa0937cf-0c07-49f1-bb85-5b79e3b0957e",
   "metadata": {},
   "source": [
    "Breaking this down:\n",
    "\n",
    "- `class Counter` starts an indented code block that contains all the definitions for our class.\n",
    "- `def` statements, inside of `class` blocks, define methods.\n",
    "- Method `def`initions' first argument (which is almost always `self`, but can be any name) is always interpreted as a reference to the current instance of the object.  Every method must have at least this one positional argument, and you can use it to make the method act on the current instance of the class.\n",
    "- `self.counter` is accessing an _attribute_ of the class.  An attribute is basically just a variable stored inside the class.  Python lets you write `self.counter = [something]` to directly set the value.\n",
    "- `__init__(self, ...)` is a special method that _initializes_ the class instance.  It is not alowed to return anything.  Usually, this sets any attributes that need to be there from the get-go.\n",
    "- `Counter()` creates a new _instance_ of the class, and calles the `__init__()` method to initialize it.\n",
    "\n",
    "`class`es are weird the first few times you see them, but they start to make sense pretty quickly.\n",
    "\n",
    "The biggest reason to use classes in Python is the special \"dunder\" (\"**d**ouble **under**score\") methods.  There are a lot of these that every object has.  Any method those name starts and ends with two underscores--like `__init__()`--is one of these special dunder methods.  There isn't actually anything special, code-wise, about them; the double underscore are just a naming convention to signal \"hey, this is a special method; Python will automatically look for a method with this name when you ask it to do certain things.\"\n",
    "\n",
    "Some common dunder methods that are available to all classes:\n",
    "- `__init__()`, which we already saw.\n",
    "- `__eq__()`, which defines how to check equality between instances of this class and another class.\n",
    "- `__add__()`, `__sub__()`, and others: defines how math infix operator work.\n",
    "- `__str__()`, `__repr__()`: defines how the `str()` and `repr()` functions work.\n",
    "- `__iter__()`: defines how the object behaves when you iterate through it, e.g., when you write `for i in my_class_instance:`.  It's not super common to see this overridden.\n",
    "\n",
    "Here's an example of messing with the above Counter class's special dunder methods."
   ]
  },
  {
   "cell_type": "code",
   "execution_count": 4,
   "id": "62775536-a725-4d9d-b316-d12f85ba8ad9",
   "metadata": {},
   "outputs": [
    {
     "name": "stdout",
     "output_type": "stream",
     "text": [
      "The counter's current value is 0.\n",
      "The counter's current value is 5.\n"
     ]
    }
   ],
   "source": [
    "class Counter:\n",
    "    def __init__(self, count=0):\n",
    "        self.count = count\n",
    "        \n",
    "    def increment(self, amount=1):\n",
    "        # updates the .count attribute in-place\n",
    "        self.count += amount\n",
    "        # returns the count attribute\n",
    "        return self.count\n",
    "    \n",
    "    def __add__(self, other):\n",
    "        self.count += other\n",
    "        return self\n",
    "    \n",
    "    def __str__(self):\n",
    "        return f\"The counter's current value is {self.count:,}.\"\n",
    "        \n",
    "my_counter = Counter()\n",
    "print(my_counter) # print() implicitly calls str(), which calls the .__str__() method\n",
    "my_counter = my_counter + 5 # the + operator calls the .__add__() method of the *left* argument.\n",
    "print(my_counter)"
   ]
  },
  {
   "cell_type": "markdown",
   "id": "dc83199c-3662-45ee-b763-9d85cf730da5",
   "metadata": {},
   "source": [
    "In Python, _everything_ in the language is implemented using the class interface. Some things--like the built-in data types--aren't _actually_ implemented using `class` statements, like above, but they do present all the same methods that are common to all objects.  So, for all intents and purposes, _types are classes_ in Python.\n",
    "\n",
    "Other thing that are classes: functions (including lambda functions).  Imported modules.  Numbers.  Error messages.\n",
    "\n",
    "As a side note, the fact that _functions are objects_ is why we can pass functions as arguments to other functions.  Which is a bit of a weird bit of logical acrobatics: we can do functional programming because Python is so obsessiely object-oriented!  (If that doesn't make sense, don't worry).\n",
    "\n",
    "# Inheritance\n",
    "\n",
    "Every `class` statement is basically just a template.  When you create an instance of that class, you make a copy of the template, and \"fill in\" a bunch of parts.  You can think of this as telling Python \"give me a [whatever the class is called], _but_ with these few values changed.\"\n",
    "\n",
    "You can tell Python to do something similar with the `class` definitions themselves: \"give me a class definition that looks like `Counter`, but with this one method (or maybe more than one method) defined differently.\"  This is called _inheritance:_ when you tell Python to do this, the new class you're creating _inherits_ all the properties of whatever the starting/base/parent class is, and you choose what is different.  Sometimes this is also called _subclassing._  Let's see a quick example.  We'll subclass our `Counter` class to make a `BackwardsCounter`, which will count down instead of up."
   ]
  },
  {
   "cell_type": "code",
   "execution_count": 5,
   "id": "ea7af76c-8fd5-427e-b645-9addb0d837fc",
   "metadata": {},
   "outputs": [
    {
     "name": "stdout",
     "output_type": "stream",
     "text": [
      "The counter's current value is -10.\n"
     ]
    }
   ],
   "source": [
    "class BackwardsCounter(Counter):      \n",
    "    def __add__(self, other):\n",
    "        self.count -= other\n",
    "        return self\n",
    "    \n",
    "my_backwards_counter = BackwardsCounter()\n",
    "my_backwards_counter = my_backwards_counter + 10\n",
    "print(my_backwards_counter)"
   ]
  },
  {
   "cell_type": "markdown",
   "id": "f7959c5c-bf09-4765-bccb-e9e0b83b44a3",
   "metadata": {},
   "source": [
    "The `(Counter)` part of the `class` definition tells Python to essentially make a copy of the `Counter` class definition, and to use all the methods/attributes defined there for `BackwardsCounter`, _unless_ you re-define some method or attribute here.  If you re-define something, use the new definition instead.  So in this example, the `__init__()`, `increment()`, and `__str__()` methods are all the same as for `Counter`; we've just changed what `__add__()` does.\n",
    "\n",
    "Or in other words: we've told Python \"make a new class.  It's exactly like `Counter`, except that `__add__()` works differently.\""
   ]
  },
  {
   "cell_type": "markdown",
   "id": "06e82456-4055-43db-818c-43ec6a2c0998",
   "metadata": {},
   "source": [
    "# Some musings on object-oriented design patterns\n",
    "\n",
    "Classes are not the same as object-oriented design.  Object-oriented design has rapidly fallen out of fashion in recent years, after getting extremely popular with the advent of C++ and Java (and Modula and Smalltalk, even earlier).  I will occasionally write and use classes as an organizational tool in my code, but increasingly, I find myself not using them unless I need to override one of the special dunder methods.  Everything you can do with a class can be done just as well with some functions, and that is often easier to read (especially for non-trivial programs), and easier to re-use.\n",
    "\n",
    "Here's the above counter logic, re-written using just functions:"
   ]
  },
  {
   "cell_type": "code",
   "execution_count": 6,
   "id": "8e9bb3be-7967-47d9-907e-f1986dc49e9a",
   "metadata": {},
   "outputs": [
    {
     "name": "stdout",
     "output_type": "stream",
     "text": [
      "The counter's current value is 15.\n"
     ]
    }
   ],
   "source": [
    "def increment(count, amount=1):\n",
    "    return count + amount\n",
    "\n",
    "def print_count(count):\n",
    "    print(f\"The counter's current value is {count:,}.\")\n",
    "    \n",
    "count = 0\n",
    "count = count + 10\n",
    "count = increment(count, 5)\n",
    "print_count(count)"
   ]
  },
  {
   "cell_type": "markdown",
   "id": "ccbb42d1-1e8b-4437-ad30-9362f9b51ad7",
   "metadata": {},
   "source": [
    "I strongly prefer this sort of programming style.  It does have two major drawbacks, though, that are worth being aware of.\n",
    "\n",
    "First, Python doesn't have any especially elegant ways to force a function to only accept arguments of a single type.  In the above code, `increment()` will try to run `count + amount` even if the types are incompatible.  And if they are compatible, but they're not numbers, you might get unexpected result (e.g.: passing two string will lead to concatenation).  Other languages with more explicit type systems have ways to do this, e.g., in C:\n",
    "```c\n",
    "#include <stdio.h>\n",
    "\n",
    "// This is roughly the C equivalent of a `class` statement\n",
    "// in Python\n",
    "typedef struct Counters {\n",
    "    int count;\n",
    "} Counter;\n",
    "\n",
    "// an error will be thrown if this function is given anything\n",
    "// other than a value of the `Counter` type, even if if it has\n",
    "// a .count field, and `c.count + 1` would be a valid operation.\n",
    "Counter increment(Counter c, int amount) {\n",
    "    c.count = c.count + amount;\n",
    "    return c;\n",
    "}\n",
    "\n",
    "int main(void) {\n",
    "    Counter c;\n",
    "    c.count = 10;\n",
    "    increment(c, 5);\n",
    "    \n",
    "    printf(\"The counter's value is %i.\\n\", c.count);\n",
    "    \n",
    "    return 0;\n",
    "}\n",
    "```\n",
    "\n",
    "Or Julia:\n",
    "```julia\n",
    "mutable struct Counter\n",
    "    count::Integer\n",
    "end\n",
    "\n",
    "function increment(counter::Counter, amount::Number = 1)\n",
    "    counter.count += amount\n",
    "    return counter\n",
    "end\n",
    "\n",
    "c = Counter(0)\n",
    "increment(c)\n",
    "println(\"The counter's value is $(c.count).\")\n",
    "```\n",
    "\n",
    "Python does have _a_ way to do this:\n",
    "```python\n",
    "def increment(c: Counter, amount: int) -> Counter:\n",
    "    if not isinstance(c, Counter):\n",
    "        raise ValueError(f\"Expected Counter, got {type(c)}.\")\n",
    "    if not isinstance(amount, int):\n",
    "        raise ValueError(f\"Expected int, got {type(amount)}.\")\n",
    "    c.count += amount\n",
    "    return c\n",
    "```\n",
    "\n",
    "Note that the type annotations in the function definition are _type hints,_ and are ignored by Python when running code.  They're hints to people reading your code about what the intended type are.  The `raise ValueError` lines actually cause the program to stop executing and throw an error message.\n",
    "\n",
    "If you want to _guarantee_ that the `increment` function can never be called on anything that isn't a `Counter`, the above code would work.  But putting `.increment()` as a method on `Counter` objects provides a much stronger guarantee, with a lot less code overhead and input validation.  However, this isn't really a concern when you're writing your own programs."
   ]
  },
  {
   "cell_type": "markdown",
   "id": "1b781dd1-d054-4410-9d46-222e3f5214a6",
   "metadata": {},
   "source": [
    "The second downside to functions versus methods is the whole single dispatch thing.  If we wanted to implement something like scikit-learn's models using purely functions, we'd need to do something like:\n",
    "\n",
    "```python\n",
    "def fit(model, x, y):\n",
    "    if isinstance(model, LinearSVM):\n",
    "        return fit_linear_svm(model, x, y)\n",
    "    elif isinstance(model, RandomForest):\n",
    "        return fit_random_forest(model, x, y)\n",
    "    # and so on\n",
    "```\n",
    "\n",
    "Or, rather than the one big `fit()` function, maybe we just require the end user to swap out `fit_linear_svm()` for `fit_random_forest()` themselves.  It probably isn't too much more work, but it does make the code a bit harder to swap out.  We probably need to pass our fit parameters to that function, whereas with the current way scikit-learn is written, we can define our models all in one place, then pass them around interchangeably after creating them.  That's harder to do in Python if everything is done through plain functions.  But, that isn't the case in other languages, again, like Julia:\n",
    "\n",
    "```julia\n",
    "mutable struct LinearSVM\n",
    "    # parameters go here\n",
    "end\n",
    "\n",
    "mutable struct RandomForest\n",
    "    # parameters go here\n",
    "end\n",
    "\n",
    "function fit(model::LinearSVM)\n",
    "    # do stuff to fit a linear SVM\n",
    "end\n",
    "\n",
    "function fit(model::RandomForest)\n",
    "    # do tuff to fit a random forest\n",
    "end\n",
    "\n",
    "svm = LinearSVM()\n",
    "fit(svm) # fits the SVM\n",
    "\n",
    "rf = RandomForest()\n",
    "fit(rf) # fits the random forest\n",
    "```\n",
    "\n",
    "Julia does this through a very pervasive multiple dispatch scheme.  Python doesn't have that, so the above code in Python would look like it does in scikit-learn:\n",
    "\n",
    "```python\n",
    "class LinearSVM:\n",
    "    # __init__, etc methods get defined\n",
    "    def fit(self, x, y):\n",
    "        # do the SVM fitting\n",
    "\n",
    "class RandomForest:\n",
    "    # __init__, etc methods get defined\n",
    "    def fit(self, x, y):\n",
    "        # do the random forest fitting\n",
    "\n",
    "svm = LinearSVM()\n",
    "svm.fit(x, y)\n",
    "\n",
    "rf = RandomForest()\n",
    "rf.fit(x, y)\n",
    "```\n",
    "\n",
    "However, all that being said: the time when you will _need_ to write classes in your own code is pretty small (unless you're using PyTorch).  But they're worth learning, because sometimes they can be very useful.\n",
    "\n",
    "As a final note, I'm not going to talk about object-oriented design paradigms for writing programs.  I think they're dumb, most of the time, and just add unnecessary complexity.  Avoid writing classes unless you have a specific need to, and even then, it's generally better to operate on those classes with function just as often as methods."
   ]
  },
  {
   "cell_type": "code",
   "execution_count": null,
   "id": "09b5c8ec-d71f-4302-8219-12704dcec4e3",
   "metadata": {},
   "outputs": [],
   "source": []
  }
 ],
 "metadata": {
  "kernelspec": {
   "display_name": "Python 3 (ipykernel)",
   "language": "python",
   "name": "python3"
  },
  "language_info": {
   "codemirror_mode": {
    "name": "ipython",
    "version": 3
   },
   "file_extension": ".py",
   "mimetype": "text/x-python",
   "name": "python",
   "nbconvert_exporter": "python",
   "pygments_lexer": "ipython3",
   "version": "3.10.4"
  }
 },
 "nbformat": 4,
 "nbformat_minor": 5
}
