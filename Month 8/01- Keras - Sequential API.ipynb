{
 "cells": [
  {
   "cell_type": "markdown",
   "id": "cebd29ac-be34-4cb4-94a3-31936785986f",
   "metadata": {},
   "source": [
    "# Keras: the Sequential API\n",
    "\n",
    "[Keras](https://keras.io/) is the easiest library to use for building and using neural networks.  It has two major ways to build models:\n",
    "1. The Sequential API (in this notebook), which looks and feels a lot like a `sklearn.pipeline.Pipeline()`.\n",
    "2. The functional API (in the next notebook), which looks and feels very different, but which allows a lot more flexibility.\n",
    "\n",
    "Keras once existed as a standalone library, but it's been incorporated into [Tensorflow](https://www.tensorflow.org/).  We will not be covering Tensorflow, but it's one of the biggest libaries out there for doing neural networks and general GPU-accelerated matrix operations.  (But it's also a pretty clunky library).  A few years back, Tensorflow absorbed Keras, and the Keras API is now available as a Tensorflow module.\n",
    "\n",
    "## A note on GPUs\n",
    "\n",
    "Welcome to a world of confusion, frustration, and borderline broken installers.\n",
    "\n",
    "Graphics Provessing Units (GPUs; also called \"video cards\") are a perfect tool for speeding up matrix multiplication--and neural networks are mostly matrix multiplication.  I'm not going to address the details here, but if you can make a GPU (rather than CPU) run matrix multiplication, it can often run it _much_ faster.  At least for large matrices.  But, not everyone has a GPU, and not all GPU manufacturers use the same tools to run stuff on their GPUs.  E.g.: NVidia uses CUDA to write GPU code; AMD uses ROCm; I forget what Intel calls theirs, but they have their own too.  Almost every library for neural networks supports CUDA, but more are supporting ROCm, and Intel's support is still pretty far behind (as are their dedicated GPUs).\n",
    "\n",
    "So if you want to use your GPU to run code faster--and for neural networks, we're talking 10x faster or more--you need to go through the hassle of installing the right driver and software toolchains and such for your card.  That can be very non-trivial to do.  It's getting better, but it's still a bit of a mess.  (Mostly because some libaries pin their dependency requirements to old versions of e.g. CUDA, which causes all sorts of conflicts when trying to do an actual project).\n",
    "\n",
    "Installing Tensorflow specifically is an exercize in pain, at least on Windows.  It can't be installed with conda if you want GPU support, because Google seemingly hasn't bothered.  It has to be installed through `pip` (the built-in package manager for Python).  It doesn't install all the dependencies it needs.  It doesn't always see your GPU.  It just generally doesn't always work.  So why are we using it?  Simple: if you can just get it to install, Keras is the easiest way to build neural networks.\n",
    "\n",
    "All the code in this notebook can be run without a GPU.  But it will be slower.  Not so slow it can't be run--we're not using very large networks--but for any non-trivial neural network, a GPU can literally be the difference between minutes and days of runtime.\n",
    "\n",
    "# Installation\n",
    "\n",
    "If you have an NVidia GPU, get ready for a few more commands than normal.  At least on Windows (whish I'm running this notebook from), we have to install `cudatoolkit` and `cudnn` to use GPU acceleration, then we have to use `pip`--not `conda`--to install tensorflow with GPU support. For whatever reason, the Tensorflow devs just don't bother to maintain the `conda` version of tensorflow very well (if at all).\n",
    "\n",
    "```bash\n",
    "conda install cudatoolkit cudnn\n",
    "python -m pip install -U pip\n",
    "python -m pip install tensorflow-gpu\n",
    "```\n",
    "\n",
    "This should install the correct versions of the CUDA tools.\n",
    "\n",
    "If you have no GPU, or you run into issues with the GPU installation:\n",
    "```bash\n",
    "conda install tensorflow\n",
    "```\n",
    "\n",
    "If you have an AMD GPU: Tensorflow does seem to support AMD's ROCm (which is their competitor to NVidia's CUDA), but I don't know how stable it is or how to install it.\n",
    "\n",
    "If you don't have a GPU at all, you're going to be stuck running code on CPU, which also means you'll be stuck running very simple models.  (fortunately the models in these notebooks are simple enough that you should have no real problems, other than the models running a bit slower).\n",
    "\n",
    "Then test your installation.  If you see a non-empty list when you run the command below, Tensorflow sees your GPU and will use it.  Otherwise, if you see an empty list (`[]`), it'll run on CPU.  The networks we're going to use in this notebook are small enough that they can run on CPU, but it'll just take a bit longer."
   ]
  },
  {
   "cell_type": "code",
   "execution_count": 1,
   "id": "cce81165-0063-4763-bac2-54ab38e9e56c",
   "metadata": {},
   "outputs": [
    {
     "name": "stdout",
     "output_type": "stream",
     "text": [
      "[PhysicalDevice(name='/physical_device:GPU:0', device_type='GPU')]\n"
     ]
    }
   ],
   "source": [
    "import tensorflow as tf\n",
    "print(tf.config.list_physical_devices('GPU'))"
   ]
  },
  {
   "cell_type": "markdown",
   "id": "15322844-e944-4d5d-aa47-66441ff45ffb",
   "metadata": {},
   "source": [
    "# Quickstart\n",
    "\n",
    "Most of the sequential API looks pretty similar no matter what kind of model you're building; just swap out some layers or parameters here and there.  The below cell shows a minimal working example of a model doing some simple regression on the [`diamonds`](https://www.tensorflow.org/datasets/catalog/diamonds) dataset."
   ]
  },
  {
   "cell_type": "code",
   "execution_count": 2,
   "id": "af342600-2066-4240-9911-e244de0d9949",
   "metadata": {},
   "outputs": [],
   "source": [
    "import os\n",
    "import pandas as pd\n",
    "from tensorflow import keras\n",
    "\n",
    "if os.path.isfile(\"diamonds.csv\"):\n",
    "    diamonds = pd.read_csv(\"diamonds.csv\")\n",
    "else:\n",
    "    diamonds = pd.read_csv(\"https://raw.githubusercontent.com/tidyverse/ggplot2/main/data-raw/diamonds.csv\")\n",
    "    diamonds.to_csv(\"diamonds.csv\", index=False)"
   ]
  },
  {
   "cell_type": "markdown",
   "id": "a0588970-81fb-49a2-8e19-aef8e98cbc99",
   "metadata": {},
   "source": [
    "We want to predict the `price` value for each diamond.  Let's do a bit of quick re-shaping--mostly, we want to one-hot encode the `cut`, `color`, and `clarity` columns."
   ]
  },
  {
   "cell_type": "code",
   "execution_count": 3,
   "id": "516a5962-c89b-4f5d-93bb-c51abc3e4e73",
   "metadata": {},
   "outputs": [
    {
     "name": "stdout",
     "output_type": "stream",
     "text": [
      "(10000, 27)\n",
      "(43941, 27)\n"
     ]
    }
   ],
   "source": [
    "diamonds = pd.get_dummies(\n",
    "    diamonds,\n",
    "    [\"color\", \"clarity\", \"cut\"],\n",
    ")\n",
    "\n",
    "# Train-test split; ~20% data for testing.\n",
    "diamonds = diamonds.sample(frac=1, replace=False).reset_index(drop=True)\n",
    "test = diamonds.loc[:9999]\n",
    "train = diamonds.loc[9999:]\n",
    "\n",
    "print(test.shape)\n",
    "print(train.shape)\n",
    "\n",
    "train_x = train.drop(columns=[\"price\"]).values\n",
    "test_x = test.drop(columns=[\"price\"]).values\n",
    "train_y = train[\"price\"].values\n",
    "test_y = test[\"price\"].values"
   ]
  },
  {
   "cell_type": "markdown",
   "id": "2dc340e6-8e9a-4fa5-a09b-d41afc287e93",
   "metadata": {},
   "source": [
    "Now, let's build a basic neural network.  We'll do three hidden layers of a moderate size, and configure it to use the squared error loss function."
   ]
  },
  {
   "cell_type": "code",
   "execution_count": 4,
   "id": "a1eaf365-666d-47c9-82d2-2a8a3e4870b7",
   "metadata": {},
   "outputs": [
    {
     "name": "stdout",
     "output_type": "stream",
     "text": [
      "Epoch 1/25\n",
      "155/155 [==============================] - 2s 6ms/step - loss: 20860076.0000 - val_loss: 14587597.0000\n",
      "Epoch 2/25\n",
      "155/155 [==============================] - 1s 5ms/step - loss: 14633757.0000 - val_loss: 13322415.0000\n",
      "Epoch 3/25\n",
      "155/155 [==============================] - 1s 4ms/step - loss: 11676443.0000 - val_loss: 7382992.0000\n",
      "Epoch 4/25\n",
      "155/155 [==============================] - 1s 4ms/step - loss: 4680777.0000 - val_loss: 3696271.7500\n",
      "Epoch 5/25\n",
      "155/155 [==============================] - 1s 4ms/step - loss: 3152125.7500 - val_loss: 3339129.0000\n",
      "Epoch 6/25\n",
      "155/155 [==============================] - 1s 4ms/step - loss: 2769036.0000 - val_loss: 3109834.2500\n",
      "Epoch 7/25\n",
      "155/155 [==============================] - 1s 5ms/step - loss: 2575686.7500 - val_loss: 2958942.2500\n",
      "Epoch 8/25\n",
      "155/155 [==============================] - 1s 4ms/step - loss: 2449928.2500 - val_loss: 2868925.2500\n",
      "Epoch 9/25\n",
      "155/155 [==============================] - 1s 4ms/step - loss: 2372119.2500 - val_loss: 2777412.5000\n",
      "Epoch 10/25\n",
      "155/155 [==============================] - 1s 5ms/step - loss: 2305841.7500 - val_loss: 2741306.0000\n",
      "Epoch 11/25\n",
      "155/155 [==============================] - 1s 5ms/step - loss: 2266423.2500 - val_loss: 2691112.0000\n",
      "Epoch 12/25\n",
      "155/155 [==============================] - 1s 4ms/step - loss: 2231154.7500 - val_loss: 2658702.7500\n",
      "Epoch 13/25\n",
      "155/155 [==============================] - 1s 4ms/step - loss: 2201273.5000 - val_loss: 2573479.0000\n",
      "Epoch 14/25\n",
      "155/155 [==============================] - 1s 5ms/step - loss: 2171128.7500 - val_loss: 2547808.2500\n",
      "Epoch 15/25\n",
      "155/155 [==============================] - 1s 5ms/step - loss: 2136757.7500 - val_loss: 2510951.7500\n",
      "Epoch 16/25\n",
      "155/155 [==============================] - 1s 5ms/step - loss: 2113386.7500 - val_loss: 2436339.5000\n",
      "Epoch 17/25\n",
      "155/155 [==============================] - 1s 5ms/step - loss: 2089126.3750 - val_loss: 2387610.5000\n",
      "Epoch 18/25\n",
      "155/155 [==============================] - 1s 5ms/step - loss: 2057026.6250 - val_loss: 2351753.5000\n",
      "Epoch 19/25\n",
      "155/155 [==============================] - 1s 5ms/step - loss: 2030967.0000 - val_loss: 2323530.2500\n",
      "Epoch 20/25\n",
      "155/155 [==============================] - 1s 5ms/step - loss: 2000835.8750 - val_loss: 2298540.0000\n",
      "Epoch 21/25\n",
      "155/155 [==============================] - 1s 5ms/step - loss: 1976907.7500 - val_loss: 2203013.0000\n",
      "Epoch 22/25\n",
      "155/155 [==============================] - 1s 5ms/step - loss: 1950766.1250 - val_loss: 2153935.7500\n",
      "Epoch 23/25\n",
      "155/155 [==============================] - 1s 5ms/step - loss: 1921159.1250 - val_loss: 2128949.0000\n",
      "Epoch 24/25\n",
      "155/155 [==============================] - 1s 5ms/step - loss: 1901327.8750 - val_loss: 2041717.3750\n",
      "Epoch 25/25\n",
      "155/155 [==============================] - 1s 5ms/step - loss: 1864157.8750 - val_loss: 1992407.1250\n",
      "313/313 [==============================] - 1s 2ms/step\n",
      "CPU times: total: 26 s\n",
      "Wall time: 21.2 s\n"
     ]
    }
   ],
   "source": [
    "%%time\n",
    "# Define a simple model\n",
    "model = keras.Sequential([\n",
    "    keras.layers.Dense(32),\n",
    "    keras.layers.Dense(32),\n",
    "    keras.layers.Dense(32),\n",
    "    keras.layers.Dense(1), # linear = no activation = identity\n",
    "])\n",
    "\n",
    "# Compile the model--this gets it ready to run and does some behind-the-scenes\n",
    "# optimizations.\n",
    "model.compile(\n",
    "    # ADAM is a very standard optimizer; it's a solid go-to for mos problems.\n",
    "    optimizer=keras.optimizers.Adam(),\n",
    "    \n",
    "    # squared error loss --> this network is analogous to least squared regression\n",
    "    loss=keras.losses.MeanSquaredError(),\n",
    "    \n",
    "    # Metrics to monitor during training--these will be printed out as the model\n",
    "    # trains.  The loss always gets printed out, so we're not going to specify\n",
    "    # this right now.\n",
    "    # metrics=[keras.metrics.MeanSquaredError()],\n",
    "    \n",
    "    # install the XLA library with conda and uncomment this line for extra speed,\n",
    "    # both on CPU and on GPU.\n",
    "    # jit_compile=True,\n",
    ")\n",
    "\n",
    "# Fit the model.\n",
    "# model.fit() updates the model in-place and returns some data\n",
    "# about the fit history, which can sometimes be useful.\n",
    "fit_history = model.fit(\n",
    "    train_x,\n",
    "    train_y,\n",
    "    \n",
    "    # how many samples to use at once.  Higher --> more GPU VRAM used, model\n",
    "    # iterates faster, but the model might actually converge slower.\n",
    "    batch_size=256,\n",
    "    \n",
    "    # how many passes to do over the data.  This is a pretty low value just\n",
    "    # for demonstration purposes.\n",
    "    epochs=25,\n",
    "    \n",
    "    # set aside this fraction of the training data for \"validation\"--used to\n",
    "    # monitor the progress of the model against a held-out dataset, kind of like\n",
    "    # cross-validation.\n",
    "    validation_split=0.1,\n",
    "    \n",
    "    # Callbacks = things to run after each batch.  There are a lot of options\n",
    "    # for these.\n",
    "    callbacks=[\n",
    "        # this callback can end the training process early if some score/monitored\n",
    "        # quantity reaches some criterion, e.g. changes only very little.\n",
    "        keras.callbacks.EarlyStopping(\n",
    "            # Monitor the validation split loss...\n",
    "            monitor=\"val_loss\",\n",
    "            \n",
    "            # ...and stop training when the loss hasn't decreaed by `min_delta`\n",
    "            # for `patience` epochs.\n",
    "            min_delta=0,\n",
    "            patience=5,\n",
    "        ),\n",
    "    ],\n",
    "    \n",
    "    # Print messages as training happens.\n",
    "    #  0 = silent, 1 = progress bar, 2 = one line per epoch.\n",
    "    # \"auto\" = usuaully use 1.\n",
    "    verbose=\"auto\",\n",
    ")\n",
    "\n",
    "predictions = model.predict(test_x)"
   ]
  },
  {
   "cell_type": "markdown",
   "id": "a1bca92a-f575-4e45-9d9d-9222cb3fb54a",
   "metadata": {},
   "source": [
    "Stripping away a lot of the comments and filler, here's the basic outline of a Keras model:\n",
    "\n",
    "```python\n",
    "model = keras.Sequential([layers])\n",
    "model.compile(options)\n",
    "fit_history = model.fit(x, y, other_options)\n",
    "predictions = model.predict(new_x)\n",
    "```\n",
    "\n",
    "We can also print out a summary of our model, which will show the layers, how many \"neurons\" they have (a \"neuron\" is just an entry in the vector that comes out of each layer), and a few other things.  In order to get the summary, though, the model has to know how many features are in the input observations.  Keras will figure this out automatically when we call `.fit()`, but we can also call `.build()` and pass it the shape of each observation.  In our case, that's just the shape of one row in our dataset.  It would look like this:\n",
    "\n",
    "```python\n",
    "model = keras.Sequential([...])\n",
    "model.build(diamonds.shape[1])\n",
    "print(model.summary())\n",
    "```\n",
    "\n",
    "_Or,_ we can tell the `Sequential()` model what the input shape is when we construct it, by giving it a `keras.layers.Input(diamonds.shape[1])` as the very first layer.\n",
    "\n",
    "Printing out the model summary can be a nice way to get a feel for the model:"
   ]
  },
  {
   "cell_type": "code",
   "execution_count": 5,
   "id": "04c02674-06a8-408c-9d80-92ef0bdd8798",
   "metadata": {},
   "outputs": [
    {
     "name": "stdout",
     "output_type": "stream",
     "text": [
      "Model: \"sequential\"\n",
      "_________________________________________________________________\n",
      " Layer (type)                Output Shape              Param #   \n",
      "=================================================================\n",
      " dense (Dense)               (None, 32)                864       \n",
      "                                                                 \n",
      " dense_1 (Dense)             (None, 32)                1056      \n",
      "                                                                 \n",
      " dense_2 (Dense)             (None, 32)                1056      \n",
      "                                                                 \n",
      " dense_3 (Dense)             (None, 1)                 33        \n",
      "                                                                 \n",
      "=================================================================\n",
      "Total params: 3,009\n",
      "Trainable params: 3,009\n",
      "Non-trainable params: 0\n",
      "_________________________________________________________________\n",
      "None\n"
     ]
    }
   ],
   "source": [
    "print(model.summary())"
   ]
  },
  {
   "cell_type": "markdown",
   "id": "909e4720-b683-45d5-93bc-8db443c23d98",
   "metadata": {},
   "source": [
    "Anyways, let's see how well our model does on the test set, and just for kicks, let's compare it to a simple linear regression from scikit-learn:"
   ]
  },
  {
   "cell_type": "code",
   "execution_count": 6,
   "id": "25b49f40-74ee-4bfb-ad5f-38e365caccda",
   "metadata": {},
   "outputs": [
    {
     "name": "stdout",
     "output_type": "stream",
     "text": [
      "CPU times: total: 125 ms\n",
      "Wall time: 43 ms\n",
      "Neural network R2 score:     0.8863\n",
      "Neural network MSE score:    1,845,888\n",
      "Linear Regression R2 score:  0.9197\n",
      "Linear Regression MSE score: 1,303,996\n"
     ]
    }
   ],
   "source": [
    "# Predict on our test set and print out R2 score.\n",
    "from sklearn.linear_model import LinearRegression\n",
    "from sklearn.metrics import r2_score, mean_squared_error\n",
    "\n",
    "%time lr_preds = LinearRegression().fit(train_x, train_y).predict(test_x)\n",
    "\n",
    "print(f\"Neural network R2 score:     {r2_score(test_y, predictions):.4f}\")\n",
    "print(f\"Neural network MSE score:    {mean_squared_error(test_y, predictions):,.0f}\")\n",
    "print(f\"Linear Regression R2 score:  {r2_score(test_y, lr_preds):.4f}\")\n",
    "print(f\"Linear Regression MSE score: {mean_squared_error(test_y, lr_preds):,.0f}\")"
   ]
  },
  {
   "cell_type": "markdown",
   "id": "14522b58-8f25-4cd9-80ad-fca9a66301ce",
   "metadata": {},
   "source": [
    "Oof.  That's...not looking too great for neural networks.  It was slow, it required a lot of finnicky installation of libaries, and it did worse!\n",
    "\n",
    "This is not the end of the story, though.  If our linear regression had done poorly, we might be out of luck; we could try doing some feature engineering, but we can only do so much, because the model itself is very simple.  A neural network, on the other hand, has a _lot_ more parameters we can tweak.  We could do this through cross-validation, but I'm going to skip all that and just show you a model that more or less matches our simple linear regression for performance.\n",
    "\n",
    "Here are the changes I made:\n",
    "- I changed each layer from ReLU to linear/identity activation.\n",
    "- I made the layers bigger.\n",
    "- I let the model train for more epochs.\n",
    "- I tweaked the learning rate for the ADAM optimizer.\n",
    "- I decreased the batch size."
   ]
  },
  {
   "cell_type": "code",
   "execution_count": 7,
   "id": "46a6a6ba-459a-4dca-bf6d-fd0c9b1b2d3c",
   "metadata": {},
   "outputs": [
    {
     "name": "stdout",
     "output_type": "stream",
     "text": [
      "Epoch 1/500\n",
      "618/618 [==============================] - 4s 6ms/step - loss: 8195827.5000 - val_loss: 2809394.0000\n",
      "Epoch 2/500\n",
      "618/618 [==============================] - 3s 5ms/step - loss: 2308658.2500 - val_loss: 2768660.7500\n",
      "Epoch 3/500\n",
      "618/618 [==============================] - 3s 5ms/step - loss: 2136117.5000 - val_loss: 2331987.5000\n",
      "Epoch 4/500\n",
      "618/618 [==============================] - 3s 5ms/step - loss: 2021402.2500 - val_loss: 2269676.0000\n",
      "Epoch 5/500\n",
      "618/618 [==============================] - 3s 5ms/step - loss: 1916158.0000 - val_loss: 1898610.6250\n",
      "Epoch 6/500\n",
      "618/618 [==============================] - 3s 5ms/step - loss: 1787685.3750 - val_loss: 1687136.1250\n",
      "Epoch 7/500\n",
      "618/618 [==============================] - 3s 5ms/step - loss: 1681657.6250 - val_loss: 1511845.3750\n",
      "Epoch 8/500\n",
      "618/618 [==============================] - 3s 5ms/step - loss: 1554619.2500 - val_loss: 1351794.0000\n",
      "Epoch 9/500\n",
      "618/618 [==============================] - 3s 5ms/step - loss: 1476061.1250 - val_loss: 1374948.6250\n",
      "Epoch 10/500\n",
      "618/618 [==============================] - 3s 5ms/step - loss: 1418731.2500 - val_loss: 1290679.6250\n",
      "Epoch 11/500\n",
      "618/618 [==============================] - 3s 6ms/step - loss: 1395940.6250 - val_loss: 1333623.8750\n",
      "Epoch 12/500\n",
      "618/618 [==============================] - 4s 6ms/step - loss: 1399539.0000 - val_loss: 1301671.6250\n",
      "Epoch 13/500\n",
      "618/618 [==============================] - 4s 6ms/step - loss: 1373060.6250 - val_loss: 1339006.1250\n",
      "Epoch 14/500\n",
      "618/618 [==============================] - 4s 6ms/step - loss: 1364745.5000 - val_loss: 1604999.0000\n",
      "Epoch 15/500\n",
      "618/618 [==============================] - 4s 6ms/step - loss: 1370831.8750 - val_loss: 1309359.0000\n",
      "313/313 [==============================] - 1s 2ms/step\n",
      "Better model score: 0.9162553035862872\n"
     ]
    }
   ],
   "source": [
    "# Define a simple model\n",
    "model = keras.Sequential([\n",
    "    keras.layers.Dense(128, activation=\"linear\"),\n",
    "    keras.layers.Dense(128, activation=\"linear\"),\n",
    "    keras.layers.Dense(128, activation=\"linear\"),\n",
    "    keras.layers.Dense(1, activation=\"linear\"),\n",
    "])\n",
    "\n",
    "model.compile(\n",
    "    optimizer=keras.optimizers.Adam(learning_rate=1e-3),\n",
    "    loss=keras.losses.MeanSquaredError(),\n",
    ")\n",
    "\n",
    "fit_history = model.fit(\n",
    "    train_x,\n",
    "    train_y,\n",
    "    batch_size=64,\n",
    "    epochs=500,\n",
    "    validation_split=0.1,\n",
    "    callbacks=[\n",
    "        keras.callbacks.EarlyStopping(\n",
    "            monitor=\"val_loss\",\n",
    "            min_delta=0,\n",
    "            patience=5,\n",
    "            restore_best_weights=True,\n",
    "        ),\n",
    "    ],\n",
    "    verbose=1,\n",
    ")\n",
    "\n",
    "predictions = model.predict(test_x)\n",
    "print(f\"Better model score: {r2_score(test_y, predictions)}\")"
   ]
  },
  {
   "cell_type": "markdown",
   "id": "e7613b98-06e9-4eef-9c6c-35ab26a2c576",
   "metadata": {},
   "source": [
    "This example, admittedly, is not a great one for neural networks; when a simple linear regression can get an $R^2$ above 0.9 with basically no work, there's no reason to use a big complex neural network.  However, for some kinds of problems, the neural network is the better solution:\n",
    "- Very sparse data, like text.\n",
    "- Classification tasks.\n",
    "- Anything where you need to optimize some more specialized quantity than the standard regression metrics.\n",
    "- _Extremely_ large datasets.\n",
    "\n",
    "It's not unheard of, in some cases, to end up with enormous networks, too.  If you network is doing poorly, you can always scale it up by adding way more layers, and making existing layers bigger.  Let's see another example, this time using the 20 Newsgroups dataset from sckit-learn.  We'll treat this like a 20-class classification problem: given the words of a post, identify the newsgroup it was posted to.  Our contenders:\n",
    "- Another neural network!\n",
    "- Naive Bayes\n",
    "- Random Forest"
   ]
  },
  {
   "cell_type": "code",
   "execution_count": 8,
   "id": "badb3610-80b4-42be-9f86-c10690bf46c8",
   "metadata": {},
   "outputs": [
    {
     "name": "stdout",
     "output_type": "stream",
     "text": [
      "(16961, 15000) (1885, 15000)\n"
     ]
    }
   ],
   "source": [
    "# Load the data\n",
    "from sklearn.datasets import fetch_20newsgroups\n",
    "from sklearn.model_selection import train_test_split\n",
    "from sklearn.metrics import accuracy_score, make_scorer\n",
    "from sklearn.preprocessing import OneHotEncoder\n",
    "from sklearn.feature_extraction.text import CountVectorizer\n",
    "\n",
    "x, y = fetch_20newsgroups(subset=\"all\", return_X_y=True)\n",
    "x = CountVectorizer(\n",
    "    min_df=5,\n",
    "    max_df=0.5,\n",
    "    max_features=15_000,\n",
    ").fit_transform(x)\n",
    "\n",
    "# we'll need this later for the neural network--its\n",
    "# target variables need to be structured differently.\n",
    "y_onehot = OneHotEncoder(sparse=False).fit_transform(y.reshape(-1,1))\n",
    "\n",
    "train_x, test_x, train_y, test_y, train_y_onehot, test_y_onehot = train_test_split(\n",
    "    x, y, y_onehot,\n",
    "    train_size=0.9, stratify=y, random_state=0\n",
    ")\n",
    "\n",
    "print(train_x.shape, test_x.shape)"
   ]
  },
  {
   "cell_type": "code",
   "execution_count": 9,
   "id": "c8d1602a-2679-4dfe-b7bd-708a62dc35f9",
   "metadata": {},
   "outputs": [
    {
     "name": "stdout",
     "output_type": "stream",
     "text": [
      "Fitting 5 folds for each of 6 candidates, totalling 30 fits\n",
      "Complement Naive Bayes: 0.8531\n",
      "CPU times: total: 344 ms\n",
      "Wall time: 4.04 s\n"
     ]
    }
   ],
   "source": [
    "%%time\n",
    "# Naive Bayes\n",
    "from sklearn.model_selection import GridSearchCV\n",
    "from sklearn.naive_bayes import ComplementNB, GaussianNB\n",
    "\n",
    "nb = GridSearchCV(\n",
    "    ComplementNB(),\n",
    "    param_grid={\"alpha\": [10**i for i in range(-5, 0)] + [0]},\n",
    "    scoring=make_scorer(accuracy_score),\n",
    "    error_score=0,\n",
    "    cv=5,\n",
    "    n_jobs=4,\n",
    "    verbose=1,\n",
    ")\n",
    "# ComplementNB requires all positive values to be passed.\n",
    "minval = min(train_x.min(), test_x.min())\n",
    "nb.fit(train_x - minval, train_y)\n",
    "print(f\"Complement Naive Bayes: {accuracy_score(test_y, nb.predict(test_x - minval)):.4f}\")"
   ]
  },
  {
   "cell_type": "code",
   "execution_count": 10,
   "id": "13306aa7-9f86-432c-8177-3532e807691a",
   "metadata": {},
   "outputs": [
    {
     "name": "stdout",
     "output_type": "stream",
     "text": [
      "Random Forest: 0.8446\n",
      "CPU times: total: 1min 11s\n",
      "Wall time: 18.3 s\n"
     ]
    }
   ],
   "source": [
    "%%time\n",
    "# Random forest--default settings are usually pretty good.\n",
    "from sklearn.ensemble import RandomForestClassifier\n",
    "rf = RandomForestClassifier(n_jobs=4).fit(train_x, train_y)\n",
    "print(f\"Random Forest: {accuracy_score(test_y, rf.predict(test_x)):.4f}\")"
   ]
  },
  {
   "cell_type": "markdown",
   "id": "dd3e1f30-ffc4-4aaf-947e-bc925943c901",
   "metadata": {},
   "source": [
    "Hm, usually a random forest will outperform something like a Naive Bayes model.  We can just throw a bunch more estimator into the random forest (the default is 100).  More estimators never hurts the accuracy of a random forest; it just starts to taper off after a bit, and it of course runs slower."
   ]
  },
  {
   "cell_type": "code",
   "execution_count": 11,
   "id": "688f328d-b6d5-4e28-ac11-debf41be4a23",
   "metadata": {},
   "outputs": [
    {
     "name": "stdout",
     "output_type": "stream",
     "text": [
      "Random Forest: 0.8536\n",
      "CPU times: total: 10min 54s\n",
      "Wall time: 2min 45s\n"
     ]
    }
   ],
   "source": [
    "%%time\n",
    "# Random forest--default settings are usually pretty good.\n",
    "from sklearn.ensemble import RandomForestClassifier\n",
    "rf = RandomForestClassifier(n_estimators=1000, n_jobs=4).fit(train_x, train_y)\n",
    "print(f\"Random Forest: {accuracy_score(test_y, rf.predict(test_x)):.4f}\")"
   ]
  },
  {
   "cell_type": "markdown",
   "id": "ba4234f0-9000-4a04-81e4-5b75e119b4bb",
   "metadata": {},
   "source": [
    "That's better!  Now let's throw a pretty simple neural network at the same dataset."
   ]
  },
  {
   "cell_type": "code",
   "execution_count": 12,
   "id": "5ae5de31-f228-45f8-bfbd-555ba1349163",
   "metadata": {
    "tags": []
   },
   "outputs": [
    {
     "name": "stdout",
     "output_type": "stream",
     "text": [
      "Epoch 1/500\n",
      "477/477 - 4s - loss: 5.6430 - categorical_accuracy: 0.4013 - val_loss: 2.3499 - val_categorical_accuracy: 0.7354 - 4s/epoch - 7ms/step\n",
      "Epoch 2/500\n",
      "477/477 - 3s - loss: 2.9842 - categorical_accuracy: 0.8302 - val_loss: 1.5073 - val_categorical_accuracy: 0.8680 - 3s/epoch - 6ms/step\n",
      "Epoch 3/500\n",
      "477/477 - 3s - loss: 1.5737 - categorical_accuracy: 0.9226 - val_loss: 1.1506 - val_categorical_accuracy: 0.9010 - 3s/epoch - 6ms/step\n",
      "Epoch 4/500\n",
      "477/477 - 3s - loss: 0.9924 - categorical_accuracy: 0.9567 - val_loss: 0.9739 - val_categorical_accuracy: 0.9098 - 3s/epoch - 6ms/step\n",
      "Epoch 5/500\n",
      "477/477 - 4s - loss: 0.6946 - categorical_accuracy: 0.9758 - val_loss: 0.8384 - val_categorical_accuracy: 0.9187 - 4s/epoch - 7ms/step\n",
      "Epoch 6/500\n",
      "477/477 - 3s - loss: 0.5313 - categorical_accuracy: 0.9865 - val_loss: 0.7691 - val_categorical_accuracy: 0.9175 - 3s/epoch - 7ms/step\n",
      "Epoch 7/500\n",
      "477/477 - 3s - loss: 0.4318 - categorical_accuracy: 0.9920 - val_loss: 0.7084 - val_categorical_accuracy: 0.9234 - 3s/epoch - 7ms/step\n",
      "Epoch 8/500\n",
      "477/477 - 3s - loss: 0.3612 - categorical_accuracy: 0.9951 - val_loss: 0.6677 - val_categorical_accuracy: 0.9275 - 3s/epoch - 7ms/step\n",
      "Epoch 9/500\n",
      "477/477 - 3s - loss: 0.3162 - categorical_accuracy: 0.9965 - val_loss: 0.6230 - val_categorical_accuracy: 0.9228 - 3s/epoch - 7ms/step\n",
      "Epoch 10/500\n",
      "477/477 - 3s - loss: 0.2775 - categorical_accuracy: 0.9972 - val_loss: 0.5972 - val_categorical_accuracy: 0.9222 - 3s/epoch - 7ms/step\n",
      "Epoch 11/500\n",
      "477/477 - 4s - loss: 0.2494 - categorical_accuracy: 0.9974 - val_loss: 0.5749 - val_categorical_accuracy: 0.9216 - 4s/epoch - 8ms/step\n",
      "Epoch 12/500\n",
      "477/477 - 3s - loss: 0.2258 - categorical_accuracy: 0.9974 - val_loss: 0.5476 - val_categorical_accuracy: 0.9240 - 3s/epoch - 7ms/step\n",
      "Epoch 13/500\n",
      "477/477 - 3s - loss: 0.2033 - categorical_accuracy: 0.9979 - val_loss: 0.5354 - val_categorical_accuracy: 0.9210 - 3s/epoch - 7ms/step\n",
      "59/59 [==============================] - 0s 3ms/step\n",
      "[16 15 10 ...  4  4  2]\n",
      "Neural network: 0.9077\n",
      "CPU times: total: 1min 1s\n",
      "Wall time: 43.7 s\n"
     ]
    }
   ],
   "source": [
    "%%time\n",
    "\n",
    "# Neural network\n",
    "import numpy as np\n",
    "from tensorflow import keras\n",
    "\n",
    "# Can't use the `validation_split` argument with sparse arrays (not sure why)--\n",
    "# so manually do the split here.\n",
    "nn_train_x, val_x, nn_train_y, val_y = train_test_split(\n",
    "    train_x.astype(np.int32).toarray(),\n",
    "    train_y_onehot,\n",
    "    random_state=0,\n",
    "    train_size=0.9,\n",
    ")\n",
    "\n",
    "# Here's a very simple network: two hidden layers of 128 neurons, with\n",
    "# ReLU activation and a bit of regulatization and dropout to prevent\n",
    "# overfitting.\n",
    "model = keras.Sequential([\n",
    "    keras.layers.Dense(128, activation=\"relu\", activity_regularizer=keras.regularizers.L2()),\n",
    "    keras.layers.Dropout(0.1),\n",
    "    keras.layers.Dense(128, activation=\"relu\", activity_regularizer=keras.regularizers.L2()),\n",
    "    keras.layers.Dropout(0.1),\n",
    "    keras.layers.Dense(20, activation=\"softmax\"),\n",
    "])\n",
    "\n",
    "model.compile(\n",
    "    optimizer=keras.optimizers.Adam(learning_rate=1e-4),\n",
    "    loss=keras.losses.CategoricalCrossentropy(),\n",
    "    metrics=[keras.metrics.CategoricalAccuracy()],\n",
    ")\n",
    "\n",
    "fit_history = model.fit(\n",
    "    nn_train_x,\n",
    "    nn_train_y,\n",
    "    batch_size=32,\n",
    "    epochs=500,\n",
    "    validation_data=(val_x, val_y),\n",
    "    callbacks=[\n",
    "        keras.callbacks.EarlyStopping(\n",
    "            monitor=\"val_categorical_accuracy\",\n",
    "            min_delta=0,\n",
    "            patience=5,\n",
    "            restore_best_weights=True,\n",
    "        ),\n",
    "    ],\n",
    "    verbose=2,\n",
    ")\n",
    "\n",
    "preds = model.predict(\n",
    "    test_x.astype(np.int32).toarray()\n",
    ")\n",
    "preds = np.argmax(preds, axis=1).ravel()\n",
    "print(preds)\n",
    "print(f\"Neural network: {accuracy_score(test_y, preds):.4f}\")"
   ]
  },
  {
   "cell_type": "markdown",
   "id": "7d5960bf-4253-481c-b7dc-dc0110e49d0d",
   "metadata": {},
   "source": [
    "There we go, the neural network--a pretty simple one--beat the other two models _handily._  This dataset is much more in line with something neural networks are good at: very sparse datasets with _lots_ of features."
   ]
  },
  {
   "cell_type": "markdown",
   "id": "10a08811-35fb-40b4-844e-18124ae2d897",
   "metadata": {},
   "source": [
    "# Tensorboard: Better logging\n",
    "\n",
    "Reading all those outputs above is a bit of a mess.  Fortunately, there's a better way.  Tensorflow has an absolutely killer feature, which makes it well worth using in spite of the mess that is installing it: Tensorboard.\n",
    "\n",
    "Tensorboard is basically a fancy logging tool that gives you a browser-based dashboard that runs locally (so there's no actual internet connection).  Tensorboard gets installed alongside Tensorflow, but it's become such a standard tool for monitoring neural networks that most other neural net libraries can interface with it very easily.\n",
    "\n",
    "To use Tensorboard, add the Tensorboard callback to your model during fitting:\n",
    "\n",
    "```python\n",
    "from tensorflow import keras\n",
    "model = Sequential([...])\n",
    "model.compile(...)\n",
    "model.fit(\n",
    "    ...,\n",
    "    callbacks=[\n",
    "        keras.callbacks.TensorBoard(\"tensorboard_log_dir\"),\n",
    "        ...\n",
    "    ]\n",
    ")\n",
    "```\n",
    "\n",
    "This will create a folder \"tensorboard_log_dir\" in the folder the code is being run from.  As your model is fitting, it will update files in this directory in real-time.\n",
    "\n",
    "From your command line, with your Conda environment activated, navigate to the folder where \"tensorboard_log_dir\" got created, and run:\n",
    "\n",
    "```bash\n",
    "tensorboard --logdir=tensorboard_log_dir\n",
    "```\n",
    "\n",
    "TensorBoard will open in your browser.\n",
    "\n",
    "TensorBoard also integrates with Jupyter Notebooks, which I'll use here to show what it looks like.  First, I needt to re-fit the above model and add the TensorBoard callback."
   ]
  },
  {
   "cell_type": "code",
   "execution_count": null,
   "id": "2c0148bc-9254-4da9-9e29-a1d0e2338ae4",
   "metadata": {
    "tags": []
   },
   "outputs": [
    {
     "name": "stdout",
     "output_type": "stream",
     "text": [
      "Epoch 1/500\n",
      "1908/1908 [==============================] - 20s 10ms/step - loss: 6.7634 - categorical_accuracy: 0.1162 - val_loss: 2.9576 - val_categorical_accuracy: 0.2110\n",
      "Epoch 2/500\n",
      "1908/1908 [==============================] - 17s 9ms/step - loss: 5.9454 - categorical_accuracy: 0.2898 - val_loss: 2.8518 - val_categorical_accuracy: 0.4084\n",
      "Epoch 3/500\n",
      "1908/1908 [==============================] - 17s 9ms/step - loss: 5.3104 - categorical_accuracy: 0.4872 - val_loss: 2.6995 - val_categorical_accuracy: 0.5687\n",
      "Epoch 4/500\n",
      "1908/1908 [==============================] - 16s 9ms/step - loss: 4.5853 - categorical_accuracy: 0.6300 - val_loss: 2.5140 - val_categorical_accuracy: 0.6741\n",
      "Epoch 5/500\n",
      "1908/1908 [==============================] - 17s 9ms/step - loss: 3.9667 - categorical_accuracy: 0.7190 - val_loss: 2.3186 - val_categorical_accuracy: 0.7419\n",
      "Epoch 6/500\n",
      "1908/1908 [==============================] - 17s 9ms/step - loss: 3.4486 - categorical_accuracy: 0.7895 - val_loss: 2.1258 - val_categorical_accuracy: 0.7843\n",
      "Epoch 7/500\n",
      "1908/1908 [==============================] - 17s 9ms/step - loss: 2.9600 - categorical_accuracy: 0.8376 - val_loss: 1.9452 - val_categorical_accuracy: 0.8191\n",
      "Epoch 8/500\n",
      "1908/1908 [==============================] - 19s 10ms/step - loss: 2.5262 - categorical_accuracy: 0.8648 - val_loss: 1.7816 - val_categorical_accuracy: 0.8462\n",
      "Epoch 9/500\n",
      "1908/1908 [==============================] - 16s 8ms/step - loss: 2.1748 - categorical_accuracy: 0.8918 - val_loss: 1.6395 - val_categorical_accuracy: 0.8598\n",
      "Epoch 10/500\n",
      "1908/1908 [==============================] - 17s 9ms/step - loss: 1.8736 - categorical_accuracy: 0.9097 - val_loss: 1.5146 - val_categorical_accuracy: 0.8692\n",
      "Epoch 11/500\n",
      "1908/1908 [==============================] - 19s 10ms/step - loss: 1.6240 - categorical_accuracy: 0.9206 - val_loss: 1.4064 - val_categorical_accuracy: 0.8774\n",
      "Epoch 12/500\n",
      "1908/1908 [==============================] - 16s 8ms/step - loss: 1.4165 - categorical_accuracy: 0.9313 - val_loss: 1.3120 - val_categorical_accuracy: 0.8845\n",
      "Epoch 13/500\n",
      "1908/1908 [==============================] - 17s 9ms/step - loss: 1.2482 - categorical_accuracy: 0.9403 - val_loss: 1.2292 - val_categorical_accuracy: 0.8904\n",
      "Epoch 14/500\n",
      "1908/1908 [==============================] - 17s 9ms/step - loss: 1.1079 - categorical_accuracy: 0.9505 - val_loss: 1.1590 - val_categorical_accuracy: 0.8951\n",
      "Epoch 15/500\n",
      "1908/1908 [==============================] - 18s 9ms/step - loss: 0.9819 - categorical_accuracy: 0.9577 - val_loss: 1.0942 - val_categorical_accuracy: 0.9028\n",
      "Epoch 16/500\n",
      "1908/1908 [==============================] - 18s 10ms/step - loss: 0.8815 - categorical_accuracy: 0.9631 - val_loss: 1.0371 - val_categorical_accuracy: 0.9051\n",
      "Epoch 17/500\n",
      "1908/1908 [==============================] - 17s 9ms/step - loss: 0.7946 - categorical_accuracy: 0.9669 - val_loss: 0.9846 - val_categorical_accuracy: 0.9087\n",
      "Epoch 18/500\n",
      "1908/1908 [==============================] - 17s 9ms/step - loss: 0.7234 - categorical_accuracy: 0.9706 - val_loss: 0.9396 - val_categorical_accuracy: 0.9122\n",
      "Epoch 19/500\n",
      "1578/1908 [=======================>......] - ETA: 2s - loss: 0.6691 - categorical_accuracy: 0.9755"
     ]
    }
   ],
   "source": [
    "model = keras.Sequential([\n",
    "    keras.layers.Dense(128, activation=\"relu\", activity_regularizer=keras.regularizers.L2()),\n",
    "    keras.layers.Dropout(0.1),\n",
    "    keras.layers.Dense(128, activation=\"relu\", activity_regularizer=keras.regularizers.L2()),\n",
    "    keras.layers.Dropout(0.1),\n",
    "    keras.layers.Dense(20, activation=\"softmax\"),\n",
    "])\n",
    "\n",
    "# Changing some settings to make this run longer and slower--makes the graphs\n",
    "# easier to see.\n",
    "model.compile(\n",
    "    optimizer=keras.optimizers.Adam(learning_rate=1e-5),\n",
    "    loss=keras.losses.CategoricalCrossentropy(),\n",
    "    metrics=[keras.metrics.CategoricalAccuracy()],\n",
    ")\n",
    "fit_history = model.fit(\n",
    "    nn_train_x,\n",
    "    nn_train_y,\n",
    "    batch_size=8,\n",
    "    epochs=500,\n",
    "    validation_data=(val_x, val_y),\n",
    "    callbacks=[\n",
    "        keras.callbacks.EarlyStopping(\n",
    "            monitor=\"val_categorical_accuracy\",\n",
    "            min_delta=0,\n",
    "            patience=5,\n",
    "            restore_best_weights=True,\n",
    "        ),\n",
    "        keras.callbacks.TensorBoard(\n",
    "            \"tensorboard_log_dir\",\n",
    "            update_freq=\"batch\",\n",
    "        ),\n",
    "    ],\n",
    "    # We don't *need* this if we're going to use TensorBoard for monitoring,\n",
    "    # since TensorBoard can update in real-time, but it never hurts to have\n",
    "    # more outputs to monitor.\n",
    "    verbose=1,\n",
    ")"
   ]
  },
  {
   "cell_type": "markdown",
   "id": "2de3f9ec-a6d6-46cc-bcd5-4cfff0af49ab",
   "metadata": {},
   "source": [
    "And that's about where we're gonna leave thing with Keras' Sequential API.\n",
    "\n",
    "I will say a few more words about TensorBoard, though.  TensorBoard is an amazing tool, with a _huge_ range of capabilities.  It's more helpful than you might expect when it comes to really big models that need to run for a really long time: if you have a model that's building overnight or over a weekend, TensorBoard is a great way to check up on its progress as it trains.  (but anything that runs \"over lunch\" rather than \"overnight,\" though, TensorBoard is probably overkill).  There are a lot of other really cool features we won't go into, like uploading subsets of your data and other cool logging stuff, but they are absolutely worth getting familiar with if you're considering a career in AI/ML/neural networks."
   ]
  }
 ],
 "metadata": {
  "kernelspec": {
   "display_name": "Python 3 (ipykernel)",
   "language": "python",
   "name": "python3"
  },
  "language_info": {
   "codemirror_mode": {
    "name": "ipython",
    "version": 3
   },
   "file_extension": ".py",
   "mimetype": "text/x-python",
   "name": "python",
   "nbconvert_exporter": "python",
   "pygments_lexer": "ipython3",
   "version": "3.10.4"
  }
 },
 "nbformat": 4,
 "nbformat_minor": 5
}
