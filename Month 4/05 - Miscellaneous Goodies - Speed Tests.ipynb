{
 "cells": [
  {
   "cell_type": "markdown",
   "id": "413c1b14-c086-4d80-af45-f428ee55eb33",
   "metadata": {},
   "source": [
    "Your code will not always run as fast as you want it to.  Often, this is something you can fix.  But you have to know *why* your code is slow, first.  There are two major ways to do this:\n",
    "\n",
    "- Just eyeball it and guess.\n",
    "- Actually measure it.\n",
    "\n",
    "Obviously, the second is the best approach.  You can start to do the first approach after you get a *lot* of Python under your belt, and you start to get a good sense for what kinds of code are fast and slow.  But even then, there is absolutely no substitute for actually measuring what parts of your code are slowing it down.  This notebook shows two big tools for doing just that.\n",
    "\n",
    "(Note that `tqdm` can also be very useful when you have a big `for`/`while` loop in your code, but it isn't quite as robust as the two tools here)."
   ]
  },
  {
   "cell_type": "markdown",
   "id": "d9df4ae8-2b70-4bd5-8511-5c65e2caae25",
   "metadata": {},
   "source": [
    "# `timeit`: Benchmark/speed test small code snippets\n",
    "\n",
    "You've seen some examples already of me using the `timeit` module from the standard library, but let's dive into what it actually does.  It's pretty simple: you give it a piece of code, it runs it a bunch of times, and it tells you how long it took.  `timeit` is mostly intended for running a small piece of code a lot of times, you can easily change this.\n",
    "\n",
    "The basic recipe for timeit is:"
   ]
  },
  {
   "cell_type": "code",
   "execution_count": 1,
   "id": "5400db65-9c9f-4968-9790-0d122b42cb61",
   "metadata": {},
   "outputs": [
    {
     "name": "stdout",
     "output_type": "stream",
     "text": [
      "0.037076700000000073\n"
     ]
    }
   ],
   "source": [
    "from timeit import timeit\n",
    "print(timeit(\"100 % 3\"))"
   ]
  },
  {
   "cell_type": "markdown",
   "id": "f507358b-0b81-4707-8cdc-0f0bbda193d2",
   "metadata": {},
   "source": [
    "Note that you need to pass `timeit.timeit()` a string, which gets interpreted as Python code and executed.  We can't pass expressions as arugments to functions--Python will always try to evaluate them and pass the result--so expressions have to be passed as strings.  It's a bit clunky, especially compared to languages like Lisp or Julia, but it allows other elements of Python (mostly on the backend, in the language's implementation) to be much simpler and more secure.\n",
    "\n",
    "By default, timeit will:\n",
    "- Run the snippet 1,000,000 times.\n",
    "- Assume that any variables referenced in the snippet are also defined in the snippet.\n",
    "\n",
    "Both of these behaviors can be changed.\n",
    "- Change the number of times the code runs with the `number=` argument.\n",
    "- Tell `timeit.timeit()` to use variables defined elsewhere in your code with the `globals=` argument.\n",
    "\n",
    "The `globals=` argument needs to be given a `dict`ionary containing `{\"variable_name\": value}` pairs.  E.g., `{\"x\": 10}` will tell `timeit.timeit()` \"when you see the variable `x` in the snippet, it has the value 10 (unless it gets re-defined in the snippet).\"  There's a built-in Python function, `globals()`, which will give you a dictionary of anything defined *in global scope* in your current program.  We're not going to worry too much about the details of what that means, but just know that if you're using `timeit.timeit()` on a line that isn't indented at all, you should be able to pass `globals=globals()` and have everything just work."
   ]
  },
  {
   "cell_type": "code",
   "execution_count": 2,
   "id": "74aa26ad-280a-40bf-b7a1-b3f4a5d1a951",
   "metadata": {},
   "outputs": [
    {
     "name": "stdout",
     "output_type": "stream",
     "text": [
      "0.19390820000000009\n",
      "0.00022039999999989845\n",
      "0.00022180000000027178\n"
     ]
    }
   ],
   "source": [
    "from timeit import timeit\n",
    "\n",
    "x = [1,2,3,4,5,6,7,8,9,10]\n",
    "# print(timeit(\"5 in x\")) # NameError: name 'x' is not defined\n",
    "print(timeit(\"5 in x\", globals=globals())) # 'x' is now the value just defined\n",
    "print(timeit(\"5 in x\", globals=globals(), number=1000)) # only run the snipped 1,000 times\n",
    "\n",
    "# Multi-line strings are useful with timeit.timeit() for longer snippets.\n",
    "# But becareful--the string needs to be all the way at the zero-indent level,\n",
    "# or you'll get weird errors about unexpected indentation.  This makes your code\n",
    "# look kind of ugly, unfortunately.\n",
    "print(timeit(\n",
    "\"\"\"\n",
    "if 5 in x:\n",
    "    found = True\n",
    "else:\n",
    "    found = False\n",
    "\"\"\",\n",
    "    globals=globals(),\n",
    "    number=1000\n",
    "))"
   ]
  },
  {
   "cell_type": "markdown",
   "id": "e86e2d19-a57b-443d-8f59-975de31a71a8",
   "metadata": {},
   "source": [
    "# Profiling your code: Why is my *program* slow?\n",
    "\n",
    "`timeit` is awesome for quick testing of small snippets.  If you're writing your code and you need to know something like \"will it be faster to use integer division here, or do regular division and then convert to an integer?\" then `timeit` is your friend.  But, if you already have a program, and it takes a long time to run, and you want to know what parts are slow (and thus, what parts you should focus on speeding up), `timeit` won't do anything for you: you'll need to turn to a *profiler*.\n",
    "\n",
    "A profiler, in the programming world, is just a program that:\n",
    "\n",
    "1. Run your program.\n",
    "2. Track how long your program spent doing each thing it does.\n",
    "3. Tell you how long each part took to run.\n",
    "\n",
    "They're a bit cumbersome to use at times, but they are the best way to actually figure out why your program is slow and how you can make it go faster.  Python has two profilers in the standard library: `cProfile`--the one you should generally use--and `profile`--the one you should only use if you're trying to customize how the profiler behaves (which you probably won't ever need to do)."
   ]
  },
  {
   "cell_type": "code",
   "execution_count": 3,
   "id": "e62856ce-d136-4b08-aa17-abbc249cb567",
   "metadata": {},
   "outputs": [
    {
     "name": "stdout",
     "output_type": "stream",
     "text": [
      "         5 function calls in 5.004 seconds\n",
      "\n",
      "   Ordered by: standard name\n",
      "\n",
      "   ncalls  tottime  percall  cumtime  percall filename:lineno(function)\n",
      "        1    0.000    0.000    5.004    5.004 1390719897.py:7(my_function)\n",
      "        1    0.000    0.000    5.004    5.004 <string>:1(<module>)\n",
      "        1    0.000    0.000    5.004    5.004 {built-in method builtins.exec}\n",
      "        1    5.004    5.004    5.004    5.004 {built-in method time.sleep}\n",
      "        1    0.000    0.000    0.000    0.000 {method 'disable' of '_lsprof.Profiler' objects}\n",
      "\n",
      "\n",
      "None\n"
     ]
    }
   ],
   "source": [
    "import cProfile\n",
    "import time\n",
    "\n",
    "# a function we want to find the slow spots for.\n",
    "# we'll add a time.sleep() command to artificially increase\n",
    "# the amount of time it takes to run.\n",
    "def my_function(x):\n",
    "    time.sleep(5)\n",
    "    return x >= 10\n",
    "    \n",
    "\n",
    "# like with timeit: give `cProfile.run()` a string to be executed.\n",
    "print(cProfile.run(\"my_function(10)\"))"
   ]
  },
  {
   "cell_type": "markdown",
   "id": "d24ddc30-0588-450e-818c-c443a5bcb45e",
   "metadata": {},
   "source": [
    "There is a *lot* you can customize about how the profiler runs.  You can save the results to a file and then process them with the `pstats` module in the standard library.  You can also run the profiler from the command line if you want to profile an entire program:\n",
    "\n",
    "```bash\n",
    "python -m cProfile [-o output_file] my_program.py\n",
    "```\n",
    "\n",
    "There's a lot to the Python profilers; check the documentation for more details."
   ]
  }
 ],
 "metadata": {
  "kernelspec": {
   "display_name": "Python 3 (ipykernel)",
   "language": "python",
   "name": "python3"
  },
  "language_info": {
   "codemirror_mode": {
    "name": "ipython",
    "version": 3
   },
   "file_extension": ".py",
   "mimetype": "text/x-python",
   "name": "python",
   "nbconvert_exporter": "python",
   "pygments_lexer": "ipython3",
   "version": "3.9.7"
  }
 },
 "nbformat": 4,
 "nbformat_minor": 5
}
