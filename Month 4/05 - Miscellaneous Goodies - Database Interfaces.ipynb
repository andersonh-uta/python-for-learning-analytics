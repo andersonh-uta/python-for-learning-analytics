{
 "cells": [
  {
   "cell_type": "markdown",
   "id": "413c1b14-c086-4d80-af45-f428ee55eb33",
   "metadata": {},
   "source": [
    "Sometimes a database is part of your project, or will be very helpful in your project.  This notebook gives a quick overview of Python's two built-in database interfaces: interfaces to DBM and SQLite."
   ]
  },
  {
   "cell_type": "markdown",
   "id": "0432de4f-2d8c-4193-a551-965e5be4ed81",
   "metadata": {},
   "source": [
    "# `dbm`: easy interfaces with simple DBM-style databases\n",
    "\n",
    "[DBM](https://en.wikipedia.org/wiki/DBM_(computing)) databases are very old, very simple, and very useful.  They're extremely simple forms of key-value storage (like even more simple JSONs): all keys and values must be strings (or bytes) when accessing a database via Python.  DBM databases aren't very fault-tolerant, robust, or flexible as other database options, so their use cases are fairly limited these days.  (especially with SQLite--see a bit further down in this notebook--being as easy to use, similarly fast, and way more flexible and widely available).  That said, sometimes the simplicity of a DBM database is all you need.\n",
    "\n",
    "The Python interface to DBM is *very* simple, and mostly looks like accessing a dictionary.  Sometimes this simplicity is all you need, which can make `dbm` pretty useful in spite of its limitations. (other database interfaces require more code and more complexity).  The only tricky-ish part is that the file modes are a bit different than normal files; check the `dbm` documentation in Python for details."
   ]
  },
  {
   "cell_type": "code",
   "execution_count": 1,
   "id": "dafe6470-97f2-4a42-a60e-8ce5bb5c61df",
   "metadata": {},
   "outputs": [
    {
     "name": "stdout",
     "output_type": "stream",
     "text": [
      "b'Data scientist'\n"
     ]
    }
   ],
   "source": [
    "import dbm\n",
    "# \"c\" mode -> create a blank database, open in read+write mode\n",
    "with dbm.open(\"my_dbm_database.db\", \"c\") as my_db:\n",
    "    my_db[\"Henry\"] = \"Data scientist\"\n",
    "    # this will throw an error\n",
    "    # my_db[\"Number\"] = 100\n",
    "    \n",
    "# there is now a DBM database stored in `my_dbm_database.db1\n",
    "# which can be re-loaded and accessed later.\n",
    "with dbm.open(\"my_dbm_database.db\", \"r\") as my_db:\n",
    "    # note that text stored in these databases gets converted to bytestrings\n",
    "    print(my_db[\"Henry\"])"
   ]
  },
  {
   "cell_type": "markdown",
   "id": "b5c6f7ec-fbd5-4b1e-9f2d-6109e567e056",
   "metadata": {},
   "source": [
    "# sqlite3: Easily work with local SQL databases\n",
    "\n",
    "Note: if you don't have any experience with SQL, this library won't be any use to you--but SQL is extremely easy to learn.  It's definitely something you *should* learn, but it goes beyond the scope of what we're covering in these workshops.\n",
    "\n",
    "Most SQL databases rely on a *client-server* architecture: you have one program running that hosts the database and runs queries, and a separate program that lets the user write queries.  These are generally on different machines: the server is running on, well, a server somewhere, and the client program is running on your machine, sending your queries to the server to be executed.  This is great for something like a central database for a company, school, or department.\n",
    "\n",
    "But, SQL is *super* convenient for writing all sorts of data queries.  [SQLite](https://www.sqlite.com/index.html) is a variant of SQL that makes it easy to use SQL in your own projects without needing a whole, dedicated database.  SQLite differs from other SQL implementations in a few important ways:\n",
    "- It is *self-contained.*  There is no server and client.  SQLite reads and writes databases to and from single files on your computer.\n",
    "- It is *zero-configuration.*  Most SQL server implementations need a fair bit of configuration before you can use them, both on the server and client end.  SQLite requires nothing other than pointing it at the right file to get up and running.\n",
    "- It uses a very simple, stripped down version of the SQL language.  It doesn't have many of the conveniences of bigger implementations, but it's also not designed for the same kinds of complex queries and workloads.\n",
    "\n",
    "In other words: SQLite is an amazing choice when your project would benefit from a (usually small) database.  But it is *not* a good choice for running your company or school's central database off of.\n",
    "\n",
    "Python's standard library has a `sqlite3` module that lets you interact with SQLite databases very easily."
   ]
  },
  {
   "cell_type": "code",
   "execution_count": 2,
   "id": "f5d234cf-7665-4d35-b04d-8b0c8cce9999",
   "metadata": {},
   "outputs": [
    {
     "name": "stdout",
     "output_type": "stream",
     "text": [
      "<sqlite3.Cursor object at 0x000001CDE8DDE880>\n",
      "(1, 'Henry')\n",
      "(2, 'George')\n",
      "(3, 'Justin')\n"
     ]
    }
   ],
   "source": [
    "import sqlite3\n",
    "\n",
    "with sqlite3.connect(\"my_sqlite_db.db\") as con:\n",
    "    # interactiong with the database go through the `cursor` object.\n",
    "    # `cursor.execute(\"some SQL code\")` executes SQL queries in the\n",
    "    # database.\n",
    "    cursor = con.cursor()\n",
    "    \n",
    "    # create a table\n",
    "    cursor.execute(\"drop table if exists TestTable\")\n",
    "    cursor.execute(\"create table TestTable (id int, name text)\")\n",
    "    \n",
    "    cursor.execute(\"insert into TestTable values (1, 'Henry')\")\n",
    "    cursor.execute(\"insert into TestTable values (2, 'George')\")\n",
    "    cursor.execute(\"insert into TestTable values (3, 'Justin')\")\n",
    "    \n",
    "    # call con.commit()--not cursor.commit()--to save any changes\n",
    "    con.commit()\n",
    "    \n",
    "    # querying the database returns an object containing the query results\n",
    "    query_result = cursor.execute(\"select * from TestTable\")\n",
    "    print(query_result)\n",
    "    \n",
    "    # iterate through it to get results as tuples, one tuple per row, one entry\n",
    "    # per column.\n",
    "    for row in query_result:\n",
    "        print(row)"
   ]
  },
  {
   "cell_type": "markdown",
   "id": "58ce2c13-c84e-4b4d-89f6-3bdfa2a24c4f",
   "metadata": {},
   "source": [
    "If you know some SQL, you can use pretty much all of that knowledge in SQLite.  Joins, filters, creating table, etc.  The only thing to be careful of is how SQLite handles data types: it is not as strict as other SQL databases when it comes to enforcing types.  It'll often coerce types, and it's happy to have a column that stores a mix of integer and text values.  Usually this isn't an issue--if you're using SQLite, you probably aren't doing something where the type checking and such has to be handled by the database itself.  Either you can handle that in your own code, or you have little enough data it isn't an issue, or something else.  But, it can be a bit of a stumbling block for people coming from other SQL implementations.\n",
    "\n",
    "There are several other libraries worth knowing about for database access:\n",
    "- `sqlalchemy`: interfaces to all sorts of SQL databases, with all sorts of different impelementations.\n",
    "- `pyodbc`: connect to any SQL database that used the ODBC connection standard (pretty much all SQL servers have this available, but it may be disabled in some installations).\n",
    "- `redis`: access Redis databases, which are like DBM, but far, far more robust and flexible.  And faster.\n",
    "- `pymongo`: connect to MongoDB databases, which are *document stores*.  They essentially store their data as JSON/JSON-like objects, which is a different paradigm to SQL's relational database model.\n",
    "\n",
    "There are many more out there.  Pretty much all major databases will have a Python interface, either through more generic libaries like `sqlalchemy` and `pyodbc`, or through a more custom-tailored interface."
   ]
  }
 ],
 "metadata": {
  "kernelspec": {
   "display_name": "Python 3 (ipykernel)",
   "language": "python",
   "name": "python3"
  },
  "language_info": {
   "codemirror_mode": {
    "name": "ipython",
    "version": 3
   },
   "file_extension": ".py",
   "mimetype": "text/x-python",
   "name": "python",
   "nbconvert_exporter": "python",
   "pygments_lexer": "ipython3",
   "version": "3.9.7"
  }
 },
 "nbformat": 4,
 "nbformat_minor": 5
}
