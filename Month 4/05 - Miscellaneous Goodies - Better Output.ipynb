{
 "cells": [
  {
   "cell_type": "markdown",
   "id": "413c1b14-c086-4d80-af45-f428ee55eb33",
   "metadata": {},
   "source": [
    "This notebook contains a mix of standard library modules and third-party libaries for doing more advanved and more useful output with your programs.\n",
    "\n",
    "# tqdm: Progress bars!\n",
    "\n",
    "Install with:\n",
    "\n",
    "```bash\n",
    "conda install tqdm\n",
    "```\n",
    "\n",
    "`tqdm` gives you progress bars when iterating through something.  This is immensely helpful if you've got a loop that will run over a lot of data, e.g., looping through lines in a very large file.  It has two important functions in it:\n",
    "\n",
    "- `tqdm.tqdm()`: wraps any iterable object and provides progress bars as you iterate through it.\n",
    "- `tqdm.trange()`: shortcut for `tqdm.tqdm(range(...))`.\n",
    "\n",
    "If you're using Jupyter notebooks, you can import these from `tqdm.notebook` for prettier printing.  Otherwise, import them from `tqdm` directly.  `tqdm` also integrates wonderfully with Pandas, which we'll see next month."
   ]
  },
  {
   "cell_type": "code",
   "execution_count": 1,
   "id": "8a7a4ab7-8b9b-4dd5-be9b-6362c1e09b87",
   "metadata": {},
   "outputs": [
    {
     "name": "stderr",
     "output_type": "stream",
     "text": [
      "100%|██████████████████████████████████████████████████████████████████████████████████| 10/10 [00:10<00:00,  1.01s/it]\n",
      "100%|██████████████████████████████████████████████████████████████████████████████████| 10/10 [00:10<00:00,  1.01s/it]\n"
     ]
    }
   ],
   "source": [
    "from tqdm import tqdm, trange\n",
    "from time import sleep # sleep(n) -> pause the program for n seconds\n",
    "\n",
    "for i in trange(10):\n",
    "    sleep(1)\n",
    "    \n",
    "numbers = [0, 1, 2, 3, 4, 5, 6, 7, 8, 9]\n",
    "for i in tqdm(numbers):\n",
    "    sleep(1)"
   ]
  },
  {
   "cell_type": "code",
   "execution_count": 2,
   "id": "55d86aa7-2cee-4ba8-80f9-67a1f7bb4169",
   "metadata": {},
   "outputs": [
    {
     "data": {
      "application/vnd.jupyter.widget-view+json": {
       "model_id": "644e5747827945feab999de4d4b980db",
       "version_major": 2,
       "version_minor": 0
      },
      "text/plain": [
       "  0%|          | 0/10 [00:00<?, ?it/s]"
      ]
     },
     "metadata": {},
     "output_type": "display_data"
    },
    {
     "data": {
      "application/vnd.jupyter.widget-view+json": {
       "model_id": "02a00bdb7c3a46fc8df6298783cd8700",
       "version_major": 2,
       "version_minor": 0
      },
      "text/plain": [
       "  0%|          | 0/9 [00:00<?, ?it/s]"
      ]
     },
     "metadata": {},
     "output_type": "display_data"
    }
   ],
   "source": [
    "# Same code, just using the tqdm.notebook implementations\n",
    "from tqdm.notebook import tqdm, trange\n",
    "from time import sleep\n",
    "\n",
    "for i in trange(10):\n",
    "    sleep(1)\n",
    "    \n",
    "numbers = [1, 2, 3, 4, 5, 6, 7, 8, 9]\n",
    "for i in tqdm(numbers):\n",
    "    sleep(1)"
   ]
  },
  {
   "cell_type": "markdown",
   "id": "1671a65a-aa16-49d9-ae5b-c5e8d1fed8ba",
   "metadata": {},
   "source": [
    "You can also add some nice decorations to the progress bars, like descriptions, and turn on unit scaling:"
   ]
  },
  {
   "cell_type": "code",
   "execution_count": 3,
   "id": "22335f07-5591-4eb2-b36f-20f9d6b05e0c",
   "metadata": {},
   "outputs": [
    {
     "data": {
      "application/vnd.jupyter.widget-view+json": {
       "model_id": "3f176241382f4935836b120036e1283b",
       "version_major": 2,
       "version_minor": 0
      },
      "text/plain": [
       "A big loop!:   0%|          | 0/10000000 [00:00<?, ?it/s]"
      ]
     },
     "metadata": {},
     "output_type": "display_data"
    },
    {
     "data": {
      "application/vnd.jupyter.widget-view+json": {
       "model_id": "730769edc5ad4bd381d1dcd5a06968f9",
       "version_major": 2,
       "version_minor": 0
      },
      "text/plain": [
       "A big loop!:   0%|          | 0.00/10.0M [00:00<?, ?it/s]"
      ]
     },
     "metadata": {},
     "output_type": "display_data"
    }
   ],
   "source": [
    "for i in trange(10_000_000, desc=\"A big loop!\"):\n",
    "    pass\n",
    "\n",
    "for i in trange(10_000_000, desc=\"A big loop!\", unit_scale=True):\n",
    "    pass"
   ]
  },
  {
   "cell_type": "markdown",
   "id": "1dc9ea93-cd5f-45c4-8614-a06ef5b87afc",
   "metadata": {},
   "source": [
    "You can manually control when the progress bar updates.  Note that if you don't give `tqdm.tqdm()` an iterable, or you give it one that doesn't have a known length, it will only show the number of iterations complete.  It won't print estimated time to completion information.  You can pass `total=` to force it to use that value for the total number of iterations it has to go though, if you know it ahead of time."
   ]
  },
  {
   "cell_type": "code",
   "execution_count": 4,
   "id": "bda1c8bc-dc22-4f6b-9bd8-5124afaa8bac",
   "metadata": {},
   "outputs": [
    {
     "data": {
      "application/vnd.jupyter.widget-view+json": {
       "model_id": "9c00825064644b79ae786335268597d6",
       "version_major": 2,
       "version_minor": 0
      },
      "text/plain": [
       "Odd numbers found: 0it [00:00, ?it/s]"
      ]
     },
     "metadata": {},
     "output_type": "display_data"
    }
   ],
   "source": [
    "with tqdm(desc=\"Odd numbers found\") as pbar:\n",
    "    for i in range(1000):\n",
    "        if i % 2 == 1:\n",
    "            pbar.update(1)\n",
    "            sleep(0.001)"
   ]
  },
  {
   "cell_type": "markdown",
   "id": "da0c757d-047d-43bd-aed4-28703cf919a0",
   "metadata": {},
   "source": [
    "Lastly, you can have multiple progress bars going at once, e.g. to track different things."
   ]
  },
  {
   "cell_type": "code",
   "execution_count": 5,
   "id": "f4373128-5be5-4070-8d4f-72755e6296c0",
   "metadata": {},
   "outputs": [
    {
     "data": {
      "application/vnd.jupyter.widget-view+json": {
       "model_id": "7e64fadd1504468eb457ded93913c967",
       "version_major": 2,
       "version_minor": 0
      },
      "text/plain": [
       "Numbers checked:   0%|          | 0/1000 [00:00<?, ?it/s]"
      ]
     },
     "metadata": {},
     "output_type": "display_data"
    },
    {
     "data": {
      "application/vnd.jupyter.widget-view+json": {
       "model_id": "a85743e7d7394a4abe3797d1898d87b1",
       "version_major": 2,
       "version_minor": 0
      },
      "text/plain": [
       "Odd numbers found: 0it [00:00, ?it/s]"
      ]
     },
     "metadata": {},
     "output_type": "display_data"
    }
   ],
   "source": [
    "with tqdm(desc=\"Numbers checked\", position=0, total=1000) as pbar1, tqdm(desc=\"Odd numbers found\", position=1) as pbar2:\n",
    "    for i in range(1000):\n",
    "        pbar1.update(1)\n",
    "        if i % 2 == 1:\n",
    "            pbar2.update(1)\n",
    "        sleep(0.001)"
   ]
  },
  {
   "cell_type": "markdown",
   "id": "5dc8c2ad-fa32-4f8d-aa03-036e0c844c89",
   "metadata": {},
   "source": [
    "# Warnings, Exceptions, and Asserting: How to make things break\n",
    "\n",
    "Sometimes you want to make sure your code crashes.  In fact, this happens more than you might think: forcing your code to crash can be a great way to make sure it's only doing *exactly* what it was supposed to, without adding a lot of extra logic.  E.g.: if your code is supposed to work on text files, but you give it an image file, it probably makes sense to have it crash and spot back a message like \"FileError: Can't open a .png file as a text file.\"\n",
    "\n",
    "Sometimes you want the messages to not crash the program, but you want to let the user know that something looks fishy.  E.g.: \"FileWarning: .txt file looks like a .csv file.  Opening as a .txt file anyways.\"\n",
    "\n",
    "It's easy to do both of these.  First, crashing your program.  We call this *raising* (or sometimes *throwing*) an *exception* (or *error*).  Use the magic `raise` keyword in Python to make this happen."
   ]
  },
  {
   "cell_type": "code",
   "execution_count": 6,
   "id": "15a2ef0b-10f5-4a30-a824-675e9020aaac",
   "metadata": {},
   "outputs": [
    {
     "ename": "ValueError",
     "evalue": "Oh no, the program hit an exception and is exiting!",
     "output_type": "error",
     "traceback": [
      "\u001b[1;31m---------------------------------------------------------------------------\u001b[0m",
      "\u001b[1;31mValueError\u001b[0m                                Traceback (most recent call last)",
      "Input \u001b[1;32mIn [6]\u001b[0m, in \u001b[0;36m<cell line: 1>\u001b[1;34m()\u001b[0m\n\u001b[1;32m----> 1\u001b[0m \u001b[38;5;28;01mraise\u001b[39;00m \u001b[38;5;167;01mValueError\u001b[39;00m(\u001b[38;5;124m\"\u001b[39m\u001b[38;5;124mOh no, the program hit an exception and is exiting!\u001b[39m\u001b[38;5;124m\"\u001b[39m)\n",
      "\u001b[1;31mValueError\u001b[0m: Oh no, the program hit an exception and is exiting!"
     ]
    }
   ],
   "source": [
    "raise ValueError(\"Oh no, the program hit an exception and is exiting!\")"
   ]
  },
  {
   "cell_type": "markdown",
   "id": "e7f55eab-199b-48c0-a30c-aabb88df99e6",
   "metadata": {},
   "source": [
    "The general syntax is very simple: `raise SomethingError(\"Error message\")`.  `SomethingError` is any of Python's built-in error/exception types--of which there are a lot, like `ValueError`, `DivideByZeroError`, `NameError`, and so on--but you can also create your own error types if needed.  Usually that's not necessary; Python's built-in exception types cover a lot of ground, and you should be putting the relevant information in the message text anyways.\n",
    "\n",
    "You can also use the `assert` keyword as a shorthand for some checks that *need* to be true for the program to continue."
   ]
  },
  {
   "cell_type": "code",
   "execution_count": 7,
   "id": "bb7d0e66-f27b-49d8-9076-ed399b9bc011",
   "metadata": {},
   "outputs": [
    {
     "ename": "AssertionError",
     "evalue": "Expected `name` to be 'George', got: 'Henry'.",
     "output_type": "error",
     "traceback": [
      "\u001b[1;31m---------------------------------------------------------------------------\u001b[0m",
      "\u001b[1;31mAssertionError\u001b[0m                            Traceback (most recent call last)",
      "Input \u001b[1;32mIn [7]\u001b[0m, in \u001b[0;36m<cell line: 2>\u001b[1;34m()\u001b[0m\n\u001b[0;32m      1\u001b[0m name \u001b[38;5;241m=\u001b[39m \u001b[38;5;124m\"\u001b[39m\u001b[38;5;124mHenry\u001b[39m\u001b[38;5;124m\"\u001b[39m\n\u001b[1;32m----> 2\u001b[0m \u001b[38;5;28;01massert\u001b[39;00m name \u001b[38;5;241m==\u001b[39m \u001b[38;5;124m\"\u001b[39m\u001b[38;5;124mGeorge\u001b[39m\u001b[38;5;124m\"\u001b[39m, \u001b[38;5;167;01mValueError\u001b[39;00m(\u001b[38;5;124mf\u001b[39m\u001b[38;5;124m\"\u001b[39m\u001b[38;5;124mExpected `name` to be \u001b[39m\u001b[38;5;124m'\u001b[39m\u001b[38;5;124mGeorge\u001b[39m\u001b[38;5;124m'\u001b[39m\u001b[38;5;124m, got: \u001b[39m\u001b[38;5;124m'\u001b[39m\u001b[38;5;132;01m{\u001b[39;00mname\u001b[38;5;132;01m}\u001b[39;00m\u001b[38;5;124m'\u001b[39m\u001b[38;5;124m.\u001b[39m\u001b[38;5;124m\"\u001b[39m)\n",
      "\u001b[1;31mAssertionError\u001b[0m: Expected `name` to be 'George', got: 'Henry'."
     ]
    }
   ],
   "source": [
    "name = \"Henry\"\n",
    "assert name == \"George\", ValueError(f\"Expected `name` to be 'George', got: '{name}'.\")"
   ]
  },
  {
   "cell_type": "markdown",
   "id": "12499ec8-a960-4289-8dc3-fd66164f9c12",
   "metadata": {},
   "source": [
    "Thi is *not quite* shorthand for \n",
    "```python\n",
    "if name != \"George\":\n",
    "    raise ValueError(...)\n",
    "```\n",
    "\n",
    "since Python can be told to ignore all `assert` checks.  This might be useful if, e.g., you have a lot of assert checks, but you've made sure they all pass, and you want to run your code without them for performance boosts, but you don't want to manually go back and remove them all.  (After all, you might need to use them later!)\n",
    "\n",
    "Warning are a bit more complex, but not by much.  Warnings are usually reserved for telling you when something looks a bit weird, but not so weird the code can't keep running.  Use the `warning` module in the standard library to issue your own warnings."
   ]
  },
  {
   "cell_type": "code",
   "execution_count": 8,
   "id": "86350ac1-809e-4a22-9a30-1b002519841c",
   "metadata": {},
   "outputs": [
    {
     "name": "stderr",
     "output_type": "stream",
     "text": [
      "C:\\Users\\andersonh\\AppData\\Local\\Temp\\ipykernel_14712\\1115626978.py:2: UserWarning: You did something strange.\n",
      "  warnings.warn(\"You did something strange.\", UserWarning)\n"
     ]
    }
   ],
   "source": [
    "import warnings\n",
    "warnings.warn(\"You did something strange.\", UserWarning)"
   ]
  },
  {
   "cell_type": "markdown",
   "id": "96ffccf9-0bf4-4277-8cf5-fc44453582ad",
   "metadata": {},
   "source": [
    "The second argument to `warnings.warn()` is any of Python's Warning types, which are all built-ins.  `UserWarning` is a good catch-all when you're not sure what category a warning belongs to."
   ]
  },
  {
   "cell_type": "markdown",
   "id": "bbe95c1d-861c-43cb-af5a-e02b4b36e7a1",
   "metadata": {},
   "source": [
    "# Prettier printing with `pprint` and `icecream`\n",
    "\n",
    "Consider the following dictionary, which is pretty messy and deeply nested:"
   ]
  },
  {
   "cell_type": "code",
   "execution_count": 9,
   "id": "dd0b7885-14e1-49cd-8e82-0a8ae36f5224",
   "metadata": {},
   "outputs": [],
   "source": [
    "my_dict = {\"name\":\"Henry\",\"favorite languages\":{\"python\":{\"rank\":\"2\",\"proficiency\":\"high\"},\"julia\":{\"rank\":\"1\",\"proficiency\":\"medium\"},\"haskell\":{\"rank\":\"3\",\"proficiency\":\"medium-low\"}}, \"degrees\":[[\"Rice\", \"Physics\", \"BA\"], [\"Rice\", \"Linguistics\", \"BA\"], [\"UT Arlington\", \"Linguistics\", \"MA\"]]}"
   ]
  },
  {
   "cell_type": "markdown",
   "id": "cddf3b1a-0783-4256-a503-cdd0f11c8ccf",
   "metadata": {},
   "source": [
    "If we just print it out, we get a hard-to-read mess."
   ]
  },
  {
   "cell_type": "code",
   "execution_count": 10,
   "id": "1f45a23c-5ffe-4d76-b106-766c3940b477",
   "metadata": {},
   "outputs": [
    {
     "name": "stdout",
     "output_type": "stream",
     "text": [
      "{'name': 'Henry', 'favorite languages': {'python': {'rank': '2', 'proficiency': 'high'}, 'julia': {'rank': '1', 'proficiency': 'medium'}, 'haskell': {'rank': '3', 'proficiency': 'medium-low'}}, 'degrees': [['Rice', 'Physics', 'BA'], ['Rice', 'Linguistics', 'BA'], ['UT Arlington', 'Linguistics', 'MA']]}\n"
     ]
    }
   ],
   "source": [
    "print(my_dict)"
   ]
  },
  {
   "cell_type": "markdown",
   "id": "0b5bf882-297e-4903-8827-5eb692f34099",
   "metadata": {},
   "source": [
    "We would like to see this a bit more nicely-formatted for us.  There are two major options.  (well, three, if you consider that this can be converted to a JSON and formatted using the JSON library--but we're focused on more general ways to format things nicely).  The first is to use the `pprint` module in the standard library.  This library \"pretty-prints\" (hence the name) data structures you pass to the `pprint.pprint()` function."
   ]
  },
  {
   "cell_type": "code",
   "execution_count": 11,
   "id": "014f97d5-8c44-49b5-a2af-7c0129399e6f",
   "metadata": {},
   "outputs": [
    {
     "name": "stdout",
     "output_type": "stream",
     "text": [
      "{'degrees': [['Rice', 'Physics', 'BA'],\n",
      "             ['Rice', 'Linguistics', 'BA'],\n",
      "             ['UT Arlington', 'Linguistics', 'MA']],\n",
      " 'favorite languages': {'haskell': {'proficiency': 'medium-low', 'rank': '3'},\n",
      "                        'julia': {'proficiency': 'medium', 'rank': '1'},\n",
      "                        'python': {'proficiency': 'high', 'rank': '2'}},\n",
      " 'name': 'Henry'}\n"
     ]
    }
   ],
   "source": [
    "import pprint\n",
    "pprint.pprint(my_dict)"
   ]
  },
  {
   "cell_type": "markdown",
   "id": "43e99a47-089a-41b2-af37-6595782eaec4",
   "metadata": {},
   "source": [
    "If you need to get the prett-formatted string, because you want to do something with it later, you can use `pprint.pformat`."
   ]
  },
  {
   "cell_type": "code",
   "execution_count": 12,
   "id": "ab462e4c-45ce-41c0-bbf9-eafacedca012",
   "metadata": {},
   "outputs": [
    {
     "name": "stdout",
     "output_type": "stream",
     "text": [
      "{'degrees': [['Rice', 'Physics', 'BA'],\n",
      "             ['Rice', 'Linguistics', 'BA'],\n",
      "             ['UT Arlington', 'Linguistics', 'MA']],\n",
      " 'favorite languages': {'haskell': {'proficiency': 'medium-low', 'rank': '3'},\n",
      "                        'julia': {'proficiency': 'medium', 'rank': '1'},\n",
      "                        'python': {'proficiency': 'high', 'rank': '2'}},\n",
      " 'name': 'Henry'}\n"
     ]
    }
   ],
   "source": [
    "formatted = pprint.pformat(my_dict)\n",
    "print(formatted)"
   ]
  },
  {
   "cell_type": "markdown",
   "id": "6786203a-39d6-4e77-876f-590f36698caf",
   "metadata": {},
   "source": [
    "There are a lot of things you can control with the pretty-printing tools in Python--you can read the `pprint` documentation for details--but I find that just using `pprint.pprint()` usually gets the job done.\n",
    "\n",
    "There is also a third-party library, `icecream`, which has a function in it named `ic()`.  This function behaves like pretty-printing, but it's more designed for debugging and monitoring your program.  Install icecream with:\n",
    "\n",
    "```bash\n",
    "conda install -c conda-forge icecream\n",
    "```\n",
    "\n",
    "(`icecream` is not available in the main `conda` channel--you need to grab it from `conda-forge`)"
   ]
  },
  {
   "cell_type": "code",
   "execution_count": 13,
   "id": "b986da03-d61a-497a-bae9-537a93625ac1",
   "metadata": {},
   "outputs": [
    {
     "name": "stderr",
     "output_type": "stream",
     "text": [
      "ic| my_dict: {'degrees': [['Rice', 'Physics', 'BA'],\n",
      "                          ['Rice', 'Linguistics', 'BA'],\n",
      "                          ['UT Arlington', 'Linguistics', 'MA']],\n",
      "              'favorite languages': {'haskell': {'proficiency': 'medium-low', 'rank': '3'},\n",
      "                                     'julia': {'proficiency': 'medium', 'rank': '1'},\n",
      "                                     'python': {'proficiency': 'high', 'rank': '2'}},\n",
      "              'name': 'Henry'}\n"
     ]
    },
    {
     "data": {
      "text/plain": [
       "{'name': 'Henry',\n",
       " 'favorite languages': {'python': {'rank': '2', 'proficiency': 'high'},\n",
       "  'julia': {'rank': '1', 'proficiency': 'medium'},\n",
       "  'haskell': {'rank': '3', 'proficiency': 'medium-low'}},\n",
       " 'degrees': [['Rice', 'Physics', 'BA'],\n",
       "  ['Rice', 'Linguistics', 'BA'],\n",
       "  ['UT Arlington', 'Linguistics', 'MA']]}"
      ]
     },
     "execution_count": 13,
     "metadata": {},
     "output_type": "execute_result"
    }
   ],
   "source": [
    "from icecream import ic\n",
    "ic(my_dict)"
   ]
  },
  {
   "cell_type": "markdown",
   "id": "fa6e78a9-fc7b-422b-a4a7-06c5b6de0c32",
   "metadata": {},
   "source": [
    "Note the red text in the above output--that's the part you usually care about.  In PyCharm or anything other than Jupyter, the output generally looks nicer, including supporting colors!"
   ]
  },
  {
   "cell_type": "markdown",
   "id": "bb2161fe-2548-4e17-aa6e-553f7bd359ab",
   "metadata": {},
   "source": [
    "# `logging`: How to check what your code did\n",
    "\n",
    "*For more details: check the [logging HOWTO](https://docs.python.org/3/howto/logging.html) guide in the Python documentation.*\n",
    "\n",
    "Here's a good rule of thumb: *more feedback is better* (in life, generally, but also in code).  It's much better to have code that tells you what it's doing at each step, ideally with progress bars (like `tqdm`!), rather than code that just sits there spinning away until it magically gets an answer.  If your code has no intermediate output, it's much harder to readin about things like:\n",
    "- Is my code stuck somewhere?  Maybe in an infinite loop?\n",
    "- Did my code get a lot more data than it was expecting, so it's just taking a while to churn through it?\n",
    "- What file did my code actually load?\n",
    "- Does anything look a little strange when the code is running?\n",
    "\n",
    "You *could* just use a lot of `print()` function calls, but this causes a problem.  You're probably already using `print()` for the \"important output\" from the program; if you start adding tons of `print()` calls everywhere to monitor things like the above problems, it can be harder to find the output you actually need.\n",
    "\n",
    "Enter *logging:* a set of tools and techniques to let you print out as many detailed messages about your program as you want, without cluttering up the important output from `print()` functions!  Usually, any *logged messages* will be written to a *logfile*, which you (usually) only need to read if something crashes and you need to debug it.\n",
    "\n",
    "Python's standard library has a `logging` module that will do basically everything you need."
   ]
  },
  {
   "cell_type": "code",
   "execution_count": 14,
   "id": "f6d24685-91ee-4d5a-b319-244d12f2cbdd",
   "metadata": {},
   "outputs": [
    {
     "name": "stderr",
     "output_type": "stream",
     "text": [
      "C:\\Users\\andersonh\\AppData\\Local\\Temp\\ipykernel_14712\\3049607686.py:11: DeprecationWarning: The 'warn' function is deprecated, use 'warning' instead\n",
      "  logging.warn(\n",
      "WARNING:root:I'm a WARNING message.  If you see me, something in your program looks weird.  The program is still running, but you should probably check on this, because it might be something you want to deal with.\n",
      "ERROR:root:I'm an ERROR message.  If you see me, something has gone wrong. The code might keep running--maybe this is an error that got caught and handled--but something still went wrong.\n",
      "ERROR:root:I'm an EXCEPTION message.  I'm basically the same as an error message, but usually you'll see me when the thing that went wrong is a pretty common kind of issue.  E.g., divding by zero, referencing a variable that doesn't exist, or trying to add two things that can't be added.\n",
      "NoneType: None\n",
      "CRITICAL:root:I'm a CRITICAL message.  Usually if you see me, it means something has gone so terribly wrong that the program (or some part of the program) can't keep running and has to stop.\n"
     ]
    }
   ],
   "source": [
    "import logging\n",
    "\n",
    "logging.debug(\n",
    "    \"I'm a DEBUG message.  You probably don't need to read me \"\n",
    "    \"unless you're doing a really deep dive into what happened.\"\n",
    ")\n",
    "logging.info(\n",
    "    \"I'm an INFO message.  I might be useful for quick sanity \"\n",
    "    \"checks.  I'm usually less detailed than a debug message.\"\n",
    ")\n",
    "logging.warn(\n",
    "    \"I'm a WARNING message.  If you see me, something in your \"\n",
    "    \"program looks weird.  The program is still running, but you \"\n",
    "    \"should probably check on this, because it might be \"\n",
    "    \"something you want to deal with.\"\n",
    ")\n",
    "logging.error(\n",
    "    \"I'm an ERROR message.  If you see me, something has gone wrong. \"\n",
    "    \"The code might keep running--maybe this is an error that got caught \"\n",
    "    \"and handled--but something still went wrong.\"\n",
    ")\n",
    "logging.exception(\n",
    "    \"I'm an EXCEPTION message.  I'm basically the same as an error \"\n",
    "    \"message, but usually you'll see me when the thing that went wrong \"\n",
    "    \"is a pretty common kind of issue.  E.g., divding by zero, referencing \"\n",
    "    \"a variable that doesn't exist, or trying to add two things that can't \"\n",
    "    \"be added.\"\n",
    ")\n",
    "logging.critical(\n",
    "    \"I'm a CRITICAL message.  Usually if you see me, it means something \"\n",
    "    \"has gone so terribly wrong that the program (or some part of the program) \"\n",
    "    \"can't keep running and has to stop.\"\n",
    ")"
   ]
  },
  {
   "cell_type": "markdown",
   "id": "42144826-81f9-491e-8cd5-33b42e54b2f7",
   "metadata": {},
   "source": [
    "Note how debug and info messages were not printed out.  Each kind of message ha a *log level* associated with it; debug is the lowest, and critical is the highest.  By default, Python only prints out warnings and above.  You can change this, though, pretty easily, in two ways.\n",
    "\n",
    "1. When you run your program, use `python --log=DEBUG` (or whatever the *lowest* log level is you want to see).\n",
    "2. Use a `logging.basicConfig()` call to change the options from within your program.\n",
    "\n",
    "Note that neither of these work in Jupyter notebooks, so I won't be showing them here.  But, try copying an passting the code below into PyCharm (or another editor of your choice) and running it to see what happens."
   ]
  },
  {
   "cell_type": "code",
   "execution_count": 15,
   "id": "d4ecc15e-6dea-49c4-a2d8-936e7e84dee4",
   "metadata": {},
   "outputs": [
    {
     "name": "stderr",
     "output_type": "stream",
     "text": [
      "C:\\Users\\andersonh\\AppData\\Local\\Temp\\ipykernel_14712\\3065609046.py:11: DeprecationWarning: The 'warn' function is deprecated, use 'warning' instead\n",
      "  logging.warn(\n",
      "WARNING:root:I'm a WARNING message.  If you see me, something in your program looks weird.  The program is still running, but you should probably check on this, because it might be something you want to deal with.\n"
     ]
    }
   ],
   "source": [
    "import logging\n",
    "logging.basicConfig(level=logging.DEBUG)\n",
    "logging.debug(\n",
    "    \"I'm a DEBUG message.  You probably don't need to read me \"\n",
    "    \"unless you're doing a really deep dive into what happened.\"\n",
    ")\n",
    "logging.info(\n",
    "    \"I'm an INFO message.  I might be useful for quick sanity \"\n",
    "    \"checks.  I'm usually less detailed than a debug message.\"\n",
    ")\n",
    "logging.warn(\n",
    "    \"I'm a WARNING message.  If you see me, something in your \"\n",
    "    \"program looks weird.  The program is still running, but you \"\n",
    "    \"should probably check on this, because it might be \"\n",
    "    \"something you want to deal with.\"\n",
    ")"
   ]
  },
  {
   "cell_type": "markdown",
   "id": "44ac0bda-6912-4f28-b01e-4cc947551004",
   "metadata": {},
   "source": [
    "You can also use the `logging.basicConfig()` to redirect all log messages to a file.  This is the most common way to use logging--usually, it's for checking what happened *after the fact* rather than *while the code is running.*"
   ]
  },
  {
   "cell_type": "code",
   "execution_count": 16,
   "id": "147bad99-8217-46d7-8454-5fc1af423f89",
   "metadata": {},
   "outputs": [
    {
     "name": "stderr",
     "output_type": "stream",
     "text": [
      "CRITICAL:root:Something broke!\n"
     ]
    }
   ],
   "source": [
    "# make sure to still set `level=`; only messages at or above this logging level\n",
    "# are sent to the log file.  This also doesn't always work great in Jupyter\n",
    "# Notebooks--the file might not get created where you want it to.\n",
    "logging.basicConfig(filename=\"logging_demo.log\", level=logging.DEBUG)\n",
    "logging.debug(\"I'm a debug message.\")\n",
    "logging.critical(\"Something broke!\")"
   ]
  }
 ],
 "metadata": {
  "kernelspec": {
   "display_name": "Python 3 (ipykernel)",
   "language": "python",
   "name": "python3"
  },
  "language_info": {
   "codemirror_mode": {
    "name": "ipython",
    "version": 3
   },
   "file_extension": ".py",
   "mimetype": "text/x-python",
   "name": "python",
   "nbconvert_exporter": "python",
   "pygments_lexer": "ipython3",
   "version": "3.9.7"
  }
 },
 "nbformat": 4,
 "nbformat_minor": 5
}
