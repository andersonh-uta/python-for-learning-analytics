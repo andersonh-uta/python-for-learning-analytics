{
 "cells": [
  {
   "cell_type": "markdown",
   "id": "d8852bcf-faf1-42ec-a81b-304e5c6f5a67",
   "metadata": {
    "tags": []
   },
   "source": [
    "# Database-style joins\n",
    "\n",
    "Say we have two datasets.  One is a list of students in a course, plus all the assignments they've submitted and their grades on those assignments.  The dataset has one row for each assignment, and looks something like this:\n",
    "\n",
    "| Student ID | Assignment | Grade |\n",
    "| --- | --- | --- |\n",
    "| 001 | Midterm | 90 |\n",
    "| 001 | Final | 78 |\n",
    "| 002 | Midterm | 100 |\n",
    "| 002 | Final | 100 |\n",
    "\n",
    "Our second dataset is a list of students and their majors:\n",
    "\n",
    "| Student ID | Major |\n",
    "| --- | --- |\n",
    "| 001 |  Physics |\n",
    "| 002 |  History |\n",
    "\n",
    "If we want to do some analysis of how grades differ by major, we'll need to combine these datasets somehow.  We want to get a dataset that looks something like this:\n",
    "\n",
    "| Student ID | Assignment | Grade | Major |\n",
    "| --- | --- | --- | --- |\n",
    "| 001 | Midterm | 90 | Physics |\n",
    "| 001 | Final | 78 | Physics |\n",
    "| 002 | Midterm | 100 | History |\n",
    "| 002 | Final | 100 | History |\n",
    "\n",
    "But, there's an important question we need to answer.  If we have a student in one dataset but not the other, how do we want to handle that?  E.g., if we have a student who hasn't declared a major yet, and isn't in the second dataset?  We really only have two sensible options:\n",
    "\n",
    "1. Don't include them in the final dataset.  We don't know their major, so it could throw things off.  If we want to do this, we'll use an *inner join:* combine two datasets, and only keep observation that have a corresponding entry in *both*.\n",
    "2. Include them, but set their major to a missing value.  We can then analyze \"no/missing major\" students to see if there's any patterns with them.  This would be a *left join:* keep *all* observation from one dataset (we get to pick which one); if someone doesn't appear in the other one, just use missing values.\n",
    "\n",
    "Note that there's also a *right join*, which is the same thing as a left join, but you just switch which dataset is the \"keep everything from here\" dataset, and an *outer join* (sometimes called a *full join*), which says \"keep all observations from both datasets.\"  Right joins are pretty rare, since most people just use left joins; outer joins are uncommon, since they're not as widely useful.\n",
    "\n",
    "When we join two datasets, we need to specify how to determine if two records \"match.\"  We don't have a lot of flexibility here; we provide a column (or list of columns), and rows are combined if they have the same values from those columns.  This can sometimes cause issues: imagine joining two datasets based on first name.  Let's say it's a dataset about US Presidents.  If you do that, then \"James Madison\" and \"James Monroe\" will both match, and you'll get a messed up dataset.  In this case, you'd want to probably specify a join on first, middle, and last name, so that all three have to be identical for two records to be considered a match.\n",
    "\n",
    "Pandas lets you do all of these kinds of joins using the `pd.merge()` function or the `DataFrame.merge()` method.  Let's make a small dataset and show what each one of these looks like."
   ]
  },
  {
   "cell_type": "code",
   "execution_count": 1,
   "id": "3fa603ce-91c7-4973-8b52-d465adc1ac0b",
   "metadata": {},
   "outputs": [
    {
     "name": "stdout",
     "output_type": "stream",
     "text": [
      "   Student ID Assignment  Grade\n",
      "0           1    Midterm     90\n",
      "1           1      Final     78\n",
      "2           2    Midterm    100\n",
      "3           2      Final    100\n",
      "4           3    Midterm     50\n",
      "5           3      Final     87\n",
      "\n",
      "   Student ID    Major\n",
      "0           1  Physics\n",
      "1           2  History\n",
      "2           4  English\n"
     ]
    }
   ],
   "source": [
    "import pandas as pd\n",
    "\n",
    "assignments = pd.DataFrame(\n",
    "    {\n",
    "        \"Student ID\": [1, 1, 2, 2, 3, 3],\n",
    "        \"Assignment\": [\"Midterm\", \"Final\", \"Midterm\", \"Final\", \"Midterm\", \"Final\"],\n",
    "        \"Grade\": [90, 78, 100, 100, 50, 87],\n",
    "    }\n",
    ")\n",
    "\n",
    "students = pd.DataFrame(\n",
    "    {\n",
    "        \"Student ID\": [1, 2, 4],\n",
    "        \"Major\": [\"Physics\", \"History\", \"English\"],\n",
    "    }\n",
    ")\n",
    "\n",
    "print(assignments)\n",
    "print()\n",
    "print(students)"
   ]
  },
  {
   "cell_type": "markdown",
   "id": "f09c6e36-9077-4c0a-b05c-2a6c05db7404",
   "metadata": {},
   "source": [
    "In order to join/merge these two datasets, we need to specify the *column(s) to merge on.*  Pandas will find all records from the two datasets where all the specified columns have *the same value*, and combine their data into a new record."
   ]
  },
  {
   "cell_type": "code",
   "execution_count": 2,
   "id": "7c30e696-45cd-430c-a707-c935345c18fd",
   "metadata": {},
   "outputs": [
    {
     "name": "stdout",
     "output_type": "stream",
     "text": [
      "   Student ID Assignment  Grade    Major\n",
      "0           1    Midterm     90  Physics\n",
      "1           1      Final     78  Physics\n",
      "2           2    Midterm    100  History\n",
      "3           2      Final    100  History\n",
      "4           3    Midterm     50      NaN\n",
      "5           3      Final     87      NaN\n"
     ]
    }
   ],
   "source": [
    "# Left join: keep all records from the `left=` dataset\n",
    "print(\n",
    "    pd.merge(\n",
    "        left=assignments, # The \"left\" dataset\n",
    "        right=students,   # The \"right\" dataset\n",
    "        on=\"Student ID\",  # The column where values need to match\n",
    "        how=\"left\",       # The kind of join (left/right/inner/outer)\n",
    "    )\n",
    ")"
   ]
  },
  {
   "cell_type": "code",
   "execution_count": 3,
   "id": "f1ecaa5a-1177-483a-bfd7-8acad902a408",
   "metadata": {},
   "outputs": [
    {
     "name": "stdout",
     "output_type": "stream",
     "text": [
      "   Student ID Assignment  Grade    Major\n",
      "0           1    Midterm   90.0  Physics\n",
      "1           1      Final   78.0  Physics\n",
      "2           2    Midterm  100.0  History\n",
      "3           2      Final  100.0  History\n",
      "4           4        NaN    NaN  English\n"
     ]
    }
   ],
   "source": [
    "# Right join: keep all records from the `right=` dataset\n",
    "print(\n",
    "    pd.merge(\n",
    "        left=assignments,\n",
    "        right=students,\n",
    "        on=\"Student ID\",\n",
    "        how=\"right\",\n",
    "    )\n",
    ")"
   ]
  },
  {
   "cell_type": "markdown",
   "id": "aa2c101f-34b6-4024-bcba-35a22967ec56",
   "metadata": {},
   "source": [
    "Note that `pd.merge(left=x, right=y, how=\"right\")` is identical to `pd.merge(left=y, right=x, how=\"left\")`--this is one of the reasons that right joins are pretty uncommon."
   ]
  },
  {
   "cell_type": "code",
   "execution_count": 4,
   "id": "9b38c8bc-cea9-409c-84ed-cb4ddd0be242",
   "metadata": {},
   "outputs": [
    {
     "name": "stdout",
     "output_type": "stream",
     "text": [
      "   Student ID Assignment  Grade    Major\n",
      "0           1    Midterm     90  Physics\n",
      "1           1      Final     78  Physics\n",
      "2           2    Midterm    100  History\n",
      "3           2      Final    100  History\n"
     ]
    }
   ],
   "source": [
    "# Inner join: keep only records common to both datasets\n",
    "print(\n",
    "    pd.merge(\n",
    "        left=assignments,\n",
    "        right=students,\n",
    "        on=\"Student ID\",\n",
    "        how=\"inner\",\n",
    "    )\n",
    ")"
   ]
  },
  {
   "cell_type": "code",
   "execution_count": 5,
   "id": "12cc1b10-a19d-4408-9689-3a3331bc0005",
   "metadata": {},
   "outputs": [
    {
     "name": "stdout",
     "output_type": "stream",
     "text": [
      "   Student ID Assignment  Grade    Major\n",
      "0           1    Midterm   90.0  Physics\n",
      "1           1      Final   78.0  Physics\n",
      "2           2    Midterm  100.0  History\n",
      "3           2      Final  100.0  History\n",
      "4           3    Midterm   50.0      NaN\n",
      "5           3      Final   87.0      NaN\n",
      "6           4        NaN    NaN  English\n"
     ]
    }
   ],
   "source": [
    "# Outer join: keep all records from both datasets.\n",
    "print(\n",
    "    pd.merge(\n",
    "        left=assignments,\n",
    "        right=students,\n",
    "        on=\"Student ID\",\n",
    "        how=\"outer\",\n",
    "    )\n",
    ")"
   ]
  },
  {
   "cell_type": "markdown",
   "id": "14335d92-cb85-43aa-b30a-a22bf1240da9",
   "metadata": {},
   "source": [
    "Lastly, an example of a join going wrong and needing more than one join column specified."
   ]
  },
  {
   "cell_type": "code",
   "execution_count": 6,
   "id": "2a237df3-5dc5-498c-90cf-f551f7bcbf8f",
   "metadata": {},
   "outputs": [
    {
     "name": "stdout",
     "output_type": "stream",
     "text": [
      "  First Name Last Name_x   Innaugurated Last Name_y        Birthday\n",
      "0      James     Madison  March 4, 1809     Madison  March 16, 1751\n",
      "1      James     Madison  March 4, 1809      Monroe  April 28, 1758\n",
      "2      James      Monroe  March 4, 1817     Madison  March 16, 1751\n",
      "3      James      Monroe  March 4, 1817      Monroe  April 28, 1758\n"
     ]
    }
   ],
   "source": [
    "innaugurations = pd.DataFrame(\n",
    "    {\n",
    "        \"First Name\": [\"James\", \"James\"],\n",
    "        \"Last Name\": [\"Madison\", \"Monroe\"],\n",
    "        \"Innaugurated\": [\"March 4, 1809\", \"March 4, 1817\"]\n",
    "    }\n",
    ")\n",
    "birthdays = pd.DataFrame(\n",
    "    {\n",
    "        \"First Name\": [\"James\", \"James\"],\n",
    "        \"Last Name\": [\"Madison\", \"Monroe\"],\n",
    "        \"Birthday\": [\"March 16, 1751\", \"April 28, 1758\"]\n",
    "    }\n",
    ")\n",
    "\n",
    "print(\n",
    "    pd.merge(\n",
    "        left=innaugurations,\n",
    "        right=birthdays,\n",
    "        on=\"First Name\",\n",
    "        how=\"inner\"\n",
    "    )\n",
    ")"
   ]
  },
  {
   "cell_type": "markdown",
   "id": "7004afa3-b398-4688-946a-cb73126c5a38",
   "metadata": {},
   "source": [
    "Uh-oh.  Notice how we now have two entries for each president!  That's not right.  Also notice how the \"Last Name\" column copied over, but one version has a \"\\_y\" at the end of its name.  Pandas automatically adds suffixes like this whenever there are column with the same name in both dataset that are *not* part of the `on=` argument.  You can always drop this column later (or before the join), and you usually should.\n",
    "\n",
    "Let's fix this join, by specifying multiple columns for the `on=` argument."
   ]
  },
  {
   "cell_type": "code",
   "execution_count": 7,
   "id": "35bce55a-6dc2-41e7-84fc-7c9694665a1e",
   "metadata": {},
   "outputs": [
    {
     "name": "stdout",
     "output_type": "stream",
     "text": [
      "  First Name Last Name   Innaugurated        Birthday\n",
      "0      James   Madison  March 4, 1809  March 16, 1751\n",
      "1      James    Monroe  March 4, 1817  April 28, 1758\n"
     ]
    }
   ],
   "source": [
    "print(\n",
    "    pd.merge(\n",
    "        left=innaugurations,\n",
    "        right=birthdays,\n",
    "        on=[\"First Name\", \"Last Name\"],\n",
    "        how=\"inner\"\n",
    "    )\n",
    ")"
   ]
  },
  {
   "cell_type": "markdown",
   "id": "26ff8600-5b96-4855-9955-5d5717319c1b",
   "metadata": {},
   "source": [
    "But there's an important question you migth have: what if the column names I need to join on are different across the two datasets?  E.g. one has \"First Name\" and the other just has \"First\"?  There are two solution:\n",
    "\n",
    "1. Rename the columns in one of your datasets.\n",
    "2. Instead of using `on=`, you can use `left_on=` and `right_on=`.  Give each argument a column or list of columns, and they'll be matched by position.\n",
    "\n",
    "E.g.:"
   ]
  },
  {
   "cell_type": "code",
   "execution_count": 8,
   "id": "dd29b6c0-6fca-46e1-9aa8-852d01c87ef0",
   "metadata": {},
   "outputs": [
    {
     "name": "stdout",
     "output_type": "stream",
     "text": [
      "  First Name Last Name   Innaugurated firstname lastname        Birthday\n",
      "0      James   Madison  March 4, 1809     James  Madison  March 16, 1751\n",
      "1      James    Monroe  March 4, 1817     James   Monroe  April 28, 1758\n"
     ]
    }
   ],
   "source": [
    "birthdays = pd.DataFrame(\n",
    "    {\n",
    "        \"firstname\": [\"James\", \"James\"],\n",
    "        \"lastname\": [\"Madison\", \"Monroe\"],\n",
    "        \"Birthday\": [\"March 16, 1751\", \"April 28, 1758\"]\n",
    "    }\n",
    ")\n",
    "\n",
    "print(\n",
    "    pd.merge(\n",
    "        left=innaugurations,\n",
    "        right=birthdays,\n",
    "        # Joins where the \"First Name\" column from `innaugurations` equals\n",
    "        # the \"firstname\" column from `birthdays`, AND where \"Last Name\"\n",
    "        # from `innaugurations` equals \"lastname\" from `birthdays`.\n",
    "        left_on=[\"First Name\", \"Last Name\"],\n",
    "        right_on=[\"firstname\", \"lastname\"],\n",
    "        how=\"inner\"\n",
    "    )\n",
    ")"
   ]
  }
 ],
 "metadata": {
  "kernelspec": {
   "display_name": "Python 3 (ipykernel)",
   "language": "python",
   "name": "python3"
  },
  "language_info": {
   "codemirror_mode": {
    "name": "ipython",
    "version": 3
   },
   "file_extension": ".py",
   "mimetype": "text/x-python",
   "name": "python",
   "nbconvert_exporter": "python",
   "pygments_lexer": "ipython3",
   "version": "3.9.7"
  }
 },
 "nbformat": 4,
 "nbformat_minor": 5
}
