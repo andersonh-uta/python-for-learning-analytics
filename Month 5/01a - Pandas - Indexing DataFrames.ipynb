{
 "cells": [
  {
   "cell_type": "markdown",
   "id": "2a41a296-0e84-4853-aeef-e487076707dd",
   "metadata": {},
   "source": [
    "# Indexing `DataFrame`s\n",
    "\n",
    "A `DataFrame` can be indexed in a few different ways.  Let's use a small example `DataFrame` to show what these ways are."
   ]
  },
  {
   "cell_type": "code",
   "execution_count": 1,
   "id": "63c244c6-2d11-44e5-ae47-60a0fa62f43d",
   "metadata": {},
   "outputs": [
    {
     "name": "stdout",
     "output_type": "stream",
     "text": [
      "   x1  x2 x3\n",
      "0   1  11  a\n",
      "1   2  12  b\n",
      "2   3  13  a\n",
      "3   4  14  b\n",
      "4   5  15  a\n",
      "5   6  16  b\n",
      "6   7  17  a\n",
      "7   8  18  b\n",
      "8   9  19  a\n",
      "9  10  20  b\n"
     ]
    }
   ],
   "source": [
    "import pandas as pd\n",
    "\n",
    "# One way to manually construct a dataframe: call pd.DataFrame() on\n",
    "# a dictionary.  The dictionary should be in the form: {\"column name\": [column values]}.\n",
    "# The `pd.DataFrame()` function has a LOT of ways it can construct dataframes,\n",
    "# so read the documentation to see other ways you can do this.\n",
    "df = pd.DataFrame({\n",
    "    \"x1\": [1, 2, 3, 4, 5, 6, 7, 8, 9, 10],\n",
    "    \"x2\": [11, 12, 13, 14, 15, 16, 17, 18, 19, 20],\n",
    "    \"x3\": [\"a\", \"b\", \"a\", \"b\", \"a\", \"b\", \"a\", \"b\", \"a\", \"b\"]\n",
    "})\n",
    "print(df)"
   ]
  },
  {
   "cell_type": "code",
   "execution_count": 2,
   "id": "6f94d63d-6e90-4d07-9f9e-bcb63af036de",
   "metadata": {},
   "outputs": [
    {
     "name": "stdout",
     "output_type": "stream",
     "text": [
      "0     1\n",
      "1     2\n",
      "2     3\n",
      "3     4\n",
      "4     5\n",
      "5     6\n",
      "6     7\n",
      "7     8\n",
      "8     9\n",
      "9    10\n",
      "Name: x1, dtype: int64\n"
     ]
    }
   ],
   "source": [
    "# Select a single column\n",
    "print(df[\"x1\"])"
   ]
  },
  {
   "cell_type": "code",
   "execution_count": 3,
   "id": "cceedfaf-b549-4c19-807a-bb7658d7c385",
   "metadata": {},
   "outputs": [
    {
     "name": "stdout",
     "output_type": "stream",
     "text": [
      "   x1  x2\n",
      "0   1  11\n",
      "1   2  12\n",
      "2   3  13\n",
      "3   4  14\n",
      "4   5  15\n",
      "5   6  16\n",
      "6   7  17\n",
      "7   8  18\n",
      "8   9  19\n",
      "9  10  20\n"
     ]
    }
   ],
   "source": [
    "# Select multiple columns: index with a list/tuple/array of column names.\n",
    "print(df[[\"x1\", \"x2\"]])"
   ]
  },
  {
   "cell_type": "code",
   "execution_count": 4,
   "id": "c30d1fe6-e314-4a8c-ae66-d655953fb701",
   "metadata": {},
   "outputs": [
    {
     "name": "stdout",
     "output_type": "stream",
     "text": [
      "   x1  x2 x3\n",
      "0   1  11  a\n",
      "2   3  13  a\n",
      "4   5  15  a\n",
      "6   7  17  a\n",
      "8   9  19  a\n"
     ]
    }
   ],
   "source": [
    "# Filter rows by indexing with an array of booleans.\n",
    "# This array needs to be exactly as long as the dataframe is tall.\n",
    "# This works exactly the same as indexing a Numpy array with an\n",
    "# array of booleans.\n",
    "# This example will drop every other row.\n",
    "print(df[\n",
    "    [True, False, True, False, True, False, True, False, True, False]\n",
    "])"
   ]
  },
  {
   "cell_type": "code",
   "execution_count": 5,
   "id": "02000453-6853-4512-aaf6-07ffbbdfd146",
   "metadata": {},
   "outputs": [
    {
     "name": "stdout",
     "output_type": "stream",
     "text": [
      "   x1  x2\n",
      "0   1  11\n",
      "1   2  12\n",
      "2   3  13\n",
      "3   4  14\n",
      "4   5  15\n",
      "5   6  16\n",
      "6   7  17\n",
      "7   8  18\n",
      "8   9  19\n",
      "9  10  20\n",
      "    x1 x3\n",
      "x2       \n",
      "11   1  a\n",
      "12   2  b\n",
      "13   3  a\n"
     ]
    }
   ],
   "source": [
    "# There are also the .loc and .iloc properties on dataframes,\n",
    "# which can be used for faster indexing/lookups in some edge cases.\n",
    "# But you don't need to worry about them for a while (I very rarely\n",
    "# use them).\n",
    "#\n",
    "# df.iloc lets you select rows and columns *by index/position.*\n",
    "# Syntax: df.iloc[row_indexer, column_indexer].\n",
    "# column_indexer is optional; all columns are selected if it's omitted.\n",
    "# Use `:` to select all rows/columns explicitly.\n",
    "print(df.iloc[:, [0, 1]])\n",
    "\n",
    "# df.loc lets you select *by name*.\n",
    "# In this dataframe, the index is numeric, so it'll look like\n",
    "# selecting rows by position.  So let's set the index to x2 first.\n",
    "print(df.set_index(\"x2\").loc[[11, 12, 13], :])"
   ]
  },
  {
   "cell_type": "markdown",
   "id": "f78fd15d-f43a-4037-89f9-ca1a6e17b440",
   "metadata": {},
   "source": [
    "Now, let's combine a few of these ideas together, and create something called a *subquery*.  (so named because it looks a lot like subqueries in SQL).  A subquery is a filtering step where you filter *based on some condition* that is checked for each column/row.  E.g., \"keep all rows where the value of x1 is even.\""
   ]
  },
  {
   "cell_type": "code",
   "execution_count": 6,
   "id": "7630254d-c077-4cf0-8c7c-f650f9402bb2",
   "metadata": {},
   "outputs": [
    {
     "name": "stdout",
     "output_type": "stream",
     "text": [
      "0    False\n",
      "1     True\n",
      "2    False\n",
      "3     True\n",
      "4    False\n",
      "5     True\n",
      "6    False\n",
      "7     True\n",
      "8    False\n",
      "9     True\n",
      "Name: x1, dtype: bool\n"
     ]
    }
   ],
   "source": [
    "# Operations are vectorized, so this returns an array of booleans.\n",
    "where = df[\"x1\"] % 2 == 0\n",
    "print(where)"
   ]
  },
  {
   "cell_type": "code",
   "execution_count": 7,
   "id": "5c1c5128-f0f6-4bac-8435-2ee6fd5b4d94",
   "metadata": {},
   "outputs": [
    {
     "name": "stdout",
     "output_type": "stream",
     "text": [
      "   x1  x2 x3\n",
      "1   2  12  b\n",
      "3   4  14  b\n",
      "5   6  16  b\n",
      "7   8  18  b\n",
      "9  10  20  b\n"
     ]
    }
   ],
   "source": [
    "# Now we index df with that.\n",
    "# print(df[where])\n",
    "\n",
    "# More commonly you'll see both of these steps combined:\n",
    "print(\n",
    "    df[\n",
    "        df[\"x1\"] % 2 == 0\n",
    "    ]\n",
    ")"
   ]
  },
  {
   "cell_type": "code",
   "execution_count": null,
   "id": "f5764d12-f56b-47db-b3ea-9414148d4288",
   "metadata": {},
   "outputs": [],
   "source": []
  }
 ],
 "metadata": {
  "kernelspec": {
   "display_name": "Python 3 (ipykernel)",
   "language": "python",
   "name": "python3"
  },
  "language_info": {
   "codemirror_mode": {
    "name": "ipython",
    "version": 3
   },
   "file_extension": ".py",
   "mimetype": "text/x-python",
   "name": "python",
   "nbconvert_exporter": "python",
   "pygments_lexer": "ipython3",
   "version": "3.9.7"
  }
 },
 "nbformat": 4,
 "nbformat_minor": 5
}
