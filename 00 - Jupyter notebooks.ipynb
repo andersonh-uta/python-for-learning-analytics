{
 "cells": [
  {
   "cell_type": "markdown",
   "id": "e41f3e5e-17ef-4581-aa7a-9b5ba52e8a79",
   "metadata": {},
   "source": [
    "# Jupyter Notebooks: Why I don't like them (except for presentations)\n",
    "\n",
    "Jupyter Notebooks--which is the name for the kind of file you're reading right now--are a staple of data science these days.  They are a bit tricky to describe concisely, but here's my attempt.  (If you've used RMarkdown/`.rmd` files to write R code, you'll already know most of these ideas).\n",
    "\n",
    "They are a format designed around the *cell,* which is a contiguous chunk of text that can either be read as text, or as code.  A notebook is essentially just a sequence of cells, which can be run in any order.  Running text cells (the text you're reading right now was written in a text cell) will render it using Markdown formatting.  Running a code cell executes the code in that cell, and all cells are executed in the same session.  This means you can do something like:\n",
    "- Write and run a cell that defines a function.\n",
    "- Write and run a cell that uses that function.\n",
    "- Edit the first cell with the function definition and re-run it.\n",
    "- Re-run the second cell.\n",
    "\n",
    "Or, more usefully:\n",
    "- Write and run a cell that generates a large array, file, or other Python object, and which takes a little while to run.\n",
    "- Write and run a cell that does some fast operations over that object, e.g., plotting it.\n",
    "- Repeatedly tweak and re-run the second cell, without having to re-run the whole program--which might take a few minutes--to get to the part where your changes are.\n",
    "\n",
    "Since notebooks are executable from within Jupyter, you can easily re-run someone else's notebooks--if you have the same data they did, and they didn't hard-code the paths to any files.\n",
    "\n",
    "Notebooks are usually used for a few major kinds of workflows:\n",
    "- Code presentation (which is what I'm using them for right now).  You can use the text cells to write explanatory text, format it (with Markdown), include images, etc.  You can then have code cells that do something relevant to whatever you're discussing, and get the outputs right below the cell being run.  Or in other words: they're an amazing format for writing programming textbooks, probably the best one I've ever seen.\n",
    "    - It's common to see a notebook format used to present the results of an analysis, or give a tutorial; they're actually really, really nice for this kind of use case.\n",
    "- Exploratory analysis.  Getting results easily in the cells (including plots and data visualizations, which we'll see later) can make some kinds of quick exploration very easy to do.\n",
    "- Production analyses and code.  This is what notebooks are, in my opinion, *very* bad at--and yet, something that people keep trying to use them for.\n",
    "\n",
    "I love notebooks for code presentation, whether it's tutorials or creating a kind of re-runnable report.  (it's why I'm going to switch over to them for the rest of the workshop lectures).  I don't personally use them for data exploration--I've been working with plain `.py` files long enough that I'm far more proficient using them--but they are excellent for that as well.\n",
    "\n",
    "But--in my very opinionated view--they *suck* for a lot of serious, more extensive programming tasks.  Mostly it comes down to the fact that, yes, you can run cells in any order.  This means you're guaranteed to run into a few issues at least a few times:\n",
    "1. This cell isn't runnin the way I think it's supposed to, because some of the code that comes *after* it has changed the value in a variable, or the definition of a function, or something like that.\n",
    "2. I have to spend a lot of time figuring out where exactly the cell breaks should go, depending on what parts of the code I'm actively tweaking at any given time.  I'd like to only re-run the parts of the code that changed, after all.\n",
    "3. Is the output of this cell from before or after I made that small change?  Better re-run it again to be sure.  Wait, did I re-run the cell I made changes to? Better re-run it, then this cell, to be absolutely sure.\n",
    "4. Some combination of the above that effectively means you're constantly re-running the entire notebook, top to bottom, which completly negates the benefit of \"only re-run what you need.\"\n",
    "\n",
    "If you're working on fairly small projects, this isn't as big of an issue.  But in larger projects, trying to make sure cells run in the right order is a *massive* pain, and a huge source of bugs.  Which means you may not get the same output when you re-run the notebook later--and by then, you may have forgotten how you need to run it.  This can--and often will--lead to all sorts of confusion, on top of the notebook format just being less convenient to write large chunks of code in.  (and if you're thinking \"why not just stick all the code in one cell,\" well, you're not really using Jupyter at that point, and should just write a .py file!).\n",
    "\n",
    "So, my advice regarding using notebooks:\n",
    "- Do you need to present an analysis and you want the code, narrative, and some outputs all in the same place?  Use notebooks.\n",
    "- Do you need to do some rapid data exploration?  Notebooks aren't a bad choice, but neither is a plain .py script/PyCharm project.\n",
    "- Do you need to write code that will run in production, be automated, be easily maintainable, and be easy to replicate?  **Don't** use notebooks. Write .py files."
   ]
  },
  {
   "cell_type": "markdown",
   "id": "a5639d12-a8f1-41ef-ad76-8d5a237e008d",
   "metadata": {},
   "source": [
    "# Installing and running Jupyter\n",
    "\n",
    "With that said, here's how to install and run Jupyter--it's a good tool to have some familiarity with.  It's a bit fiddly the first few times, but you'll get used to starting it up pretty quickly.\n",
    "\n",
    "First, you'll need to install some Python packages.  I recommend doing this from a system command prompt (`powershell`/`cmd.exe` on Windows, `terminal` on Mac, your terminal emulator of choice on Lniux/BSD).  PyCharm Community Edition does not have support for notebooks; PyCharm Professional does, but Jupyter also comes with its own (generally quite nice) interface for running and editing notebooks.  (Other editors, like Visual Studio, VSCode, etc, have varying degrees of notebook support).\n",
    "\n",
    "```bash\n",
    "conda install jupyter jupyter-lab\n",
    "```\n",
    "\n",
    "(make sure you do this in your `conda` environment!  You may need to run `conda activate [the name of your environment]` first)  Then, in the command line, navigate to the folder where you want to start working (using the `cd` command), and run:\n",
    "\n",
    "```bash\n",
    "jupyter lab\n",
    "```\n",
    "\n",
    "Give it just a moment to start up, then your default web browser should open to a Jupyter landing page.  From here you can create notebooks, edit them, etc; you'll probably want to refer to some Jupyter tutorials for a deeper dive.\n",
    "\n",
    "*Note:* Jupyter Lab is the newest (and most feature-rich, feature-complete, easy to use) interface for writing notebooks.  There is an older interface that still works, and is still mentioned in a lot of tutorials, but which isn't as user-friendly.  (you can launch it with `jupyter notebook` instead of `jupyter lab`).  Both interfaces can be used to edit, run, and generally work with notebooks just fine--but I find Jupyter Lab a *lot* better to work in."
   ]
  },
  {
   "cell_type": "code",
   "execution_count": null,
   "id": "a8163f44-ad14-4ef2-ae1d-946e0158776a",
   "metadata": {},
   "outputs": [],
   "source": []
  }
 ],
 "metadata": {
  "kernelspec": {
   "display_name": "Python 3 (ipykernel)",
   "language": "python",
   "name": "python3"
  },
  "language_info": {
   "codemirror_mode": {
    "name": "ipython",
    "version": 3
   },
   "file_extension": ".py",
   "mimetype": "text/x-python",
   "name": "python",
   "nbconvert_exporter": "python",
   "pygments_lexer": "ipython3",
   "version": "3.9.7"
  }
 },
 "nbformat": 4,
 "nbformat_minor": 5
}
