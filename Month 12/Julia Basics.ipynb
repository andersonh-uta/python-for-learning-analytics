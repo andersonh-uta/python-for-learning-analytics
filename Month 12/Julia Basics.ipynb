{
 "cells": [
  {
   "cell_type": "markdown",
   "id": "e0ae33ed-cb5b-40a0-9498-c734ae432cc4",
   "metadata": {},
   "source": [
    "![Julia logo](https://raw.githubusercontent.com/JuliaLang/julia-logo-graphics/fa84a1c62df35176760ff42f3c4862cc632b01e6/images/julia-logo-dark.svg)\n",
    "\n",
    "Julia is a fast, easy-to-write, easy-to-read language that really excels at number crunching.\n",
    "\n",
    "There's a decent (if kind of dense and fast-moving) Wikibook titled [Introducing Julia](https://en.wikibooks.org/wiki/Introducing_Julia), which isn't a bad place to start.  The [Julia home page](https://julialang.org/) also has some decent documentation and links to numerous tutorials.\n",
    "\n",
    "# Why Julia?\n",
    "\n",
    "Fast!\n",
    "\n",
    "Solves the two-language problem (or three-language depending on your field).\n",
    "\n",
    "Lots of cool features.\n",
    "\n",
    "Vibrant community.\n",
    "\n",
    "Rapidly gaining popularity.\n",
    "\n",
    "# Why not Julia?\n",
    "\n",
    "Young.  The package ecosystems still lag behind Python and R for a lot of things, but this is rapidly changing.\n",
    "\n",
    "It's a big language.  There is a lot of syntax and a lot of ways to do things.  It can be a steep initial learning curve.\n",
    "\n",
    "Do Python and R do what you need?  Then there's no compelling _need_ to learn Julia--except for the fact that it's cool, and that learning new languages generally broadens your knowledge and skills as a programmer.\n",
    "\n",
    "Rapid development and change, especially in the third party packages.  This can mean a lot of breaking changes happen between releases, but this has really settled down a lot in recent years (but it's still more of an issue than with Python or R).\n",
    "\n",
    "# The future is \"Julia, R, and Python\"\n",
    "\n",
    "...in fact, the \"Ju\" part of Jupyter stands for Julia.  Julia is excellent at solving a set of problems that Python and R really struggle with; it is likely to become a dominant language _alongside_ them, and I don't see it replacing either language at any point in the forseeable future."
   ]
  },
  {
   "cell_type": "markdown",
   "id": "da14f8aa-a452-4212-82c3-873d4b8a2df1",
   "metadata": {},
   "source": [
    "Let's just write some code and see the basics."
   ]
  },
  {
   "cell_type": "code",
   "execution_count": 1,
   "id": "cf758503-9455-4340-a700-254695811d1e",
   "metadata": {},
   "outputs": [
    {
     "name": "stdout",
     "output_type": "stream",
     "text": [
      "  0.136716 seconds (2 allocations: 7.629 MiB)\n"
     ]
    },
    {
     "data": {
      "text/plain": [
       "524"
      ]
     },
     "execution_count": 1,
     "metadata": {},
     "output_type": "execute_result"
    }
   ],
   "source": [
    "# Code to calculate the length of a Collatz Sequence given the starting value\n",
    "function collatz_len(n)\n",
    "    seqlen = 0\n",
    "    while n > 1\n",
    "        if n % 2 == 0\n",
    "            # div() is integer division; `/` always does floating point division\n",
    "            n = div(n, 2)\n",
    "        elseif n % 2 == 1\n",
    "            # [number][variable] = [number] * [variable]--it's multiplication, just like\n",
    "            # in math!\n",
    "            n = 3n + 1\n",
    "        end\n",
    "        seqlen += 1\n",
    "    end\n",
    "    \n",
    "    return seqlen\n",
    "end\n",
    "\n",
    "@time maximum(collatz_len.(1:1_000_000))"
   ]
  },
  {
   "cell_type": "code",
   "execution_count": 6,
   "id": "d0062fba-c819-4b84-9f52-ece5d6d3752c",
   "metadata": {},
   "outputs": [
    {
     "data": {
      "text/plain": [
       "1"
      ]
     },
     "execution_count": 6,
     "metadata": {},
     "output_type": "execute_result"
    }
   ],
   "source": [
    "x = [1, 2, 3, 4, 5]\n",
    "x[1]"
   ]
  },
  {
   "cell_type": "markdown",
   "id": "1072e2bf-027d-44cb-b8db-e63513dde279",
   "metadata": {},
   "source": [
    "Some major and obvious differences from Python:\n",
    "\n",
    "- Defining functions uses `function foo() [code] end`, not `def foo(): [code, ends when indent resets]`.  Julia doesn't use indentation for anything syntactic--it uses `end` to mark the end of a code block (e.g. a function definition, a loop, a conditional).  *You* should still use indentation though to make your code readable!\n",
    "- `elseif` insead of `elif`\n",
    "- Using `/` for division will always return a float, which can cause some issues for this particular code when the inputs get really large, so `div()` is used to do integer division.  (integers in, integers out).\n",
    "- `@macro` is a _syntactic macro._  This is a really hard to explain idea, but it's basically like a function that takes in _code_--not values--as its arguments, manipulates that code, and returns the new code.\n",
    "    - This it not just manipulating input _text_; it actually works on the _code itself._\n",
    "    - We aren't going to worry about writing our own macros.\n",
    "- `.` syntax for mapping/broadcasting.  `foo.(x)` automatically vectorized `foo` over the input `x`; Julia does this for you for every function in the language.\n",
    "    - For infix operatirs, it's `.+`--the `.` comes before the operator, not after it.  So: `x .+ y` is element-wise addition.\n",
    "- Ranges are created using the `:` operator, and include the upper bound.  (Python's `range()` function excludes the upper bound).\n",
    "- Speed.  Compare the following to the Python equivalent in the companion notebook.  The Python version is ~100x slower.\n",
    "    - Yes, we could speed the Python code up using some tricks like `@numba.jit`, but Julia is fast _out of the box._"
   ]
  },
  {
   "cell_type": "markdown",
   "id": "04fc10c9-0678-41cb-82e9-00df55cd0993",
   "metadata": {},
   "source": [
    "Some rapid-fire Julia:"
   ]
  },
  {
   "cell_type": "code",
   "execution_count": 10,
   "id": "258a0402-04ab-4beb-aef0-b05818f3c783",
   "metadata": {},
   "outputs": [
    {
     "name": "stdout",
     "output_type": "stream",
     "text": [
      "11\n",
      "11\n"
     ]
    }
   ],
   "source": [
    "# functions that are single statements can be defined in a single line:\n",
    "function add1(x)\n",
    "    return x + 1\n",
    "end\n",
    "\n",
    "println(add1(10))\n",
    "\n",
    "# is equivalent to\n",
    "add1(x) = x + 1\n",
    "println(add1(10))"
   ]
  },
  {
   "cell_type": "markdown",
   "id": "34012dcc-6a60-4310-ba95-1d8c4669beb8",
   "metadata": {},
   "source": [
    "Julia supports--and encourages!--using Unicode symbols in your code.  Some built-in functions have unicode aliases:"
   ]
  },
  {
   "cell_type": "code",
   "execution_count": 11,
   "id": "8b47c6d9-0120-486c-979f-fb1b075a74bc",
   "metadata": {},
   "outputs": [
    {
     "name": "stdout",
     "output_type": "stream",
     "text": [
      "1.4142135623730951\n",
      "1.4142135623730951\n",
      "π\n",
      "6.283185307179586\n"
     ]
    }
   ],
   "source": [
    "println(sqrt(2))\n",
    "println(√2)\n",
    "\n",
    "println(π)\n",
    "\n",
    "☿ = 2π\n",
    "println(☿)"
   ]
  },
  {
   "cell_type": "markdown",
   "id": "716004e0-cd14-4282-94e4-ff42f933df2b",
   "metadata": {},
   "source": [
    "To type these characters: use a backslash, followed by the LaTeX command for the character, then hit \"tab\".  This requires your editor to be set up with Julia support, though.\n",
    "\n",
    "Julia is a _very_ function-oriented language, and it supports both piping and function composition out of the box:"
   ]
  },
  {
   "cell_type": "code",
   "execution_count": 12,
   "id": "9ad724c0-0bc2-45c0-945a-c2a45382157a",
   "metadata": {},
   "outputs": [
    {
     "name": "stdout",
     "output_type": "stream",
     "text": [
      "1.5174271293851465\n",
      "1.5174271293851465\n",
      "1.5174271293851465\n",
      "1.5174271293851465\n"
     ]
    }
   ],
   "source": [
    "# the following are equivalent\n",
    "foo(x) = sqrt(log(x))\n",
    "println(foo(10))\n",
    "\n",
    "# the ∘ symbol (`\\circ`) is the _function composition_ operator.\n",
    "# (f ∘ g) creates a new function that's identical to f(g(...)).\n",
    "foo(x) = (sqrt ∘ log)(x)\n",
    "println(foo(10))\n",
    "\n",
    "# this is called a \"point-free\" solution: we define a function just\n",
    "# in terms of other functions, but no variables.  This is, I think,\n",
    "# a very elegant and beautiful way to define functions.\n",
    "point_free = (sqrt ∘ log)\n",
    "println(point_free(10))\n",
    "\n",
    "# `|>` is the pipe operator.\n",
    "println(10 |> log |> sqrt)"
   ]
  },
  {
   "cell_type": "markdown",
   "id": "5e53287c-f9ef-421b-a234-d05a1cd5a8a7",
   "metadata": {},
   "source": [
    "# Multiple Dispatch\n",
    "\n",
    "Get ready to have your minds blown.  Julia takes this idea from R and Haskell, but improves on it: you can have multiple different functions with the same name, and Julia figures out which one to call based on the types and number of all the arguments.  E.g.:"
   ]
  },
  {
   "cell_type": "code",
   "execution_count": 13,
   "id": "919678cf-0604-4187-a093-aac9e68aedb4",
   "metadata": {},
   "outputs": [
    {
     "name": "stdout",
     "output_type": "stream",
     "text": [
      "20\n",
      "10 is a string.\n"
     ]
    }
   ],
   "source": [
    "my_function(x::Int64) = x + 10\n",
    "my_function(x::String) = \"$x is a string.\"\n",
    "\n",
    "println(my_function(10))\n",
    "println(my_function(\"10\"))"
   ]
  },
  {
   "cell_type": "markdown",
   "id": "6ed594c5-7717-4273-9790-2792ad59cf5b",
   "metadata": {},
   "source": [
    "The `::Int64` syntax is how Julia does type annotations.  `x::Int64` means \"`x` should be of type `Int64` (a 64-bit integer).\"  Whenever you call a function in Julia, it looks at the types of every single argument, and finds whichever definition 1) uses the name of the function you're calling, and 2) is the most specific match to the values you're passing.\n",
    "\n",
    "Each definition of a function is called a _method._  Julia doesn't have objects and classes like Python does, so you'll never see `x.something()` in idiomatic Julia code.  `x.something()` is usually called a \"method\" in languages that support it, but since Julia doesn't have this, it re-uses the word \"method\" to refer to \"different bits of code assigned to the same function name.\"\n",
    "\n",
    "_Digression:_ this is actually the same usage as in Python, but it requires digging deeper into what `x.something()` does.  A method in Python is, conceptually, no different from saying \"`something(x)`, but throw an error if `x` isn't the right type.\"  Different classes can each implement their own version of `something()`, so really, each definition is kind of just different code, given the same name, and which instance of the code gets called depends on the type of `x`.  (_end of digression_)\n",
    "\n",
    "In the above example, we first call `my_function(10)`.  `10` gets interpreted by Julia as an `Int64` (64-bit integer); in general, \"integer literals\" like this get interpreted as whichever integer is the default for your specific hardware.  Nowadays, on desktops and laptops, this is all but guaranteed to be 64 bit integers, but it could be 32 bits on older hardware, or some single-board computers like Raspberry Pis.  Julia looks for a definition of `my_function` that takes an `Int64` as its first argument; it finds one, so it runs that.\n",
    "\n",
    "In the next line, we pass `\"10\"`, which is a string; Julia looks for a definition of `my_function` that takes a string as its input, finds one, and calls it.\n",
    "\n",
    "But wait!  It gets better!  Julia not only dispatches on the type of the first argument, but on the types of _all_ arguments--_and on the number of arguments._"
   ]
  },
  {
   "cell_type": "code",
   "execution_count": 14,
   "id": "b5a843ca-6402-4297-bda7-dd7a6d41b59a",
   "metadata": {},
   "outputs": [
    {
     "name": "stdout",
     "output_type": "stream",
     "text": [
      "You gave me two arguments but I don't know what to do with them.\n",
      "10.1 is a number, but not an Int64, so I don't know what to do with it.\n",
      "13.141592653589793\n"
     ]
    }
   ],
   "source": [
    "# this looks like it's redefining the function, but it's adding a new method.\n",
    "my_function(x, y) = \"You gave me two arguments but I don't know what to do with them.\"\n",
    "my_function(x::Number) = \"$x is a number, but not an Int64, so I don't know what to do with it.\"\n",
    "my_function(x::Number, y::Number) = x + y\n",
    "\n",
    "println(my_function(\"hello\", 10)) # calls the method for my_function(x, y)\n",
    "println(my_function(10.1))\n",
    "println(my_function(10.0, π))"
   ]
  },
  {
   "cell_type": "markdown",
   "id": "3881db09-da25-4632-b21b-2796f7aa0e8f",
   "metadata": {},
   "source": [
    "The first line of the above cell--`my_function(x, y) = ...`, is actually a shorthand for: `my_function(x::Any, y::Any)`, where `Any` is a special type that means \"it can be any type.  Literally any.  It does not matter.\"\n",
    "\n",
    "`Number` is a special kind of type called an _abstract type._  This is a concept that's easier to explain visually:\n",
    "\n",
    "![Julia's numeric type hierarchy](https://upload.wikimedia.org/wikipedia/commons/d/d9/Julia-number-type-hierarchy.svg)"
   ]
  },
  {
   "cell_type": "markdown",
   "id": "f40a2dea-4f74-4311-9ca0-c0f7df9188af",
   "metadata": {},
   "source": [
    "Individual values--like variables--can be only be assigned types that are at the very bottom of this tree.  So I can tell Julia \"`x` is an Int32\", but I can't tell Julia \"`x` is a Real.\"  But, when defining a function, you can say \"the first argument needs to be a Real,\" and Julia will interpret that as: \"the first argument needs to be any concrete type that's underneath 'Real' in the above image.\"  So in the previous cell, `my_function(x::Number, y::Number)` gets called whenever `x` ia any sub-type of `Number`, `y` is any sub-type of `Number`, _and_ there are no methods for `my_function()` that 1) have more specific type annotations, and 2) also match the types of x and y.\n",
    "\n",
    "You can define your own new types--both concrete and abstract--and choose where they fit in the Julia hierarchy.  We aren't going to worry about defining new abstract types tonight.\n",
    "\n",
    "A quick example that highlights the \"most specific method gets called\" behavior of Julia:"
   ]
  },
  {
   "cell_type": "code",
   "execution_count": 15,
   "id": "fcedfee7-8c51-4e00-9772-660f89dbe87c",
   "metadata": {},
   "outputs": [
    {
     "name": "stdout",
     "output_type": "stream",
     "text": [
      "You passed an integer.\n"
     ]
    }
   ],
   "source": [
    "# Definition 1\n",
    "example(x::Number) = x + 10\n",
    "\n",
    "# Definition 2\n",
    "example(x::Integer) = \"You passed an integer.\"\n",
    "\n",
    "# Definition 3\n",
    "example(x::Int8) = \"That's an 8-bit integer!\"\n",
    "\n",
    "# This gets interpreted as an Int64.  That matches definitions 1 and 2, but not 3.\n",
    "# Definition 2 is more specific--Integer is lower down in the tree than Number--so\n",
    "# definition 2 gets called.\n",
    "println(example(10))"
   ]
  },
  {
   "cell_type": "code",
   "execution_count": 28,
   "id": "66c1d2e2-a96a-4468-9df8-72985b084047",
   "metadata": {},
   "outputs": [
    {
     "ename": "LoadError",
     "evalue": "MethodError: no method matching example(::String)\n\u001b[0mClosest candidates are:\n\u001b[0m  example(\u001b[91m::Int8\u001b[39m) at In[27]:8\n\u001b[0m  example(\u001b[91m::Integer\u001b[39m) at In[27]:5\n\u001b[0m  example(\u001b[91m::Number\u001b[39m) at In[27]:2",
     "output_type": "error",
     "traceback": [
      "MethodError: no method matching example(::String)\n\u001b[0mClosest candidates are:\n\u001b[0m  example(\u001b[91m::Int8\u001b[39m) at In[27]:8\n\u001b[0m  example(\u001b[91m::Integer\u001b[39m) at In[27]:5\n\u001b[0m  example(\u001b[91m::Number\u001b[39m) at In[27]:2",
      "",
      "Stacktrace:",
      " [1] top-level scope",
      "   @ In[28]:3"
     ]
    }
   ],
   "source": [
    "# This does not match any of the above definitions.  There is no definition\n",
    "# of example(x::Any), so Julia will instead throw an error.\n",
    "println(example(\"10\"))"
   ]
  },
  {
   "cell_type": "markdown",
   "id": "ceadb19e-e0eb-4dcf-98f6-dc7e9782f2e8",
   "metadata": {},
   "source": [
    "# More functions: optional and keyword arguments\n",
    "\n",
    "Unlike Python, Julia makes a very strict distinction between positional and keyword arguments, and a separate distinction between optional and required."
   ]
  },
  {
   "cell_type": "code",
   "execution_count": 39,
   "id": "27cdb00f-b0e7-4043-b92d-7265690b108c",
   "metadata": {},
   "outputs": [
    {
     "name": "stdout",
     "output_type": "stream",
     "text": [
      "All defaults\n"
     ]
    },
    {
     "data": {
      "text/plain": [
       "Dict{String, Int64} with 4 entries:\n",
       "  \"Required Postional\"  => 100\n",
       "  \"Optional Positional\" => 10\n",
       "  \"Required Keyword\"    => 8\n",
       "  \"Optional Keyword\"    => -10"
      ]
     },
     "execution_count": 39,
     "metadata": {},
     "output_type": "execute_result"
    }
   ],
   "source": [
    "function argument_example(\n",
    "        required_position,\n",
    "        optional_positional=10\n",
    "        ;                      # all remaining arguments are keyword\n",
    "        required_keyword,\n",
    "        optional_keyword=-10,\n",
    "        )\n",
    "    return Dict(\n",
    "        \"Required Postional\" => required_position,\n",
    "        \"Required Keyword\" => required_keyword,\n",
    "        \"Optional Positional\" => optional_positional,\n",
    "        \"Optional Keyword\" => optional_keyword,\n",
    "    )\n",
    "end\n",
    "\n",
    "println(\"All defaults\")\n",
    "argument_example(100, required_keyword=8)"
   ]
  },
  {
   "cell_type": "code",
   "execution_count": 40,
   "id": "769aaab5-5185-455f-b8e3-a1b02dc9f449",
   "metadata": {},
   "outputs": [
    {
     "ename": "LoadError",
     "evalue": "MethodError: no method matching argument_example(::Int64, ::Int64; optional_positional=9, required_keyword=8)\n\u001b[0mClosest candidates are:\n\u001b[0m  argument_example(::Any, ::Any; required_keyword, optional_keyword) at In[39]:1\u001b[91m got unsupported keyword argument \"optional_positional\"\u001b[39m\n\u001b[0m  argument_example(::Any) at In[39]:1\u001b[91m got unsupported keyword arguments \"optional_positional\", \"required_keyword\"\u001b[39m",
     "output_type": "error",
     "traceback": [
      "MethodError: no method matching argument_example(::Int64, ::Int64; optional_positional=9, required_keyword=8)\n\u001b[0mClosest candidates are:\n\u001b[0m  argument_example(::Any, ::Any; required_keyword, optional_keyword) at In[39]:1\u001b[91m got unsupported keyword argument \"optional_positional\"\u001b[39m\n\u001b[0m  argument_example(::Any) at In[39]:1\u001b[91m got unsupported keyword arguments \"optional_positional\", \"required_keyword\"\u001b[39m",
      "",
      "Stacktrace:",
      " [1] kwerr(::NamedTuple{(:optional_positional, :required_keyword), Tuple{Int64, Int64}}, ::Function, ::Int64, ::Int64)",
      "   @ Base .\\error.jl:165",
      " [2] top-level scope",
      "   @ In[40]:2"
     ]
    }
   ],
   "source": [
    "# Can't pass positionally-defined arguments as keywords.\n",
    "argument_example(10, optional_positional=9, required_keyword=8)"
   ]
  },
  {
   "cell_type": "code",
   "execution_count": 39,
   "id": "7c3d2592-e891-4fcf-bc79-f53888ac488f",
   "metadata": {},
   "outputs": [
    {
     "ename": "LoadError",
     "evalue": "MethodError: no method matching argument_example(::Int64, ::Int64, ::Int64)\n\u001b[0mClosest candidates are:\n\u001b[0m  argument_example(::Any, ::Any; required_keyword, optional_keyword) at In[37]:1\n\u001b[0m  argument_example(::Any) at In[37]:1",
     "output_type": "error",
     "traceback": [
      "MethodError: no method matching argument_example(::Int64, ::Int64, ::Int64)\n\u001b[0mClosest candidates are:\n\u001b[0m  argument_example(::Any, ::Any; required_keyword, optional_keyword) at In[37]:1\n\u001b[0m  argument_example(::Any) at In[37]:1",
      "",
      "Stacktrace:",
      " [1] top-level scope",
      "   @ In[39]:2"
     ]
    }
   ],
   "source": [
    "# Can't pass keyword-defined arguments positionally.\n",
    "argument_example(10, 9, 8)"
   ]
  },
  {
   "cell_type": "markdown",
   "id": "5c3efe67-338d-464b-86e8-e9e165bb4465",
   "metadata": {},
   "source": [
    "This takes some getting used to coming from Python, but you'll adjust pretty quick. Besides: Julia will encourage you to write shorter functions, which tend to take fewer arguments anyways.  Python is happy to encourage large functions with dozens of arguments (granted, that's an extreme case and one you should avoid unless you have good reason)."
   ]
  },
  {
   "cell_type": "markdown",
   "id": "74a8f424-e5c0-469f-bc1c-33ea658f1a71",
   "metadata": {},
   "source": [
    "# Everything is functions\n",
    "\n",
    "In Julia, like in R, _everything is functions._  You never see `x.something()`; it's always `something(x)`.  This idea is extremely pervasive.  In fact, even infix operators like `+`, `*`, etc are actually functions:"
   ]
  },
  {
   "cell_type": "code",
   "execution_count": 52,
   "id": "f0d280b8-286a-4d84-af26-d289784786ad",
   "metadata": {},
   "outputs": [
    {
     "name": "stdout",
     "output_type": "stream",
     "text": [
      "10\n",
      "10\n"
     ]
    }
   ],
   "source": [
    "println(5 + 5)\n",
    "println(+(5, 5))"
   ]
  },
  {
   "cell_type": "markdown",
   "id": "f0ec011f-30d6-43ff-b0af-9b03aaf9ed25",
   "metadata": {},
   "source": [
    "# Strings and Characters\n",
    "\n",
    "Julia, unlike Python, makes a distinction between _character_ and _string_ types.  A character is a single, well, character, and characters are written with single quotes.  A string is an array of characters, and is written with double quotes.  _These are different data types!_"
   ]
  },
  {
   "cell_type": "code",
   "execution_count": 41,
   "id": "6a315346-6f15-4488-93f0-b6ad70490fd6",
   "metadata": {},
   "outputs": [
    {
     "name": "stdout",
     "output_type": "stream",
     "text": [
      "Char\n",
      "String\n"
     ]
    }
   ],
   "source": [
    "println(typeof('c'))\n",
    "println(typeof(\"c\"))"
   ]
  },
  {
   "cell_type": "code",
   "execution_count": 42,
   "id": "f89c8727-12ff-490f-8fc2-59d0dfc79c58",
   "metadata": {},
   "outputs": [
    {
     "ename": "LoadError",
     "evalue": "syntax: character literal contains multiple characters",
     "output_type": "error",
     "traceback": [
      "syntax: character literal contains multiple characters",
      "",
      "Stacktrace:",
      " [1] top-level scope",
      "   @ In[42]:1"
     ]
    }
   ],
   "source": [
    "'oops'"
   ]
  },
  {
   "cell_type": "markdown",
   "id": "916321a6-39b1-4b39-aa0b-001d6863bd63",
   "metadata": {},
   "source": [
    "Usually, it's safe to just use strings for everything.\n",
    "\n",
    "String interpolation--Julia's equivalent of Python's f-strings--is pretty simple:"
   ]
  },
  {
   "cell_type": "code",
   "execution_count": 45,
   "id": "123148dc-1647-4f46-9e1e-f0df1cf30fad",
   "metadata": {},
   "outputs": [
    {
     "name": "stdout",
     "output_type": "stream",
     "text": [
      "x = 10\n",
      "10^2 = 100\n"
     ]
    }
   ],
   "source": [
    "x = 10\n",
    "\n",
    "# just put x in a string with $x\n",
    "println(\"x = $x\")\n",
    "\n",
    "# or, put a full Julia expression in the string with $(expr)\n",
    "println(\"$x^2 = $(x^2)\")"
   ]
  },
  {
   "cell_type": "code",
   "execution_count": 47,
   "id": "33fd79d1-2b37-4a0b-93d5-1f885abe271d",
   "metadata": {},
   "outputs": [
    {
     "name": "stdout",
     "output_type": "stream",
     "text": [
      "RegexMatch(\"Hello\")\n"
     ]
    }
   ],
   "source": [
    "my_string = \"Hello world\"\n",
    "println(match(r\"He..o\", my_string))"
   ]
  },
  {
   "cell_type": "markdown",
   "id": "cdb6c74a-9365-4da0-a403-52085dab93c4",
   "metadata": {},
   "source": [
    "Note that Julia uses `^`, not `**`, for exponentiation."
   ]
  },
  {
   "cell_type": "markdown",
   "id": "3e62b495-b2b3-4aba-bde9-f7638afa773c",
   "metadata": {
    "tags": []
   },
   "source": [
    "# Core data types: Arrays\n",
    "\n",
    "Arrays are at the heart of Julia.  Arrays are _type-heterogeneous ordered collections,_ and they may be multi-dimensional. (basically think Numpy arrays)."
   ]
  },
  {
   "cell_type": "code",
   "execution_count": 47,
   "id": "765576c1-ef70-4d73-b3d5-3f83c012c298",
   "metadata": {},
   "outputs": [
    {
     "data": {
      "text/plain": [
       "5-element Vector{Int64}:\n",
       " 1\n",
       " 2\n",
       " 3\n",
       " 4\n",
       " 5"
      ]
     },
     "execution_count": 47,
     "metadata": {},
     "output_type": "execute_result"
    }
   ],
   "source": [
    "my_array = [1, 2, 3, 4, 5]"
   ]
  },
  {
   "cell_type": "markdown",
   "id": "71ad96a9-b7bc-4552-bc57-a4315a7811f6",
   "metadata": {},
   "source": [
    "Note that `Vector{Int64}` means \"a Vector containing values of type Int64.\"  In Julia, \"Vector\" is identical to \"one-dimensional array.\"  (It's actually an alias for one-dimensional array types).\n",
    "\n",
    "Of course, since Julia has typeclasses, we could have `Vector{Number}`, which would mean \"a one-dimensional array of values that can be any subtype of `Number`.\""
   ]
  },
  {
   "cell_type": "code",
   "execution_count": 48,
   "id": "36b5d65f-cd34-4d4e-9a08-20b4625c16f9",
   "metadata": {},
   "outputs": [
    {
     "data": {
      "text/plain": [
       "3-element Vector{Number}:\n",
       " 1\n",
       " 2\n",
       " 3.3"
      ]
     },
     "execution_count": 48,
     "metadata": {},
     "output_type": "execute_result"
    }
   ],
   "source": [
    "my_array = Number[1, 2, 3.3]"
   ]
  },
  {
   "cell_type": "code",
   "execution_count": 49,
   "id": "af2724ba-f02e-48c7-a6c3-3a0a611d3808",
   "metadata": {},
   "outputs": [
    {
     "data": {
      "text/plain": [
       "3-element Vector{Float64}:\n",
       " 1.0\n",
       " 2.0\n",
       " 3.3"
      ]
     },
     "execution_count": 49,
     "metadata": {},
     "output_type": "execute_result"
    }
   ],
   "source": [
    "# without specifying the type like that, Julia will coerce everything to be the same type.\n",
    "[1, 2, 3.3]"
   ]
  },
  {
   "cell_type": "markdown",
   "id": "cdc162fa-c0e1-4387-9d32-af373cf64e9a",
   "metadata": {},
   "source": [
    "_This type stuff matters._  If an array is all one type--and that type is a concrete type, like Int64--Julia can get a lot of extra speed when doing things to that array.  If the concrete types can be mixed, like in a `Vector{Number}`, Julia won't be able to run operations as quickly over that array.  It'll still be very fast by human standards, but wherever possible, use the same data types for all array elements.\n",
    "\n",
    "There is a lot of syntax around arrays--creating, reshaping, initializing empty arrays, etc; we're not going to go into too much detail of that syntax here, except to see 2d arrays:"
   ]
  },
  {
   "cell_type": "code",
   "execution_count": 51,
   "id": "9a934821-8434-4861-b9fb-26fdc873dc3f",
   "metadata": {},
   "outputs": [
    {
     "data": {
      "text/plain": [
       "2×3 Matrix{Int64}:\n",
       " 1  2  3\n",
       " 4  5  6"
      ]
     },
     "execution_count": 51,
     "metadata": {},
     "output_type": "execute_result"
    }
   ],
   "source": [
    "my_2d_array = [1 2 3; 4 5 6]"
   ]
  },
  {
   "cell_type": "markdown",
   "id": "54d3f099-3739-4a00-8428-e57cbc3b35e8",
   "metadata": {},
   "source": [
    "Note the lack of commas!  `[1, 2, 3]` is a _column vector_; `[1 2 3]` is a _row vector_.  `;`, in array constructors, separates rows."
   ]
  },
  {
   "cell_type": "markdown",
   "id": "60018ff5-7997-4ea0-b0fc-24f726b9f661",
   "metadata": {},
   "source": [
    "# Other useful types: Dictionaries and Sets\n",
    "\n",
    "Dictionaries are basically the same as in Python:"
   ]
  },
  {
   "cell_type": "code",
   "execution_count": 48,
   "id": "aee4ae09-65f0-4c45-917e-3219443b7d55",
   "metadata": {},
   "outputs": [
    {
     "name": "stdout",
     "output_type": "stream",
     "text": [
      "pi\n"
     ]
    }
   ],
   "source": [
    "my_dict = Dict(\n",
    "    \"Key\" => \"Value\",\n",
    "    10 => 100,\n",
    "    π => \"pi\",\n",
    "    \"pi\" => π,\n",
    ")\n",
    "\n",
    "println(my_dict[π])"
   ]
  },
  {
   "cell_type": "code",
   "execution_count": 49,
   "id": "747a49d5-a43a-431e-a856-9d8dd23960d9",
   "metadata": {},
   "outputs": [
    {
     "name": "stdout",
     "output_type": "stream",
     "text": [
      "2.718\n"
     ]
    }
   ],
   "source": [
    "# add values via assignment\n",
    "my_dict[\"e\"] = 2.718\n",
    "println(my_dict[\"e\"])"
   ]
  },
  {
   "cell_type": "code",
   "execution_count": 50,
   "id": "768e13c5-8260-4661-bcf6-9eed4c2ec128",
   "metadata": {},
   "outputs": [
    {
     "name": "stdout",
     "output_type": "stream",
     "text": [
      "Any[π, 10, \"e\", \"Key\", \"pi\"]\n",
      "Any[\"pi\", 100, 2.718, \"Value\", π]\n"
     ]
    }
   ],
   "source": [
    "# Remember: everything is functions, so keys(my_dict), not my_dict.keys(), like you'd\n",
    "# do in Python\n",
    "println(keys(my_dict))\n",
    "println(values(my_dict))"
   ]
  },
  {
   "cell_type": "markdown",
   "id": "adc39a48-fe86-4b1e-8c3c-3e7d78cc9171",
   "metadata": {},
   "source": [
    "Similarly, Sets are basically the same as in Python:"
   ]
  },
  {
   "cell_type": "code",
   "execution_count": 51,
   "id": "0a40fc43-a28d-4a24-9655-58f025cc2f20",
   "metadata": {},
   "outputs": [
    {
     "name": "stdout",
     "output_type": "stream",
     "text": [
      "Set([2, 3, 1])\n"
     ]
    }
   ],
   "source": [
    "println(Set([1, 1, 2, 2, 3, 3]))"
   ]
  },
  {
   "cell_type": "markdown",
   "id": "f7a38cd5-0b45-4009-bf85-7ce14e074fca",
   "metadata": {},
   "source": [
    "# Modules and Packages\n",
    "\n",
    "Julia has two keywords that do the same broad thing as Python's `import`: `using` and, well, `import`.  The difference is confusing at first, but is pretty simple:\n",
    "- `using` is the general import statement you want to use.  Unlike Python, everything from a module is by default imported into your program's global namespace; this allows modules to add new methods to functions or operators like `+`.\n",
    "- `import` is used when you want to add new methods to some module's existing functions."
   ]
  },
  {
   "cell_type": "code",
   "execution_count": 52,
   "id": "addfd58b-10c6-49eb-b4a2-1bd92559a49b",
   "metadata": {},
   "outputs": [
    {
     "ename": "LoadError",
     "evalue": "UndefVarError: mean not defined",
     "output_type": "error",
     "traceback": [
      "UndefVarError: mean not defined",
      "",
      "Stacktrace:",
      " [1] top-level scope",
      "   @ In[52]:1"
     ]
    }
   ],
   "source": [
    "mean([1,2,3])"
   ]
  },
  {
   "cell_type": "code",
   "execution_count": 53,
   "id": "0fcbd339-528b-4be7-963c-2528b9b34d6c",
   "metadata": {},
   "outputs": [
    {
     "name": "stdout",
     "output_type": "stream",
     "text": [
      "2.0\n",
      "2.0\n"
     ]
    }
   ],
   "source": [
    "using Statistics\n",
    "\n",
    "# mean() is from the Statistics module\n",
    "println(mean([1,2,3]))\n",
    "\n",
    "# We can also do this, though, in the rare cases we need to be super unambiguous\n",
    "println(Statistics.mean([1,2,3]))"
   ]
  },
  {
   "cell_type": "code",
   "execution_count": 54,
   "id": "4a0d2306-b391-42ce-96a4-720312c4ea8f",
   "metadata": {},
   "outputs": [
    {
     "ename": "LoadError",
     "evalue": "error in method definition: function Statistics.mean must be explicitly imported to be extended",
     "output_type": "error",
     "traceback": [
      "error in method definition: function Statistics.mean must be explicitly imported to be extended",
      "",
      "Stacktrace:",
      " [1] top-level scope",
      "   @ none:0",
      " [2] top-level scope",
      "   @ In[54]:2"
     ]
    }
   ],
   "source": [
    "# but we can't add new methods:\n",
    "mean(x::String) = \"You can't take the mean of a string, silly!\""
   ]
  },
  {
   "cell_type": "code",
   "execution_count": 55,
   "id": "fa59eb43-fadf-463a-8aa2-6f83fd1a360d",
   "metadata": {},
   "outputs": [
    {
     "data": {
      "text/plain": [
       "\"You can't take the mean of a string, silly!\""
      ]
     },
     "execution_count": 55,
     "metadata": {},
     "output_type": "execute_result"
    }
   ],
   "source": [
    "# to do that, we need to use `import [module]: [thing we want to add a new method to]`\n",
    "import Statistics: mean\n",
    "mean(x::String) = \"You can't take the mean of a string, silly!\"\n",
    "mean(\"string\")"
   ]
  },
  {
   "cell_type": "code",
   "execution_count": 64,
   "id": "c49fda63-ed58-42ed-851b-f52958a335a2",
   "metadata": {},
   "outputs": [],
   "source": [
    "# we could use * to import everything from a module, but this is kind of bad form\n",
    "import Statistics: *"
   ]
  },
  {
   "cell_type": "markdown",
   "id": "3f0dc119-2f5d-4f5a-a95e-2e775a0767a1",
   "metadata": {},
   "source": [
    "So use `using` if you just need to be, well, `using` stuff from a module.  If you need to add new methods, use `import [module]: thing1, thing2, ...`."
   ]
  },
  {
   "cell_type": "markdown",
   "id": "f9a53a3f-cd33-48af-9955-dec5649dda9f",
   "metadata": {},
   "source": [
    "# Structs\n",
    "\n",
    "Julia lets you define your own concrete types using Structs.  These are structs almost exactly as they appear in languages like C, if you're familiar with those.  In the Python world, these are most similar to dataclasses or named tuples.  A struct is just a thing that contains a fixed set of values, each with potentially known types."
   ]
  },
  {
   "cell_type": "code",
   "execution_count": 16,
   "id": "d2c0e5af-5079-48cd-abe2-7cfeecac0309",
   "metadata": {},
   "outputs": [
    {
     "data": {
      "text/plain": [
       "Card(\"king\", \"♡\")"
      ]
     },
     "execution_count": 16,
     "metadata": {},
     "output_type": "execute_result"
    }
   ],
   "source": [
    "struct Card\n",
    "    # the field names do need to be on their own lines\n",
    "    # nop type annotation --> implicitly ::Any --> weaker\n",
    "    # speed/performance guarantees\n",
    "    value\n",
    "    suit\n",
    "end\n",
    "\n",
    "# create a new Card instance by passing values positionally\n",
    "king♡ = Card(\"king\", \"♡\") # \\heartsuit for the heart suit symbol\n",
    "king♡"
   ]
  },
  {
   "cell_type": "markdown",
   "id": "4a8f0950-0bad-4f01-8381-7e27a48d32f8",
   "metadata": {},
   "source": [
    "Access the fields of a struct using `struct.field` syntax.  Structs are by default immutable; they can't be changed after they're created."
   ]
  },
  {
   "cell_type": "code",
   "execution_count": 17,
   "id": "55a567ff-b676-42e9-9181-125352321ce0",
   "metadata": {},
   "outputs": [
    {
     "name": "stdout",
     "output_type": "stream",
     "text": [
      "♡\n"
     ]
    }
   ],
   "source": [
    "println(king♡.suit)"
   ]
  },
  {
   "cell_type": "code",
   "execution_count": 18,
   "id": "39f7be57-7034-4f3b-8d41-bafe604ddc1e",
   "metadata": {},
   "outputs": [
    {
     "ename": "LoadError",
     "evalue": "setfield!: immutable struct of type Card cannot be changed",
     "output_type": "error",
     "traceback": [
      "setfield!: immutable struct of type Card cannot be changed",
      "",
      "Stacktrace:",
      " [1] setproperty!(x::Card, f::Symbol, v::String)",
      "   @ Base .\\Base.jl:39",
      " [2] top-level scope",
      "   @ In[18]:1"
     ]
    }
   ],
   "source": [
    "king♡.suit = \"diamonds\""
   ]
  },
  {
   "cell_type": "markdown",
   "id": "10578f1d-ec8b-4a28-be2f-9759e532d0cc",
   "metadata": {},
   "source": [
    "To allow this, define a struct using `mutable struct` instead of just `struct`.  This gives up a little bit of speed, but rarely enough to matter except when you're writing _extremely_ performance-critical code.  Also note that you can't re-define a struct without restarting Julia, so below, I'll make a differently named struct."
   ]
  },
  {
   "cell_type": "code",
   "execution_count": 19,
   "id": "5e9abbec-8352-4f44-ab36-abc804b42343",
   "metadata": {},
   "outputs": [
    {
     "name": "stdout",
     "output_type": "stream",
     "text": [
      "♡\n",
      "♢\n"
     ]
    }
   ],
   "source": [
    "mutable struct MutableCard\n",
    "    value::Union{String, Int64} # Union type: \"either string or int64\"\n",
    "    suit::String\n",
    "end\n",
    "king♡ = MutableCard(\"king\", \"♡\")\n",
    "println(king♡.suit)\n",
    "king♡.suit = \"♢\" # diamonds\n",
    "println(king♡.suit)"
   ]
  },
  {
   "cell_type": "code",
   "execution_count": 23,
   "id": "d48906ab-0381-426d-a109-06ce5096c3c7",
   "metadata": {},
   "outputs": [
    {
     "data": {
      "text/plain": [
       "Die(6)"
      ]
     },
     "execution_count": 23,
     "metadata": {},
     "output_type": "execute_result"
    }
   ],
   "source": [
    "struct Die\n",
    "    nsides::Int64\n",
    "end\n",
    "\n",
    "import Base: *\n",
    "*(n::Int64, d::Die) = sum(rand(1:d.nsides) for i ∈ 1:n)\n",
    "d6 = Die(6)"
   ]
  },
  {
   "cell_type": "code",
   "execution_count": 37,
   "id": "ca812d4a-b81c-420a-9a9b-c96f5861e426",
   "metadata": {},
   "outputs": [
    {
     "data": {
      "text/plain": [
       "16"
      ]
     },
     "execution_count": 37,
     "metadata": {},
     "output_type": "execute_result"
    }
   ],
   "source": [
    "5d6"
   ]
  },
  {
   "cell_type": "markdown",
   "id": "98036099-c00c-4186-ab4a-813c91d5ae4b",
   "metadata": {},
   "source": [
    "# The REPL\n",
    "\n",
    "Julia has an awesome REPL.  Which I will now show you by switching to a different window where I have it running."
   ]
  }
 ],
 "metadata": {
  "kernelspec": {
   "display_name": "Julia 1.8.5",
   "language": "julia",
   "name": "julia-1.8"
  },
  "language_info": {
   "file_extension": ".jl",
   "mimetype": "application/julia",
   "name": "julia",
   "version": "1.8.5"
  }
 },
 "nbformat": 4,
 "nbformat_minor": 5
}
