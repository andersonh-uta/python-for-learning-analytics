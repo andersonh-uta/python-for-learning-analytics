{
 "cells": [
  {
   "cell_type": "code",
   "execution_count": 1,
   "id": "c6d7d96d-f95d-44b5-be6a-53a2b5f2a6c2",
   "metadata": {},
   "outputs": [
    {
     "name": "stdout",
     "output_type": "stream",
     "text": [
      "CPU times: total: 22.8 s\n",
      "Wall time: 22.8 s\n"
     ]
    },
    {
     "data": {
      "text/plain": [
       "524"
      ]
     },
     "execution_count": 1,
     "metadata": {},
     "output_type": "execute_result"
    }
   ],
   "source": [
    "def collatz_len(n):\n",
    "    seqlen = 0\n",
    "    while n > 1:\n",
    "        if n % 2 == 0:\n",
    "            n = n / 2\n",
    "        elif n % 2 == 1:\n",
    "            n = 3*n + 1\n",
    "        seqlen += 1\n",
    "    return seqlen\n",
    "\n",
    "%time max(map(collatz_len, range(1, 1_000_001)))"
   ]
  },
  {
   "cell_type": "code",
   "execution_count": 2,
   "id": "7c3f0d05-a8fd-40cf-aeda-83ee78cf132b",
   "metadata": {},
   "outputs": [
    {
     "data": {
      "text/plain": [
       "\"I'M A STRING\""
      ]
     },
     "execution_count": 2,
     "metadata": {},
     "output_type": "execute_result"
    }
   ],
   "source": [
    "\"i'm a string\".upper()"
   ]
  },
  {
   "cell_type": "code",
   "execution_count": 3,
   "id": "3ce5643c-e355-4528-ad5d-b3413b080c0c",
   "metadata": {},
   "outputs": [
    {
     "name": "stdout",
     "output_type": "stream",
     "text": [
      "[1, 2, 3]\n",
      "[1, 2, 3, 4]\n"
     ]
    }
   ],
   "source": [
    "x = [1,2,3]\n",
    "print(x)\n",
    "x.append(4)\n",
    "print(x)"
   ]
  },
  {
   "cell_type": "code",
   "execution_count": 5,
   "id": "9acf2ae4-0334-49c2-a921-8cf1dcbed024",
   "metadata": {},
   "outputs": [
    {
     "ename": "AttributeError",
     "evalue": "'int' object has no attribute 'upper'",
     "output_type": "error",
     "traceback": [
      "\u001b[1;31m---------------------------------------------------------------------------\u001b[0m",
      "\u001b[1;31mAttributeError\u001b[0m                            Traceback (most recent call last)",
      "Cell \u001b[1;32mIn[5], line 2\u001b[0m\n\u001b[0;32m      1\u001b[0m x \u001b[38;5;241m=\u001b[39m \u001b[38;5;241m5\u001b[39m\n\u001b[1;32m----> 2\u001b[0m \u001b[43mx\u001b[49m\u001b[38;5;241;43m.\u001b[39;49m\u001b[43mupper\u001b[49m()\n",
      "\u001b[1;31mAttributeError\u001b[0m: 'int' object has no attribute 'upper'"
     ]
    }
   ],
   "source": [
    "x = 5\n",
    "x.upper()"
   ]
  },
  {
   "cell_type": "code",
   "execution_count": null,
   "id": "14e790b7-c871-42a3-a19d-fa79f8fd3db7",
   "metadata": {},
   "outputs": [],
   "source": [
    "def upper(s):\n",
    "    if not isinstance(s, str):\n",
    "        raise AttributeError(\"object has no attribute 'upper'\")\n",
    "    else:\n",
    "        return s.upper()"
   ]
  },
  {
   "cell_type": "code",
   "execution_count": 7,
   "id": "8fd8b955-52de-4635-9ee5-c582bfc434ab",
   "metadata": {},
   "outputs": [
    {
     "name": "stdout",
     "output_type": "stream",
     "text": [
      "1000000 1,000,000 142857142857.14285:.2f\n"
     ]
    }
   ],
   "source": [
    "x = 1000000\n",
    "f_string = f\"{x} {x:,} {x**2 / 7}:.2f\"\n",
    "print(f_string)"
   ]
  },
  {
   "cell_type": "code",
   "execution_count": null,
   "id": "85198504-7c94-484a-af77-bf301b3cf43a",
   "metadata": {},
   "outputs": [],
   "source": []
  }
 ],
 "metadata": {
  "kernelspec": {
   "display_name": "Python 3 (ipykernel)",
   "language": "python",
   "name": "python3"
  },
  "language_info": {
   "codemirror_mode": {
    "name": "ipython",
    "version": 3
   },
   "file_extension": ".py",
   "mimetype": "text/x-python",
   "name": "python",
   "nbconvert_exporter": "python",
   "pygments_lexer": "ipython3",
   "version": "3.10.8"
  }
 },
 "nbformat": 4,
 "nbformat_minor": 5
}
