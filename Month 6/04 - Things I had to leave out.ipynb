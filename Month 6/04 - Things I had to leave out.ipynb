{
 "cells": [
  {
   "cell_type": "markdown",
   "id": "0e5d779d-fda7-4d11-b901-0f14be3ca795",
   "metadata": {},
   "source": [
    "# Glaring Omissions\n",
    "\n",
    "There is a lot I didn't cover.  Here's a very quick run-down of some of the major things, in no particular order.\n",
    "\n",
    "- Missing value imputation.  Scikit-learn has transformers for this.\n",
    "- Custom transformers and custom models. You can create your own by using existing tools in scikit-learn (e.g.: the FunctionTransformer), or by creating your own classes that inherit from scikit-learn's base classes.\n",
    "- Dealing with categorical data.  This is a whole field in and of itself.\n",
    "    - One-hot encoding: available as a transformer\n",
    "    - Label encoding: also as a transformer\n",
    "    - Embeddings: not actually implemented in scikit-learn\n",
    "    - HistGradientBoostingClassifier and the Categorical Naive Bayes model can natively deal with categorical data\n",
    "- Discussion about the assumptions of different models.  This gets into a lot of very messy mathematics, and the kinds of assumptions that ML models make are fundamentally unlike the kinds of assumptions that statistical models make.  (e.g.: assumptions about error distributions are basically non-existent).\n",
    "- How to reason about speed and accuracy of models.  This, too, is an extremely deep topic that requires a lot of math and experience to grapple with.\n",
    "- Details about model evaluation.  What kinds of scoring functions there are, what they tell you, etc.\n",
    "- Regression models.  These look a lot like classification models--identical, in fact, just with a different name, and they expect your target to be continuous rather than discrete--so this omission is pretty minor.\n",
    "- Dealing with imbalanced data.\n",
    "- All the syntactic and API details of even just the models and such that I've covered in this notebook."
   ]
  },
  {
   "cell_type": "code",
   "execution_count": null,
   "id": "c650c500-e7af-43a5-93cb-47467a0ccc21",
   "metadata": {},
   "outputs": [],
   "source": []
  }
 ],
 "metadata": {
  "kernelspec": {
   "display_name": "Python 3 (ipykernel)",
   "language": "python",
   "name": "python3"
  },
  "language_info": {
   "codemirror_mode": {
    "name": "ipython",
    "version": 3
   },
   "file_extension": ".py",
   "mimetype": "text/x-python",
   "name": "python",
   "nbconvert_exporter": "python",
   "pygments_lexer": "ipython3",
   "version": "3.9.7"
  }
 },
 "nbformat": 4,
 "nbformat_minor": 5
}
