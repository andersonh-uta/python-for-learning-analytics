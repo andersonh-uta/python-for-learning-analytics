{
 "cells": [
  {
   "cell_type": "markdown",
   "id": "535cd06b-5ef0-4297-ab17-4d0b05ba18fb",
   "metadata": {},
   "source": [
    "# Topic modeling with Gensim\n",
    "\n",
    "Gensim's preprocessing tools can be great for extremely fast preprocessing, but this isn't what Gensim is really designed for.  Gensim is designed mostly around _unsupervised learning_ tasks in NLP.  Namely, topic modeling and text embeddings.  This notebook covers Gensim's topic modeling in _very_ brief detail.\n",
    "\n",
    "To run topic modeling in Genim, we need to do a few things:\n",
    "- Preprocess our text.\n",
    "- Convert it into Gensim's bag-of-words format (this is different from the sparse matrices we get from scikit-learn).\n",
    "- Run the topic model of our choice--we're going to use Latent Dirichlet Allocation (LDA).\n",
    "\n",
    "Topic modeling tends to be _very_ data hungry, so we'll be using a much larger dataset than we've used for the previous notebooks.  Specifically: we'll grab the entirety of the Electronics reviews from Amazon."
   ]
  },
  {
   "cell_type": "code",
   "execution_count": 1,
   "id": "0a186241-ef2a-4a67-9f71-36e32aaabc71",
   "metadata": {},
   "outputs": [
    {
     "name": "stdout",
     "output_type": "stream",
     "text": [
      "1,689,188 reviews.\n"
     ]
    }
   ],
   "source": [
    "import os\n",
    "import pandas as pd\n",
    "\n",
    "if not os.path.isfile(\"electronics_topic_modeling.parquet\"):\n",
    "    reviews = pd.read_json(\n",
    "        \"http://snap.stanford.edu/data/amazon/productGraph/categoryFiles/reviews_Electronics_5.json.gz\",\n",
    "        lines=True,\n",
    "    )[[\"reviewText\", \"overall\"]] # we'll use the \"oveall\" column in the next notebook\n",
    "    reviews.to_parquet(\"electronics_topic_modeling.parquet\")\n",
    "else:\n",
    "    reviews = pd.read_parquet(\"electronics_topic_modeling.parquet\")\n",
    "    \n",
    "reviews = reviews[\"reviewText\"].dropna().astype(str)\n",
    "print(f\"{reviews.shape[0]:,} reviews.\")"
   ]
  },
  {
   "cell_type": "markdown",
   "id": "232729de-4115-4dc1-ad19-4efe1ece9c28",
   "metadata": {},
   "source": [
    "We're going to employ some tricks to process this data as quickly as possible.  We're going to create our own preprocessing function using only some of the steps from Gensim's `preprocess_string` function.  Then we're going to call it in parallel over our texts using Joblib, for extra speed."
   ]
  },
  {
   "cell_type": "code",
   "execution_count": 2,
   "id": "32f2f6e7-a091-41ea-9be4-bf5f70398a43",
   "metadata": {},
   "outputs": [
    {
     "data": {
      "application/vnd.jupyter.widget-view+json": {
       "model_id": "85fe2fbf6aba4911a384e63ed2f90950",
       "version_major": 2,
       "version_minor": 0
      },
      "text/plain": [
       "  0%|          | 0.00/1.69M [00:00<?, ?it/s]"
      ]
     },
     "metadata": {},
     "output_type": "display_data"
    },
    {
     "name": "stdout",
     "output_type": "stream",
     "text": [
      "We got this GPS for my husband who is an (OTR) over the road trucker.  Very Impressed with the shipping time, it arrived a few days earlier than expected...  within a week of use however it started freezing up... could of just been a glitch in that unit.  Worked great when it worked!  Will work great for the normal person as well but does have the \"trucker\" option. (the big truck routes - tells you when a scale is coming up ect...)  Love the bigger screen, the ease of use, the ease of putting addresses into memory.  Nothing really bad to say about the unit with the exception of it freezing which is probably one in a million and that's just my luck.  I contacted the seller and within minutes of my email I received a email back with instructions for an exchange! VERY impressed all the way around!\n",
      "['got', 'gp', 'husband', 'otr', 'road', 'trucker', 'impress', 'ship', 'time', 'arriv', 'dai', 'earlier', 'expect', 'week', 'us', 'start', 'freez', 'glitch', 'unit', 'work', 'great', 'work', 'work', 'great', 'normal', 'person', 'trucker', 'option', 'big', 'truck', 'rout', 'tell', 'scale', 'come', 'ect', 'love', 'bigger', 'screen', 'eas', 'us', 'eas', 'put', 'address', 'memori', 'bad', 'unit', 'except', 'freez', 'probabl', 'million', 'luck', 'contact', 'seller', 'minut', 'email', 'receiv', 'email', 'instruct', 'exchang', 'impress', 'wai']\n"
     ]
    }
   ],
   "source": [
    "# Preprocessing\n",
    "from joblib import Parallel, delayed\n",
    "from gensim.parsing import preprocessing\n",
    "from tqdm.notebook import tqdm\n",
    "\n",
    "def preprocess(s):\n",
    "    \"\"\"Apply some of gensim's preprocessing tools.\"\"\"\n",
    "    s = preprocessing.strip_punctuation(s)\n",
    "    s = preprocessing.strip_numeric(s)\n",
    "    s = preprocessing.remove_stopwords(s.lower())\n",
    "    s = preprocessing.strip_short(s)\n",
    "    s = preprocessing.stem_text(s)\n",
    "    return s.split()\n",
    "\n",
    "parsed = Parallel(-1)(\n",
    "    delayed(preprocess)(i)\n",
    "    for i in tqdm(reviews, unit_scale=True, smoothing=0)\n",
    ")\n",
    "\n",
    "print(reviews.iloc[0])\n",
    "print(parsed[0])"
   ]
  },
  {
   "cell_type": "code",
   "execution_count": 3,
   "id": "14e5bbd4-4ec1-4ab3-a126-9b2645b34111",
   "metadata": {},
   "outputs": [
    {
     "data": {
      "application/vnd.jupyter.widget-view+json": {
       "model_id": "7bf4765cbf5e42c5b3e6c9b5d4cf6a5e",
       "version_major": 2,
       "version_minor": 0
      },
      "text/plain": [
       "Creating gensim Dictionary:   0%|          | 0.00/1.69M [00:00<?, ?it/s]"
      ]
     },
     "metadata": {},
     "output_type": "display_data"
    },
    {
     "data": {
      "application/vnd.jupyter.widget-view+json": {
       "model_id": "0e9167b188ce4f29b703bf06566ef5b1",
       "version_major": 2,
       "version_minor": 0
      },
      "text/plain": [
       "Converting to bag of words:   0%|          | 0.00/1.69M [00:00<?, ?it/s]"
      ]
     },
     "metadata": {},
     "output_type": "display_data"
    },
    {
     "name": "stdout",
     "output_type": "stream",
     "text": [
      "959,803 reviews remain.\n"
     ]
    }
   ],
   "source": [
    "# Convert to a bag-of-words format using a Dictionary()\n",
    "# object, which will handle filtering words for us and\n",
    "# doing the bag of words conversion.\n",
    "from gensim.corpora import Dictionary\n",
    "\n",
    "# Dictonary([[word, word, ...], [word, word, ...], ...])\n",
    "d = Dictionary(tqdm(parsed, desc=\"Creating gensim Dictionary\", unit_scale=True))\n",
    "\n",
    "# Remove rare and super common words\n",
    "d.filter_extremes(no_above=0.5, no_below=20)\n",
    "\n",
    "# Convert to bag of words\n",
    "bow = [\n",
    "    d.doc2bow(i)\n",
    "    for i in tqdm(parsed, desc=\"Converting to bag of words\", unit_scale=True)\n",
    "]\n",
    "\n",
    "# For topic modeling we usually only want texts of at least\n",
    "# some minimum number of words, after filtering.  I'm picking\n",
    "# 20, somewhat arbitrarily.\n",
    "bow = [i for i in bow if len(i) >= 20]\n",
    "\n",
    "print(f\"{len(bow):,} reviews remain.\")"
   ]
  },
  {
   "cell_type": "markdown",
   "id": "d791f0a1-ad1e-4ffc-a8f9-7a51ef0e6f22",
   "metadata": {},
   "source": [
    "Now, we build the LDA model on the bag of words representations.  Gensim has a few different topic models, but as mentioned, we're going to use one called Latent Dirichlet Allocation.  It tends to find more compact/coherent topics than some others, but its parameters can be very fiddly for datasets that aren't absurdly huge (this dataset is pretty moderately sized for LDA).\n",
    "\n",
    "Gensim's LDA model does have an option to use \"callbacks,\" which is a fancy way of saying \"a function we pass that Gensim will periodically call for us.\"  Gensim typically calls these at the beginning and end of each pass over the dataset (LDA generally does several passes).  But, this makes it a bit hard to monitor the progress of each pass itself, so I'm going to slap together a quick class that'll print the progress on each iteration through a corpus.  Don't worry too much about the code details here."
   ]
  },
  {
   "cell_type": "code",
   "execution_count": 4,
   "id": "40464955-8afd-4e6e-b9df-34e80b27f442",
   "metadata": {},
   "outputs": [],
   "source": [
    "class Corpus:\n",
    "    def __init__(self, it):\n",
    "        self.it = it\n",
    "        self.n_passes = 1\n",
    "        \n",
    "    def __len__(self):\n",
    "        return len(self.it)\n",
    "    \n",
    "    def __iter__(self):\n",
    "        for i in tqdm(\n",
    "            self.it,\n",
    "            desc=f\"Pass {self.n_passes}\",\n",
    "            unit_scale=True,\n",
    "            smoothing=0,\n",
    "        ):\n",
    "            yield i\n",
    "        self.n_passes += 1"
   ]
  },
  {
   "cell_type": "code",
   "execution_count": 5,
   "id": "d6ddb157-1636-431a-9987-c9ee6da97ebe",
   "metadata": {},
   "outputs": [],
   "source": [
    "# Set some environemnt variables before we run the model.\n",
    "# Some of the lower-level libaries used by the LDA model\n",
    "# are already multithreaded.  But we get more mileage\n",
    "# out of multithreading at the LDA level.  So we need to\n",
    "# single-thread the lower level libraries to avoid over-\n",
    "# subscribing the CPU.\n",
    "import os\n",
    "\n",
    "os.environ[\"OMP_NUM_THREADS\"] = \"1\"\n",
    "os.environ[\"MLK_NUM_THREADS\"] = \"1\"\n",
    "os.environ[\"OPENBLAS_NUM_THREADS\"] = \"1\"\n",
    "os.environ[\"NUMEXPR_NUM_THREADS\"] = \"1\""
   ]
  },
  {
   "cell_type": "code",
   "execution_count": 6,
   "id": "7f3fe8b5-326b-4288-8e79-b3648166e0e3",
   "metadata": {},
   "outputs": [
    {
     "data": {
      "application/vnd.jupyter.widget-view+json": {
       "model_id": "c87f05c86ce04566a22049ec483ce6c6",
       "version_major": 2,
       "version_minor": 0
      },
      "text/plain": [
       "Pass 1:   0%|          | 0.00/960k [00:00<?, ?it/s]"
      ]
     },
     "metadata": {},
     "output_type": "display_data"
    },
    {
     "data": {
      "application/vnd.jupyter.widget-view+json": {
       "model_id": "e0c343a0cc16409596882ce7498a9c2c",
       "version_major": 2,
       "version_minor": 0
      },
      "text/plain": [
       "Pass 2:   0%|          | 0.00/960k [00:00<?, ?it/s]"
      ]
     },
     "metadata": {},
     "output_type": "display_data"
    },
    {
     "data": {
      "application/vnd.jupyter.widget-view+json": {
       "model_id": "ad3a3ea217d4402ebb3cbe29ef0fba8f",
       "version_major": 2,
       "version_minor": 0
      },
      "text/plain": [
       "Pass 3:   0%|          | 0.00/960k [00:00<?, ?it/s]"
      ]
     },
     "metadata": {},
     "output_type": "display_data"
    },
    {
     "data": {
      "application/vnd.jupyter.widget-view+json": {
       "model_id": "9dd7773a69fe4a37b46ad2a40965512b",
       "version_major": 2,
       "version_minor": 0
      },
      "text/plain": [
       "Pass 4:   0%|          | 0.00/960k [00:00<?, ?it/s]"
      ]
     },
     "metadata": {},
     "output_type": "display_data"
    },
    {
     "data": {
      "application/vnd.jupyter.widget-view+json": {
       "model_id": "644981a70c034a36b3da6e03ab17f566",
       "version_major": 2,
       "version_minor": 0
      },
      "text/plain": [
       "Pass 5:   0%|          | 0.00/960k [00:00<?, ?it/s]"
      ]
     },
     "metadata": {},
     "output_type": "display_data"
    }
   ],
   "source": [
    "from gensim.models.ldamulticore import LdaMulticore\n",
    "\n",
    "lda = LdaMulticore(\n",
    "    corpus=Corpus(bow),\n",
    "    id2word=d,\n",
    "    num_topics=10,\n",
    "    passes=5, # 50 passes over the corpus\n",
    "    workers=10,\n",
    ")"
   ]
  },
  {
   "cell_type": "code",
   "execution_count": 7,
   "id": "eb3e41f2-cc2a-458c-85b6-83fd4e831d49",
   "metadata": {},
   "outputs": [
    {
     "name": "stdout",
     "output_type": "stream",
     "text": [
      "[(0, '0.033*\"drive\" + 0.017*\"card\" + 0.017*\"usb\" + 0.011*\"window\" + 0.011*\"work\" + 0.009*\"instal\" + 0.009*\"us\" + 0.008*\"hard\" + 0.008*\"laptop\" + 0.008*\"file\"'), (1, '0.029*\"cabl\" + 0.022*\"screen\" + 0.019*\"tablet\" + 0.014*\"work\" + 0.013*\"product\" + 0.010*\"protector\" + 0.009*\"ipad\" + 0.009*\"like\" + 0.008*\"us\" + 0.007*\"good\"'), (2, '0.040*\"speaker\" + 0.026*\"sound\" + 0.014*\"radio\" + 0.010*\"mount\" + 0.009*\"unit\" + 0.009*\"good\" + 0.009*\"power\" + 0.008*\"receiv\" + 0.008*\"antenna\" + 0.008*\"great\"'), (3, '0.026*\"batteri\" + 0.021*\"keyboard\" + 0.021*\"charg\" + 0.017*\"work\" + 0.013*\"us\" + 0.011*\"mous\" + 0.010*\"time\" + 0.009*\"kei\" + 0.009*\"power\" + 0.009*\"like\"'), (4, '0.020*\"connect\" + 0.020*\"devic\" + 0.019*\"work\" + 0.017*\"router\" + 0.012*\"wireless\" + 0.011*\"network\" + 0.010*\"set\" + 0.008*\"us\" + 0.008*\"support\" + 0.007*\"wifi\"'), (5, '0.034*\"sound\" + 0.023*\"headphon\" + 0.016*\"ear\" + 0.013*\"music\" + 0.013*\"qualiti\" + 0.013*\"good\" + 0.011*\"like\" + 0.009*\"bass\" + 0.008*\"listen\" + 0.008*\"great\"'), (6, '0.012*\"video\" + 0.012*\"player\" + 0.010*\"set\" + 0.010*\"plai\" + 0.010*\"monitor\" + 0.010*\"remot\" + 0.010*\"watch\" + 0.009*\"hdmi\" + 0.009*\"screen\" + 0.009*\"pictur\"'), (7, '0.048*\"case\" + 0.017*\"cover\" + 0.015*\"ipad\" + 0.014*\"fit\" + 0.014*\"like\" + 0.010*\"protect\" + 0.010*\"look\" + 0.009*\"us\" + 0.009*\"bag\" + 0.009*\"hold\"'), (8, '0.053*\"camera\" + 0.021*\"len\" + 0.010*\"light\" + 0.010*\"us\" + 0.010*\"shoot\" + 0.010*\"pictur\" + 0.010*\"canon\" + 0.009*\"imag\" + 0.009*\"good\" + 0.009*\"qualiti\"'), (9, '0.017*\"camera\" + 0.013*\"us\" + 0.011*\"video\" + 0.010*\"unit\" + 0.010*\"time\" + 0.009*\"record\" + 0.009*\"gp\" + 0.008*\"like\" + 0.008*\"featur\" + 0.007*\"screen\"')]\n"
     ]
    }
   ],
   "source": [
    "print(lda.print_topics())"
   ]
  },
  {
   "cell_type": "code",
   "execution_count": 8,
   "id": "8b455225-ff9c-4df9-a9d3-76656a02f14e",
   "metadata": {},
   "outputs": [
    {
     "name": "stdout",
     "output_type": "stream",
     "text": [
      "TOPIC #0\n",
      "('drive', 0.032778084)\n",
      "('card', 0.017403973)\n",
      "('usb', 0.016849024)\n",
      "('window', 0.0111500565)\n",
      "('work', 0.011146831)\n",
      "('instal', 0.009073854)\n",
      "('us', 0.009033086)\n",
      "('hard', 0.00796388)\n",
      "('laptop', 0.007916439)\n",
      "('file', 0.00764729)\n",
      "\n",
      "TOPIC #1\n",
      "('cabl', 0.029098772)\n",
      "('screen', 0.02167196)\n",
      "('tablet', 0.01869011)\n",
      "('work', 0.0135153)\n",
      "('product', 0.012651278)\n",
      "('protector', 0.010461979)\n",
      "('ipad', 0.009393578)\n",
      "('like', 0.009151966)\n",
      "('us', 0.008449879)\n",
      "('good', 0.0066706496)\n",
      "\n",
      "TOPIC #2\n",
      "('speaker', 0.039928056)\n",
      "('sound', 0.026328849)\n",
      "('radio', 0.013600866)\n",
      "('mount', 0.010017371)\n",
      "('unit', 0.00931071)\n",
      "('good', 0.009050677)\n",
      "('power', 0.008708894)\n",
      "('receiv', 0.008392777)\n",
      "('antenna', 0.008134712)\n",
      "('great', 0.007953939)\n",
      "\n",
      "TOPIC #3\n",
      "('batteri', 0.026297644)\n",
      "('keyboard', 0.021481948)\n",
      "('charg', 0.020904819)\n",
      "('work', 0.017413568)\n",
      "('us', 0.013355687)\n",
      "('mous', 0.01112192)\n",
      "('time', 0.009931391)\n",
      "('kei', 0.009099643)\n",
      "('power', 0.009069663)\n",
      "('like', 0.008928605)\n",
      "\n",
      "TOPIC #4\n",
      "('connect', 0.020471772)\n",
      "('devic', 0.019782176)\n",
      "('work', 0.01921926)\n",
      "('router', 0.016605787)\n",
      "('wireless', 0.012472001)\n",
      "('network', 0.0106884865)\n",
      "('set', 0.010233012)\n",
      "('us', 0.008223683)\n",
      "('support', 0.007752754)\n",
      "('wifi', 0.0073659415)\n",
      "\n",
      "TOPIC #5\n",
      "('sound', 0.033906545)\n",
      "('headphon', 0.0230346)\n",
      "('ear', 0.015761571)\n",
      "('music', 0.012835128)\n",
      "('qualiti', 0.012602092)\n",
      "('good', 0.012565832)\n",
      "('like', 0.011003507)\n",
      "('bass', 0.008683843)\n",
      "('listen', 0.008412014)\n",
      "('great', 0.008267224)\n",
      "\n",
      "TOPIC #6\n",
      "('video', 0.012438374)\n",
      "('player', 0.011831953)\n",
      "('set', 0.0102881435)\n",
      "('plai', 0.010066479)\n",
      "('monitor', 0.009944246)\n",
      "('remot', 0.009849768)\n",
      "('watch', 0.009605288)\n",
      "('hdmi', 0.009380205)\n",
      "('screen', 0.009357863)\n",
      "('pictur', 0.00922298)\n",
      "\n",
      "TOPIC #7\n",
      "('case', 0.04755105)\n",
      "('cover', 0.016526122)\n",
      "('ipad', 0.0152688)\n",
      "('fit', 0.014450798)\n",
      "('like', 0.014242027)\n",
      "('protect', 0.010451385)\n",
      "('look', 0.009943601)\n",
      "('us', 0.0092959395)\n",
      "('bag', 0.009161288)\n",
      "('hold', 0.009101267)\n",
      "\n",
      "TOPIC #8\n",
      "('camera', 0.05286768)\n",
      "('len', 0.02104396)\n",
      "('light', 0.01044468)\n",
      "('us', 0.010228495)\n",
      "('shoot', 0.009862377)\n",
      "('pictur', 0.009826919)\n",
      "('canon', 0.009684797)\n",
      "('imag', 0.0091331145)\n",
      "('good', 0.009079596)\n",
      "('qualiti', 0.008678908)\n",
      "\n",
      "TOPIC #9\n",
      "('camera', 0.01659407)\n",
      "('us', 0.01307382)\n",
      "('video', 0.011008528)\n",
      "('unit', 0.010262281)\n",
      "('time', 0.009753519)\n",
      "('record', 0.0091304425)\n",
      "('gp', 0.008960724)\n",
      "('like', 0.007959764)\n",
      "('featur', 0.0076232874)\n",
      "('screen', 0.00704586)\n",
      "\n"
     ]
    }
   ],
   "source": [
    "# Reshp that output into soemthing more readable.\n",
    "for (topic_num, words) in lda.show_topics(formatted=False):\n",
    "    print(f\"TOPIC #{topic_num}\")\n",
    "    for w in words: \n",
    "        print(w)\n",
    "    print()"
   ]
  },
  {
   "cell_type": "markdown",
   "id": "618fc72f-4a70-435b-94de-4a62a6a28359",
   "metadata": {},
   "source": [
    "We can obviously see-even though the mangling from the Porter Stemmer--some pretty consistent themes popping up in this data.  Cameras, keyboards and mice, headphones, speakers, etc. all show up pretty clearly in each topic.\n",
    "\n",
    "We can also use the topic model to _transform_ a document into its topic distributions, i.e., into a vector that tells us \"how much\" of each topic is in the document.  I'll grab a review from Amazon (for the Logitech G610 Orion keyboard--a good, well priced mechanical keyboard if anyone happens to be curious)."
   ]
  },
  {
   "cell_type": "code",
   "execution_count": 9,
   "id": "ef0303ac-e83e-4207-83fe-cb21c9bdbe8e",
   "metadata": {},
   "outputs": [
    {
     "name": "stdout",
     "output_type": "stream",
     "text": [
      "[(0, 0.09168905), (3, 0.6173495), (6, 0.120697916), (7, 0.11467561), (8, 0.054508593)]\n"
     ]
    }
   ],
   "source": [
    "sample_review = \"\"\"Hello everyone this is my review on the Logitech G610 Orion Red. You can find the TL;DR at the bottom. :)\n",
    "\n",
    "BUILD QUALITY:\n",
    "\n",
    "The keyboard feels sturdy and has a bit of weight to it which results in a unit that feels robust and fairly high-quality. The top of the keyboard has a nice matte finish and the keycaps also have a matte, almost \"satin\" finish to them. The side of the keyboard is glossy and will surely attract fingerprints. Matte sides would have been much nicer and the decision to make them glossy seems a bit strange, but it does not seem to be that big a deal. The keycaps do leave a bit to be desired as they seem to be of a lower quality than the rest of the board and from the looks of it these keycaps will be glossing over fairly soon as I put this keyboard to extensive use. The media keys and volume roller situated in the upper right-hand corner of the keyboard both feel of a high quality.\n",
    "\n",
    "KEYCAPS:\n",
    "\n",
    "Do note, and this may be important for some folks, if you want to use custom keycaps, this keyboard does have an odd-size bottom row, particularly the spacebar which comes in at a very weird 5.75u. The entire bottom row on this keyboard is: 1.5u, 1.25u, 1.25u, 5.75u, 1.25u, 1.25u, 1.25u, 1.5u. With enough searching (and of course money) you could probably find keycaps for this bottom row, but do bear in mind that it may not be so easy and once you do find some nicer caps by time you pay for them you could be faced with a situation where the cost of those caps on top of the cost of this board exceeds that of getting a board with better keycaps to begin with. This is perhaps something for you to consider.\n",
    "\n",
    "LIGHTING:\n",
    "\n",
    "The lighting on the G610 only comes in white, however if you like the subdued styling of the keyboard but would prefer more lighting colors there is an RGB option, which is the Logitech G810. It is very similar to this board that in addition to the RGB lighting will feature Logitech's proprietary Romer-G switches as opposed to the Cherry brown or red switch options available on the G610. Whether one enjoys the feel of Romer-G switches is very much personal preference, but one thing to note with Romer-Gs is the backlighting will be more consistent across each key, unlike Cherry’s keys where thanks to the switch design influencing the placement of the LED, the lighting can be uneven across a key. For example, the bottom half of the keys of the number row (e.g. @, %, ^, &), and the secondary functions of the Numpad (e.g. Arrow Keys, END, PG DN, DEL) will be dimmer than the top half of the key. I have included a picture of a section the number pad demonstrating this. For many it may not be that big a deal, but if you are particular about things like that it may be an issue for you and could be one reason to look into Romer-G switches. Regardless of the inconsistent lighting, you should have no problem seeing everything in a dark room.\n",
    "\n",
    "As far as lighting is concerned you can opt to use Logitech's software to customize between different effects such as \"Breathing,\" \"Star Effect,\" \"Light Wave\" and things like that or if you would rather not deal with the software you can forgo some of the fancier lighting schemes and simply hold down the keyboard's Brightness Setting key while pressing numbers 1, 2, 3, 4, 5, or 0 (0 is for solid) to cycle through different preset lighting schemes. It’s a pretty neat feature. The settings you select through Brightness key + numbers 1-5 and 0 should save through a cold boot. Considering my Logitech G600 mouse features a nice onboard memory that saves lighting and binding profiles, this keyboard could have certainly used something similar which for a unit that retails for $120 would have been nice to have.\n",
    "\n",
    "FINAL THOUGHTS/OPINIONS:\n",
    "\n",
    "This keyboard was a second choice for me as I intended to get a WASD CODE which retails for $150. The only reason I picked this Logitech up is the Cherry MX Red version was available on Amazon for $80 and I wanted to save a bit of money. Personally, I’d be reluctant to pay $100 for this keyboard and certainly not the retail asking price of $120 when for just $30 more I could have gotten a backlit board from WASD which has an even superior build quality, more choice of switches, and keycaps that are easier to replace... along with no \"in your face\" company logos, no media control switches (which for me are useless) and features onboard memory to easily save lighting profiles. Because of a lack of onboard memory to store lighting and key assignment profiles and because of the completely odd-ball and frankly quite annoying size of the bottom row’s spacebar which makes finding a full set of custom keycaps a nightmare, I will be removing one star.\n",
    "\n",
    "In the end this is a nice keyboard for $80, and even while $100 would be doable it would be stretching it but I do trust the Logitech name and therefore can be pretty certain this keyboard will serve me well for the next few years, even if only as a backup. The flaws I mention are relatively minor and the quality and styling of this board far outweigh them. Personally I do not at all regret the purchase of this keyboard. If you want an easy, simple keyboard from a reputable company go ahead and pick this up and it should serve you well.\n",
    "\n",
    "TL;DR\n",
    "\n",
    "+Solid build quality\n",
    "+Tried and true Cherry MX switches\n",
    "+Backlit with five levels of brightness\n",
    "+Easy to take apart (see youtube for teardowns)\n",
    "+Comfortable to use\n",
    "\n",
    "-Weird sizing for keycaps on bottom row, good luck finding a 5.75u spacebar :(\n",
    "-No onboard memory to save lighting profile, key remaps, etc.\n",
    "-A bit pricey considering no onboard memory, no USB passthrough, etc.\n",
    "-Uneven lighting on some keys. While due to the design of Cherry switches this is not necessarily a fault of Logitech, the company could have opted to orient the keycap’s primary and secondary legends horizontally instead of vertically (e.g. as see on the backlit WASD Code) which would have provided more even lighting across the key.\n",
    "\n",
    "Despite some flaws like a very odd sizing on the keycaps of the bottom row and lack of onboard memory to save lighting and other such profiles, The Logitech G610 Orion Red is solid board and one that I can happily recommend.\"\"\"\n",
    "\n",
    "# Run all the preprocessing\n",
    "sample_review = preprocess(sample_review)\n",
    "sample_review = d.doc2bow(sample_review)\n",
    "# print(sample_review)\n",
    "\n",
    "# Gensim's models override the `__get__()` method\n",
    "# to transform data, so we can use this weird-looking\n",
    "# syntax.  This filters out topics that are below a threshold.\n",
    "# You can specify the threshold when creating the \n",
    "# LdaMulticore model--I left it at the default.\n",
    "print(lda[sample_review])"
   ]
  },
  {
   "cell_type": "code",
   "execution_count": 10,
   "id": "473dbf80-715d-43d3-8fc5-3cf644284a04",
   "metadata": {},
   "outputs": [
    {
     "name": "stdout",
     "output_type": "stream",
     "text": [
      "[(0, 0.09170318), (1, 0.00021587481), (2, 0.00021586963), (3, 0.6173657), (4, 0.00021585888), (5, 0.0002158707), (6, 0.12075702), (7, 0.114705995), (8, 0.054388754), (9, 0.00021587199)]\n"
     ]
    }
   ],
   "source": [
    "# Or: get all topics, regardless of their proportion.\n",
    "print(lda.get_document_topics(sample_review, minimum_probability=0))"
   ]
  },
  {
   "cell_type": "code",
   "execution_count": 11,
   "id": "ace31ffd-0561-4bdb-b1dd-a1cfb0e91724",
   "metadata": {},
   "outputs": [
    {
     "name": "stdout",
     "output_type": "stream",
     "text": [
      "[(0, 0.09169665), (1, 0.00021587482), (2, 0.00021586964), (3, 0.61735773), (4, 0.00021585889), (5, 0.00021587072), (6, 0.120721094), (7, 0.11469636), (8, 0.054448795), (9, 0.000215872)]\n",
      "[[9.16966498e-02 2.15874825e-04 2.15869644e-04 6.17357731e-01\n",
      "  2.15858890e-04 2.15870721e-04 1.20721094e-01 1.14696361e-01\n",
      "  5.44487946e-02 2.15872002e-04]]\n"
     ]
    }
   ],
   "source": [
    "# Convert to a Numpy array for, e.g., input to an ML\n",
    "# or statistical model.\n",
    "from gensim.matutils import corpus2dense\n",
    "topics = lda.get_document_topics(sample_review, minimum_probability=0)\n",
    "print(topics)\n",
    "\n",
    "# corpus2dense expects a list of documents.\n",
    "# `topics` is formatted like a single document.\n",
    "# We also need to specify how many \"terms\" are in the \n",
    "# whole corpus.  corpus2dense returns an array with\n",
    "# each document in a column, so we also transpose it.\n",
    "print(corpus2dense([topics], 10).T)"
   ]
  },
  {
   "cell_type": "code",
   "execution_count": null,
   "id": "0e23ed9e-f624-449c-8ae3-32a0c5b3b14e",
   "metadata": {},
   "outputs": [],
   "source": []
  }
 ],
 "metadata": {
  "kernelspec": {
   "display_name": "Python 3 (ipykernel)",
   "language": "python",
   "name": "python3"
  },
  "language_info": {
   "codemirror_mode": {
    "name": "ipython",
    "version": 3
   },
   "file_extension": ".py",
   "mimetype": "text/x-python",
   "name": "python",
   "nbconvert_exporter": "python",
   "pygments_lexer": "ipython3",
   "version": "3.10.6"
  }
 },
 "nbformat": 4,
 "nbformat_minor": 5
}
