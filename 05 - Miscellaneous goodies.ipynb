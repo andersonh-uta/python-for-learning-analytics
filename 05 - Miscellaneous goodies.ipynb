{
 "cells": [
  {
   "cell_type": "markdown",
   "id": "413c1b14-c086-4d80-af45-f428ee55eb33",
   "metadata": {},
   "source": [
    "# Some miscellaneous useful libraries\n",
    "\n",
    "This is a short collection of miscellaneous libraries I've found very useful for data work.  A lot of these are pretty \"bite sized\" libraries that solve one or two very specific problems, but which can make your life so much easier.  Or, they're extremely deep and detailed libraries, but which you can use just one or two quick things out of to get a huge boost to your code's speed, or your productivity, or whatever else.\n",
    "\n",
    "# tqdm: Progress bars!\n",
    "\n",
    "Install with:\n",
    "\n",
    "```bash\n",
    "conda install tqdm\n",
    "```\n",
    "\n",
    "`tqdm` gives you progress bars when iterating through something.  This is immensely helpful if you've got a loop that will run over a lot of data, e.g., looping through lines in a very large file.  It has two important functions in it:\n",
    "\n",
    "- `tqdm.tqdm()`: wraps any iterable object and provides progress bars as you iterate through it.\n",
    "- `tqdm.trange()`: shortcut for `tqdm.tqdm(range(...))`.\n",
    "\n",
    "If you're using Jupyter notebooks, you can import these from `tqdm.notebook` for prettier printing.  Otherwise, import them from `tqdm` directly.  `tqdm` also integrates wonderfully with Pandas, which we'll see next month."
   ]
  },
  {
   "cell_type": "code",
   "execution_count": 1,
   "id": "8a7a4ab7-8b9b-4dd5-be9b-6362c1e09b87",
   "metadata": {},
   "outputs": [
    {
     "name": "stderr",
     "output_type": "stream",
     "text": [
      "100%|██████████████████████████████████████████████████████████████████████████████████| 10/10 [00:10<00:00,  1.01s/it]\n",
      "100%|██████████████████████████████████████████████████████████████████████████████████| 10/10 [00:10<00:00,  1.01s/it]\n"
     ]
    }
   ],
   "source": [
    "from tqdm import tqdm, trange\n",
    "from time import sleep # sleep(n) -> pause the program for n seconds\n",
    "\n",
    "for i in trange(10):\n",
    "    sleep(1)\n",
    "    \n",
    "numbers = [0, 1, 2, 3, 4, 5, 6, 7, 8, 9]\n",
    "for i in tqdm(numbers):\n",
    "    sleep(1)"
   ]
  },
  {
   "cell_type": "code",
   "execution_count": 2,
   "id": "55d86aa7-2cee-4ba8-80f9-67a1f7bb4169",
   "metadata": {},
   "outputs": [
    {
     "data": {
      "application/vnd.jupyter.widget-view+json": {
       "model_id": "f9e29ae8341a4e509c5feada1fbc4b5d",
       "version_major": 2,
       "version_minor": 0
      },
      "text/plain": [
       "  0%|          | 0/10 [00:00<?, ?it/s]"
      ]
     },
     "metadata": {},
     "output_type": "display_data"
    },
    {
     "data": {
      "application/vnd.jupyter.widget-view+json": {
       "model_id": "23235fcf148c4b40b2ef286f580de635",
       "version_major": 2,
       "version_minor": 0
      },
      "text/plain": [
       "  0%|          | 0/9 [00:00<?, ?it/s]"
      ]
     },
     "metadata": {},
     "output_type": "display_data"
    }
   ],
   "source": [
    "# Same code, just using the tqdm.notebook implementations\n",
    "from tqdm.notebook import tqdm, trange\n",
    "from time import sleep\n",
    "\n",
    "for i in trange(10):\n",
    "    sleep(1)\n",
    "    \n",
    "numbers = [1, 2, 3, 4, 5, 6, 7, 8, 9]\n",
    "for i in tqdm(numbers):\n",
    "    sleep(1)"
   ]
  },
  {
   "cell_type": "markdown",
   "id": "1671a65a-aa16-49d9-ae5b-c5e8d1fed8ba",
   "metadata": {},
   "source": [
    "You can also add some nice decorations to the progress bars, like descriptions, and turn on unit scaling:"
   ]
  },
  {
   "cell_type": "code",
   "execution_count": 3,
   "id": "22335f07-5591-4eb2-b36f-20f9d6b05e0c",
   "metadata": {},
   "outputs": [
    {
     "data": {
      "application/vnd.jupyter.widget-view+json": {
       "model_id": "c13814a154dd4ed1a5a49e15224a0f0e",
       "version_major": 2,
       "version_minor": 0
      },
      "text/plain": [
       "A big loop!:   0%|          | 0/10000000 [00:00<?, ?it/s]"
      ]
     },
     "metadata": {},
     "output_type": "display_data"
    },
    {
     "data": {
      "application/vnd.jupyter.widget-view+json": {
       "model_id": "90c2297672524040a63fdc37d669a08f",
       "version_major": 2,
       "version_minor": 0
      },
      "text/plain": [
       "A big loop!:   0%|          | 0.00/10.0M [00:00<?, ?it/s]"
      ]
     },
     "metadata": {},
     "output_type": "display_data"
    }
   ],
   "source": [
    "for i in trange(10_000_000, desc=\"A big loop!\"):\n",
    "    pass\n",
    "\n",
    "for i in trange(10_000_000, desc=\"A big loop!\", unit_scale=True):\n",
    "    pass"
   ]
  },
  {
   "cell_type": "markdown",
   "id": "1dc9ea93-cd5f-45c4-8614-a06ef5b87afc",
   "metadata": {},
   "source": [
    "You can manually control when the progress bar updates.  Note that if you don't give `tqdm.tqdm()` an iterable, or you give it one that doesn't have a known length, it will only show the number of iterations complete.  It won't print estimated time to completion information.  You can pass `total=` to force it to use that value for the total number of iterations it has to go though, if you know it ahead of time."
   ]
  },
  {
   "cell_type": "code",
   "execution_count": 4,
   "id": "bda1c8bc-dc22-4f6b-9bd8-5124afaa8bac",
   "metadata": {},
   "outputs": [
    {
     "data": {
      "application/vnd.jupyter.widget-view+json": {
       "model_id": "78aefa423a6f4e1491d2ecb9d3f8513e",
       "version_major": 2,
       "version_minor": 0
      },
      "text/plain": [
       "Odd numbers found: 0it [00:00, ?it/s]"
      ]
     },
     "metadata": {},
     "output_type": "display_data"
    }
   ],
   "source": [
    "with tqdm(desc=\"Odd numbers found\") as pbar:\n",
    "    for i in range(1000):\n",
    "        if i % 2 == 1:\n",
    "            pbar.update(1)\n",
    "            sleep(0.001)"
   ]
  },
  {
   "cell_type": "markdown",
   "id": "da0c757d-047d-43bd-aed4-28703cf919a0",
   "metadata": {},
   "source": [
    "Lastly, you can have multiple progress bars going at once, e.g. to track different things."
   ]
  },
  {
   "cell_type": "code",
   "execution_count": 5,
   "id": "f4373128-5be5-4070-8d4f-72755e6296c0",
   "metadata": {},
   "outputs": [
    {
     "data": {
      "application/vnd.jupyter.widget-view+json": {
       "model_id": "96597820e05245ab85a71939e5c2ff13",
       "version_major": 2,
       "version_minor": 0
      },
      "text/plain": [
       "Numbers checked:   0%|          | 0/1000 [00:00<?, ?it/s]"
      ]
     },
     "metadata": {},
     "output_type": "display_data"
    },
    {
     "data": {
      "application/vnd.jupyter.widget-view+json": {
       "model_id": "114f37336b9f4d828d501b2d793ea26b",
       "version_major": 2,
       "version_minor": 0
      },
      "text/plain": [
       "Odd numbers found: 0it [00:00, ?it/s]"
      ]
     },
     "metadata": {},
     "output_type": "display_data"
    }
   ],
   "source": [
    "with tqdm(desc=\"Numbers checked\", position=0, total=1000) as pbar1, tqdm(desc=\"Odd numbers found\", position=1) as pbar2:\n",
    "    for i in range(1000):\n",
    "        pbar1.update(1)\n",
    "        if i % 2 == 1:\n",
    "            pbar2.update(1)\n",
    "        sleep(0.001)"
   ]
  },
  {
   "cell_type": "markdown",
   "id": "d9df4ae8-2b70-4bd5-8511-5c65e2caae25",
   "metadata": {},
   "source": [
    "# `timeit`: How fast is my code?\n",
    "\n",
    "You've seen some examples already of me using the `timeit` module from the standard library, but let's dive into what it actually does.  It's pretty simple: you give it a piece of code, it runs it a bunch of times, and it tells you how long it took.  `timeit` is mostly intended for running a small piece of code a lot of times, you can easily change this.\n",
    "\n",
    "The basic recipe for timeit is:"
   ]
  },
  {
   "cell_type": "code",
   "execution_count": 6,
   "id": "5400db65-9c9f-4968-9790-0d122b42cb61",
   "metadata": {},
   "outputs": [
    {
     "name": "stdout",
     "output_type": "stream",
     "text": [
      "0.010030700000001502\n"
     ]
    }
   ],
   "source": [
    "from timeit import timeit\n",
    "print(timeit(\"100 % 3\"))"
   ]
  },
  {
   "cell_type": "markdown",
   "id": "f507358b-0b81-4707-8cdc-0f0bbda193d2",
   "metadata": {},
   "source": [
    "Note that you need to pass `timeit.timeit()` a string, which gets interpreted as Python code and executed.  We can't pass expressions as arugments to functions--Python will always try to evaluate them and pass the result--so expressions have to be passed as strings.  It's a bit clunky, especially compared to languages like Lisp or Julia, but it allows other elements of Python (mostly on the backend, in the language's implementation) to be much simpler and more secure.\n",
    "\n",
    "By default, timeit will:\n",
    "- Run the snippet 1,000,000 times.\n",
    "- Assume that any variables referenced in the snippet are also defined in the snippet.\n",
    "\n",
    "Both of these behaviors can be changed.\n",
    "- Change the number of times the code runs with the `number=` argument.\n",
    "- Tell `timeit.timeit()` to use variables defined elsewhere in your code with the `globals=` argument.\n",
    "\n",
    "The `globals=` argument needs to be given a `dict`ionary containing `{\"variable_name\": value}` pairs.  E.g., `{\"x\": 10}` will tell `timeit.timeit()` \"when you see the variable `x` in the snippet, it has the value 10 (unless it gets re-defined in the snippet).\"  There's a built-in Python function, `globals()`, which will give you a dictionary of anything defined *in global scope* in your current program.  We're not going to worry too much about the details of what that means, but just know that if you're using `timeit.timeit()` on a line that isn't indented at all, you should be able to pass `globals=globals()` and have everything just work."
   ]
  },
  {
   "cell_type": "code",
   "execution_count": 7,
   "id": "74aa26ad-280a-40bf-b7a1-b3f4a5d1a951",
   "metadata": {},
   "outputs": [
    {
     "name": "stdout",
     "output_type": "stream",
     "text": [
      "0.06899919999999327\n",
      "6.820000000118398e-05\n",
      "7.229999999935899e-05\n"
     ]
    }
   ],
   "source": [
    "x = [1,2,3,4,5,6,7,8,9,10]\n",
    "# print(timeit(\"5 in x\")) # NameError: name 'x' is not defined\n",
    "print(timeit(\"5 in x\", globals=globals())) # 'x' is now the value just defined\n",
    "print(timeit(\"5 in x\", globals=globals(), number=1000)) # only run the snipped 1,000 times\n",
    "\n",
    "# Multi-line strings are useful with timeit.timeit() for longer snippets.\n",
    "# But becareful--the string needs to be all the way at the zero-indent level,\n",
    "# or you'll get weird errors about unexpected indentation.  This makes your code\n",
    "# look kind of ugly, unfortunately.\n",
    "print(timeit(\n",
    "\"\"\"\n",
    "if 5 in x:\n",
    "    found = True\n",
    "else:\n",
    "    found = False\n",
    "\"\"\",\n",
    "    globals=globals(),\n",
    "    number=1000\n",
    "))"
   ]
  },
  {
   "cell_type": "markdown",
   "id": "e86e2d19-a57b-443d-8f59-975de31a71a8",
   "metadata": {},
   "source": [
    "# Profiling your code: Why is my *program* slow?\n",
    "\n",
    "`timeit` is awesome for quick testing of small snippets.  If you're writing your code and you need to know something like \"will it be faster to use integer division here, or do regular division and then convert to an integer?\" then `timeit` is your friend.  But, if you already have a program, and it takes a long time to run, and you want to know what parts are slow (and thus, what parts you should focus on speeding up), `timeit` won't do anything for you: you'll need to turn to a *profiler*.\n",
    "\n",
    "A profiler, in the programming world, is just a program that:\n",
    "\n",
    "1. Run your program.\n",
    "2. Track how long your program spent doing each thing it does.\n",
    "3. Tell you how long each part took to run.\n",
    "\n",
    "They're a bit cumbersome to use at times, but they are the best way to actually figure out why your program is slow and how you can make it go faster.  Python has two profilers in the standard library: `cProfile`--the one you should generally use--and `profile`--the one you should only use if you're trying to customize how the profiler behaves (which you probably won't ever need to do)."
   ]
  },
  {
   "cell_type": "code",
   "execution_count": 8,
   "id": "e62856ce-d136-4b08-aa17-abbc249cb567",
   "metadata": {},
   "outputs": [
    {
     "name": "stdout",
     "output_type": "stream",
     "text": [
      "         5 function calls in 4.996 seconds\n",
      "\n",
      "   Ordered by: standard name\n",
      "\n",
      "   ncalls  tottime  percall  cumtime  percall filename:lineno(function)\n",
      "        1    0.000    0.000    4.996    4.996 1390719897.py:7(my_function)\n",
      "        1    0.000    0.000    4.996    4.996 <string>:1(<module>)\n",
      "        1    0.000    0.000    4.996    4.996 {built-in method builtins.exec}\n",
      "        1    4.996    4.996    4.996    4.996 {built-in method time.sleep}\n",
      "        1    0.000    0.000    0.000    0.000 {method 'disable' of '_lsprof.Profiler' objects}\n",
      "\n",
      "\n",
      "None\n"
     ]
    }
   ],
   "source": [
    "import cProfile\n",
    "import time\n",
    "\n",
    "# a function we want to find the slow spots for.\n",
    "# we'll add a time.sleep() command to artificially increase\n",
    "# the amount of time it takes to run.\n",
    "def my_function(x):\n",
    "    time.sleep(5)\n",
    "    return x >= 10\n",
    "    \n",
    "\n",
    "# like with timeit: give `cProfile.run()` a string to be executed.\n",
    "print(cProfile.run(\"my_function(10)\"))"
   ]
  },
  {
   "cell_type": "markdown",
   "id": "d24ddc30-0588-450e-818c-c443a5bcb45e",
   "metadata": {},
   "source": [
    "There is a *lot* you can customize about how the profiler runs.  You can save the results to a file and then process them with the `pstats` module in the standard library.  You can also run the profiler from the command line if you want to profile an entire program:\n",
    "\n",
    "```bash\n",
    "python -m cProfile [-o output_file] my_program.py\n",
    "```\n",
    "\n",
    "There's a lot to the Python profilers; check the documentation for more details."
   ]
  },
  {
   "cell_type": "markdown",
   "id": "968f3f30-b5a4-4ebc-a6dd-d5a99675ac39",
   "metadata": {},
   "source": [
    "# Numba: Speedy speedy math\n",
    "\n",
    "As fast as Numpy is for doing math, it's still not as fast as we could get.  The fastest possible code would be *compiled* ahead of time down to machine code.  This requires a *compiler*: a program that reads the code we write, \"translates\" it into the 1s and 0s that the computer understands, and usually performs a lot of extra optimizations along the way to get us faster code with the same outputs.  Unfortunately, Python is an interpreted language--it gets executed one line at a time, with very little optimization--which makes writing it easier in some cases, but at the cost of speed.  Even Numpy is still interpreted.  Numpy is using a lot of compiled C code--which is very fast--but there's still Python interpretation that needs to happen.\n",
    "\n",
    "Enter Numba: a library that will compile your functions for you, using something called *just in time* (or JIT) compilation.  The \"just in time\" part isn't something we need to worry about, though.  Basically, Numba gives you free extra speed.  Sometimes a *lot*, with some tweaks to your code.\n",
    "\n",
    "Install Numba with:\n",
    "\n",
    "```bash\n",
    "conda install numba\n",
    "```\n",
    "\n",
    "Note: the currently available versions of Numba require a Numpy version no later than 1.20; the current Numpy versions you can get through Conda are generally newer.  So you may need to use the command:\n",
    "\n",
    "```bash\n",
    "conda install numba numpy<=1.20\n",
    "```\n",
    "\n",
    "Then import the `jit` and `njit` decorators.  `njit` is generally faster, but doesn't work on as much Python code (it requires things to be more directly translatable to simpler languages, but it can generate much faster code if that's the case).  `jit` is more flexible, but not always as fast.\n",
    "\n",
    "`jit`/`njit` are what are called *decorators.*  This is a piece of pretty complex Python concept that I've intentionally not covered.  It's closely related to the idea of a *closure* in general programming/computer science, but for our purposes, we're going to treat it like a little bit of magic and not worry about what's going on.  Basically: we write `@jit`/`@njit` on the line right before the function we want to speed up.  There are a few arguments we can pass to the decorators, e.g., `@njit(nogil=True)`.  Not having the parentheses uses all the default settings."
   ]
  },
  {
   "cell_type": "code",
   "execution_count": 9,
   "id": "8b2b3768-28f8-4669-bbdd-adbd1cbf1ff0",
   "metadata": {},
   "outputs": [
    {
     "name": "stdout",
     "output_type": "stream",
     "text": [
      "Dot product, 10,000 times, normal Python: 2.3463404999999966\n",
      "Dot product, 10,000 times, Numba acceleration: 0.5256425999999976\n"
     ]
    }
   ],
   "source": [
    "from numba import jit, njit\n",
    "import numpy as np\n",
    "from timeit import timeit\n",
    "\n",
    "def dot_product(x, y):\n",
    "    total = 0\n",
    "    for i in range(len(x)):\n",
    "        total = total + x[i] * y[i]\n",
    "    return total\n",
    "\n",
    "# can also ust @njit here--this code doesn't benefit much from it\n",
    "@jit\n",
    "def dot_product_numba(x, y):\n",
    "    total = 0\n",
    "    for i in range(len(x)):\n",
    "        total = total + x[i] * y[i]\n",
    "    return total\n",
    "\n",
    "rng = np.random.default_rng()\n",
    "x = rng.random(size=1000)\n",
    "y = rng.random(size=1000)\n",
    "\n",
    "print(\n",
    "    \"Dot product, 10,000 times, normal Python:\",\n",
    "    timeit(\"dot_product(x, y)\", globals=globals(), number=10000)\n",
    ")\n",
    "\n",
    "print(\n",
    "    \"Dot product, 10,000 times, Numba acceleration:\",\n",
    "    timeit(\"dot_product_numba(x, y)\", globals=globals(), number=10000)\n",
    ")"
   ]
  },
  {
   "cell_type": "markdown",
   "id": "bf7fac0f-14b4-4da2-838c-91d3362f04e1",
   "metadata": {},
   "source": [
    "In the above example, `np.dot()` would actually faster for this specific use case--but just adding one decorator to your code gets you a free speedup!"
   ]
  },
  {
   "cell_type": "markdown",
   "id": "b908ce0b-5c59-4c84-9899-97c01501f464",
   "metadata": {},
   "source": [
    "Numba has a lot of depth to it--options for GPU acceleration, using either NVidia or AMD GPUs; very fast, low-level parallelization; and more.  Using all those tricks can actually get your Python code *almost as fast as really good C code*--at the expense of some non-trivial re-writes to your program.  \n",
    "\n",
    "# Cupy: Numpy on your GPU\n",
    "\n",
    "If you have an NVidia GPU, you can install the `cupy` library, which gives you Numpy arrays, but on your GPU.  This has some tradeoffs compared to normal Numpy:\n",
    "\n",
    "- Cupy is generally a drop-in replacement for Numpy *in your code*--they try very hard to re-implement as much of the Numpy API as possible, so that it magically \"just works\" on the GPU.  If you try to pass a Cupy array to a library that expects Numpy arrays, it might throw an error.\n",
    "    - Some changes to recent versions of Numpy are *incompatible* with Cupy, e.g., using `np.random.default_rng()`.\n",
    "    - Some functions' positional arguments may also be different from Numpy, but passing function arguments by name usually solves this.\n",
    "- Cupy will generally be faster than Numpy for the same operations, especially massively parallelizeable ones like matrix multiplication.\n",
    "- Because Cupy is running on your GPU, you will be limited by *your GPU's available RAM*, which will almost always be less than your main system RAM.\n",
    "    - You can get computers/servers/cloud instances with hundreds of gigabytes of RAM.  It might cost a few hundred dollars (or more), but realistically, a few hundred dollars of main system RAM costs about as much as one or two decent GPUs.  Each of those GPUs might have 12-16gb of RAM.  So if you happen to have really, really big arrays, you probably need to use Numpy.\n",
    "- Cupy is really designed for NVidia GPUs, and may not run well on AMD GPUs.  I don't think it'll run at all on Intel graphics.\n",
    "    - There is [expermental support for AMD GPUs](https://docs.cupy.dev/en/v11.0.0b2/install.html#using-cupy-on-amd-gpu-experimental), but since it's only experimental, it may be prone to crashes/bugs/performance issues at this point in time.  (I don't have access to an AMD GPU to test with).\n",
    "- As is generally true for GPU programming, getting data to and from the GPU is the hardest part.  Generally, you'll want to move as many things to the GPU (i.e., into Cupy arrays) as you can, do all your array logic there, and then move them back.  Try to make sure you're only operating on Cupy arrays using other Cupy arrays to avoid the CPU-to-GPU data transfer bottleneck.\n",
    "\n",
    "GPUs excel at *matrix multiplication* and *dot products of very large arrays*--so if you happen to be doing matrix multiplication, expect *huge* speedups.  A lot of other array operations are faster on GPUs too, but matrix multiplication is the most extreme and noteworthy example.\n",
    "\n",
    "Installing Cupy requires installing the `cudatoolkit` package through conda.  This package is required to run general-purpose compute on your NVidia GPU, and it will require that you have a current NVidia driver installed *system-wide* (you can't install NVidia drivers through conda--or at least, you can't do that and expect them to work well).\n",
    "\n",
    "```bash\n",
    "conda install cudatoolkit cupy\n",
    "```\n",
    "\n",
    "From there, just replace Numpy with Cupy in your code."
   ]
  },
  {
   "cell_type": "code",
   "execution_count": 10,
   "id": "20fd4dbe-e1d4-4e38-86a0-a0cde1113076",
   "metadata": {},
   "outputs": [
    {
     "name": "stderr",
     "output_type": "stream",
     "text": [
      "C:\\Users\\andersonh\\Miniconda3\\envs\\PythonForDataAnalysis\\lib\\site-packages\\cupy\\_environment.py:205: UserWarning: CUDA path could not be detected. Set CUDA_PATH environment variable if CuPy fails to load.\n",
      "  warnings.warn(\n"
     ]
    },
    {
     "name": "stdout",
     "output_type": "stream",
     "text": [
      "Cupy, 1000x1000 matrix multiplication, 100 times:  0.5765803999999974\n",
      "Numpy, 1000x1000 matrix multiplication, 100 times:  51.27477349999998\n"
     ]
    }
   ],
   "source": [
    "from timeit import timeit\n",
    "import cupy as cp\n",
    "# cupy does not support numpy's `np.random.rng()` interface.\n",
    "# it does follow Numpy's older--and still supported--\n",
    "# `np.random` interface.\n",
    "cp_x = cp.random.random(size=(1000, 1000))\n",
    "print(\n",
    "    \"Cupy, 1000x1000 matrix multiplication, 100 times: \",\n",
    "    timeit(\"y = cp_x @ cp_x\", globals=globals(), number=100)\n",
    ")\n",
    "\n",
    "import numpy as np\n",
    "np_rng = np.random.default_rng()\n",
    "np_x = np_rng.random(size=(1000, 1000))\n",
    "print(\n",
    "    \"Numpy, 1000x1000 matrix multiplication, 100 times: \",\n",
    "    timeit(\"y = np_x @ np_x\", globals=globals(), number=100)\n",
    ")"
   ]
  },
  {
   "cell_type": "markdown",
   "id": "6d391204-4cad-4d47-a0e9-14ca058aba76",
   "metadata": {},
   "source": [
    "Dang.  That's a nice speedup."
   ]
  },
  {
   "cell_type": "markdown",
   "id": "964841bb-a6da-4e4c-b957-f5f570898d17",
   "metadata": {},
   "source": [
    "# Prettier printing with `pprint` and `icecream`\n",
    "\n",
    "Consider the following dictionary, which is pretty messy and deeply nested:"
   ]
  },
  {
   "cell_type": "code",
   "execution_count": 11,
   "id": "dd0b7885-14e1-49cd-8e82-0a8ae36f5224",
   "metadata": {},
   "outputs": [],
   "source": [
    "my_dict = {\"name\":\"Henry\",\"favorite languages\":{\"python\":{\"rank\":\"2\",\"proficiency\":\"high\"},\"julia\":{\"rank\":\"1\",\"proficiency\":\"medium\"},\"haskell\":{\"rank\":\"3\",\"proficiency\":\"medium-low\"}}, \"degrees\":[[\"Rice\", \"Physics\", \"BA\"], [\"Rice\", \"Linguistics\", \"BA\"], [\"UT Arlington\", \"Linguistics\", \"MA\"]]}"
   ]
  },
  {
   "cell_type": "markdown",
   "id": "339d12a2-d036-481a-aaf2-2b726f438aa4",
   "metadata": {},
   "source": [
    "If we just print it out, we get a hard-to-read mess."
   ]
  },
  {
   "cell_type": "code",
   "execution_count": 12,
   "id": "1f45a23c-5ffe-4d76-b106-766c3940b477",
   "metadata": {},
   "outputs": [
    {
     "name": "stdout",
     "output_type": "stream",
     "text": [
      "{'name': 'Henry', 'favorite languages': {'python': {'rank': '2', 'proficiency': 'high'}, 'julia': {'rank': '1', 'proficiency': 'medium'}, 'haskell': {'rank': '3', 'proficiency': 'medium-low'}}, 'degrees': [['Rice', 'Physics', 'BA'], ['Rice', 'Linguistics', 'BA'], ['UT Arlington', 'Linguistics', 'MA']]}\n"
     ]
    }
   ],
   "source": [
    "print(my_dict)"
   ]
  },
  {
   "cell_type": "markdown",
   "id": "9b1a8636-1b4c-4fc9-b431-171e6385946b",
   "metadata": {},
   "source": [
    "We would like to see this a bit more nicely-formatted for us.  There are two major options.  (well, three, if you consider that this can be converted to a JSON and formatted using the JSON library--but we're focused on more general ways to format things nicely).  The first is to use the `pprint` module in the standard library.  This library \"pretty-prints\" (hence the name) data structures you pass to the `pprint.pprint()` function."
   ]
  },
  {
   "cell_type": "code",
   "execution_count": 13,
   "id": "014f97d5-8c44-49b5-a2af-7c0129399e6f",
   "metadata": {},
   "outputs": [
    {
     "name": "stdout",
     "output_type": "stream",
     "text": [
      "{'degrees': [['Rice', 'Physics', 'BA'],\n",
      "             ['Rice', 'Linguistics', 'BA'],\n",
      "             ['UT Arlington', 'Linguistics', 'MA']],\n",
      " 'favorite languages': {'haskell': {'proficiency': 'medium-low', 'rank': '3'},\n",
      "                        'julia': {'proficiency': 'medium', 'rank': '1'},\n",
      "                        'python': {'proficiency': 'high', 'rank': '2'}},\n",
      " 'name': 'Henry'}\n"
     ]
    }
   ],
   "source": [
    "import pprint\n",
    "pprint.pprint(my_dict)"
   ]
  },
  {
   "cell_type": "markdown",
   "id": "e1acf12d-ccfb-4780-a951-81fa7ebc5c18",
   "metadata": {},
   "source": [
    "If you need to get the prett-formatted string, because you want to do something with it later, you can use `pprint.pformat`."
   ]
  },
  {
   "cell_type": "code",
   "execution_count": 14,
   "id": "ab462e4c-45ce-41c0-bbf9-eafacedca012",
   "metadata": {},
   "outputs": [
    {
     "name": "stdout",
     "output_type": "stream",
     "text": [
      "{'degrees': [['Rice', 'Physics', 'BA'],\n",
      "             ['Rice', 'Linguistics', 'BA'],\n",
      "             ['UT Arlington', 'Linguistics', 'MA']],\n",
      " 'favorite languages': {'haskell': {'proficiency': 'medium-low', 'rank': '3'},\n",
      "                        'julia': {'proficiency': 'medium', 'rank': '1'},\n",
      "                        'python': {'proficiency': 'high', 'rank': '2'}},\n",
      " 'name': 'Henry'}\n"
     ]
    }
   ],
   "source": [
    "formatted = pprint.pformat(my_dict)\n",
    "print(formatted)"
   ]
  },
  {
   "cell_type": "markdown",
   "id": "235df83a-8a1b-4bfe-8907-89cc3471fdfb",
   "metadata": {},
   "source": [
    "There are a lot of things you can control with the pretty-printing tools in Python--you can read the `pprint` documentation for details--but I find that just using `pprint.pprint()` usually gets the job done.\n",
    "\n",
    "There is also a third-party library, `icecream`, which has a function in it named `ic()`.  This function behaves like pretty-printing, but it's more designed for debugging and monitoring your program.  Install icecream with:\n",
    "\n",
    "```bash\n",
    "conda install -c conda-forge icecream\n",
    "```\n",
    "\n",
    "(`icecream` is not available in the main `conda` channel--you need to grab it from `conda-forge`)"
   ]
  },
  {
   "cell_type": "code",
   "execution_count": 15,
   "id": "64cc5b9d-8345-4133-aa81-ede649c5fa34",
   "metadata": {},
   "outputs": [
    {
     "name": "stdout",
     "output_type": "stream",
     "text": [
      "Collecting package metadata (current_repodata.json): ...working... done\n",
      "Solving environment: ...working... done\n",
      "\n",
      "# All requested packages already installed.\n",
      "\n"
     ]
    }
   ],
   "source": [
    "!conda install --yes -c conda-forge icecream"
   ]
  },
  {
   "cell_type": "code",
   "execution_count": 16,
   "id": "b986da03-d61a-497a-bae9-537a93625ac1",
   "metadata": {},
   "outputs": [
    {
     "name": "stderr",
     "output_type": "stream",
     "text": [
      "ic| my_dict: {'degrees': [['Rice', 'Physics', 'BA'],\n",
      "                          ['Rice', 'Linguistics', 'BA'],\n",
      "                          ['UT Arlington', 'Linguistics', 'MA']],\n",
      "              'favorite languages': {'haskell': {'proficiency': 'medium-low', 'rank': '3'},\n",
      "                                     'julia': {'proficiency': 'medium', 'rank': '1'},\n",
      "                                     'python': {'proficiency': 'high', 'rank': '2'}},\n",
      "              'name': 'Henry'}\n"
     ]
    },
    {
     "data": {
      "text/plain": [
       "{'name': 'Henry',\n",
       " 'favorite languages': {'python': {'rank': '2', 'proficiency': 'high'},\n",
       "  'julia': {'rank': '1', 'proficiency': 'medium'},\n",
       "  'haskell': {'rank': '3', 'proficiency': 'medium-low'}},\n",
       " 'degrees': [['Rice', 'Physics', 'BA'],\n",
       "  ['Rice', 'Linguistics', 'BA'],\n",
       "  ['UT Arlington', 'Linguistics', 'MA']]}"
      ]
     },
     "execution_count": 16,
     "metadata": {},
     "output_type": "execute_result"
    }
   ],
   "source": [
    "from icecream import ic\n",
    "ic(my_dict)"
   ]
  },
  {
   "cell_type": "markdown",
   "id": "8ae072bc-2b34-455b-857a-7bd932c3cbe5",
   "metadata": {},
   "source": [
    "Note the red text in the above output--that's the part you usually care about.  In PyCharm or anything other than Jupyter, the output generally looks nicer, including supporting colors!"
   ]
  },
  {
   "cell_type": "markdown",
   "id": "0432de4f-2d8c-4193-a551-965e5be4ed81",
   "metadata": {},
   "source": [
    "# `dbm`: easy interfaces with simple DBM-style databases\n",
    "\n",
    "[DBM](https://en.wikipedia.org/wiki/DBM_(computing)) databases are very old, very simple, and very useful.  They're extremely simple forms of key-value storage (like even more simple JSONs): all keys and values must be strings (or bytes) when accessing a database via Python.  DBM databases aren't very fault-tolerant, robust, or flexible as other database options, so their use cases are fairly limited these days.  (especially with SQLite--see a bit further down in this notebook--being as easy to use, similarly fast, and way more flexible and widely available).  That said, sometimes the simplicity of a DBM database is all you need.\n",
    "\n",
    "The Python interface to DBM is *very* simple, and mostly looks like accessing a dictionary.  Sometimes this simplicity is all you need, which can make `dbm` pretty useful in spite of its limitations. (other database interfaces require more code and more complexity).  The only tricky-ish part is that the file modes are a bit different than normal files; check the `dbm` documentation in Python for details."
   ]
  },
  {
   "cell_type": "code",
   "execution_count": 17,
   "id": "dafe6470-97f2-4a42-a60e-8ce5bb5c61df",
   "metadata": {},
   "outputs": [
    {
     "name": "stdout",
     "output_type": "stream",
     "text": [
      "b'Data scientist'\n"
     ]
    }
   ],
   "source": [
    "import dbm\n",
    "# \"c\" mode -> create a blank database, open in read+write mode\n",
    "with dbm.open(\"my_dbm_database.db\", \"c\") as my_db:\n",
    "    my_db[\"Henry\"] = \"Data scientist\"\n",
    "    # this will throw an error\n",
    "    # my_db[\"Number\"] = 100\n",
    "    \n",
    "# there is now a DBM database stored in `my_dbm_database.db1\n",
    "# which can be re-loaded and accessed later.\n",
    "with dbm.open(\"my_dbm_database.db\", \"r\") as my_db:\n",
    "    # note that text stored in these databases gets converted to bytestrings\n",
    "    print(my_db[\"Henry\"])"
   ]
  },
  {
   "cell_type": "markdown",
   "id": "b5c6f7ec-fbd5-4b1e-9f2d-6109e567e056",
   "metadata": {},
   "source": [
    "# sqlite3: Easily work with local SQL databases\n",
    "\n",
    "Note: if you don't have any experience with SQL, this library won't be any use to you--but SQL is extremely easy to learn.  It's definitely something you *should* learn, but it goes beyond the scope of what we're covering in these workshops.\n",
    "\n",
    "Most SQL databases rely on a *client-server* architecture: you have one program running that hosts the database and runs queries, and a separate program that lets the user write queries.  These are generally on different machines: the server is running on, well, a server somewhere, and the client program is running on your machine, sending your queries to the server to be executed.  This is great for something like a central database for a company, school, or department.\n",
    "\n",
    "But, SQL is *super* convenient for writing all sorts of data queries.  [SQLite](https://www.sqlite.com/index.html) is a variant of SQL that makes it easy to use SQL in your own projects without needing a whole, dedicated database.  SQLite differs from other SQL implementations in a few important ways:\n",
    "- It is *self-contained.*  There is no server and client.  SQLite reads and writes databases to and from single files on your computer.\n",
    "- It is *zero-configuration.*  Most SQL server implementations need a fair bit of configuration before you can use them, both on the server and client end.  SQLite requires nothing other than pointing it at the right file to get up and running.\n",
    "- It uses a very simple, stripped down version of the SQL language.  It doesn't have many of the conveniences of bigger implementations, but it's also not designed for the same kinds of complex queries and workloads.\n",
    "\n",
    "In other words: SQLite is an amazing choice when your project would benefit from a (usually small) database.  But it is *not* a good choice for running your company or school's central database off of.\n",
    "\n",
    "Python's standard library has a `sqlite3` module that lets you interact with SQLite databases very easily."
   ]
  },
  {
   "cell_type": "code",
   "execution_count": 18,
   "id": "f5d234cf-7665-4d35-b04d-8b0c8cce9999",
   "metadata": {},
   "outputs": [
    {
     "name": "stdout",
     "output_type": "stream",
     "text": [
      "<sqlite3.Cursor object at 0x0000028824AD6B90>\n",
      "(1, 'Henry')\n",
      "(2, 'George')\n",
      "(3, 'Justin')\n"
     ]
    }
   ],
   "source": [
    "import sqlite3\n",
    "\n",
    "with sqlite3.connect(\"my_sqlite_db.db\") as con:\n",
    "    # interactiong with the database go through the `cursor` object.\n",
    "    # `cursor.execute(\"some SQL code\")` executes SQL queries in the\n",
    "    # database.\n",
    "    cursor = con.cursor()\n",
    "    \n",
    "    # create a table\n",
    "    cursor.execute(\"drop table if exists TestTable\")\n",
    "    cursor.execute(\"create table TestTable (id int, name text)\")\n",
    "    \n",
    "    cursor.execute(\"insert into TestTable values (1, 'Henry')\")\n",
    "    cursor.execute(\"insert into TestTable values (2, 'George')\")\n",
    "    cursor.execute(\"insert into TestTable values (3, 'Justin')\")\n",
    "    \n",
    "    # call con.commit()--not cursor.commit()--to save any changes\n",
    "    con.commit()\n",
    "    \n",
    "    # querying the database returns an object containing the query results\n",
    "    query_result = cursor.execute(\"select * from TestTable\")\n",
    "    print(query_result)\n",
    "    \n",
    "    # iterate through it to get results as tuples, one tuple per row, one entry\n",
    "    # per column.\n",
    "    for row in query_result:\n",
    "        print(row)"
   ]
  },
  {
   "cell_type": "markdown",
   "id": "58ce2c13-c84e-4b4d-89f6-3bdfa2a24c4f",
   "metadata": {},
   "source": [
    "If you know some SQL, you can use pretty much all of that knowledge in SQLite.  Joins, filters, creating table, etc.  The only thing to be careful of is how SQLite handles data types: it is not as strict as other SQL databases when it comes to enforcing types.  It'll often coerce types, and it's happy to have a column that stores a mix of integer and text values.  Usually this isn't an issue--if you're using SQLite, you probably aren't doing something where the type checking and such has to be handled by the database itself.  Either you can handle that in your own code, or you have little enough data it isn't an issue, or something else.  But, it can be a bit of a stumbling block for people coming from other SQL implementations."
   ]
  },
  {
   "cell_type": "markdown",
   "id": "e7c2dfb6-1650-452e-98d2-6c100c444490",
   "metadata": {},
   "source": [
    "# And many other databases!\n",
    "\n",
    "Basically any other database system you can think of will have some Python interface.\n",
    "- Redis (through the `redis` third-party library), a blazing fast key-value database that's a lot more robust and flexible than dbm.\n",
    "- MySQL, Oracle SQL, Microsoft SQL, and basically any other major SQL database (other than SQLite) via the `sqlalchemy` third-party library.  (and others--but `sqlalchemy` is the most widely used one).\n",
    "- MongoDB via the `pymongo` third-pary library.\n",
    "- Numerous graph databases, NoSQL databases, and more.\n",
    "\n",
    "If you need a database, there'll be some way to access it in Python."
   ]
  },
  {
   "cell_type": "code",
   "execution_count": null,
   "id": "5adccddd-a3e3-462f-8dc0-c8d6415e09c0",
   "metadata": {},
   "outputs": [],
   "source": []
  }
 ],
 "metadata": {
  "kernelspec": {
   "display_name": "Python 3 (ipykernel)",
   "language": "python",
   "name": "python3"
  },
  "language_info": {
   "codemirror_mode": {
    "name": "ipython",
    "version": 3
   },
   "file_extension": ".py",
   "mimetype": "text/x-python",
   "name": "python",
   "nbconvert_exporter": "python",
   "pygments_lexer": "ipython3",
   "version": "3.9.7"
  }
 },
 "nbformat": 4,
 "nbformat_minor": 5
}
